{
  "cells": [
    {
      "cell_type": "markdown",
      "source": [
        "Importing Required libaries"
      ],
      "metadata": {
        "id": "LWcsGCXP0BZf"
      }
    },
    {
      "cell_type": "code",
      "execution_count": 1,
      "metadata": {
        "id": "ggkU4jrrrqK8",
        "colab": {
          "base_uri": "https://localhost:8080/"
        },
        "outputId": "131d29cc-e10a-4cf6-a2b1-0929732be682"
      },
      "outputs": [
        {
          "output_type": "stream",
          "name": "stderr",
          "text": [
            "[nltk_data] Downloading package wordnet to /root/nltk_data...\n",
            "[nltk_data]   Package wordnet is already up-to-date!\n",
            "[nltk_data] Downloading package stopwords to /root/nltk_data...\n",
            "[nltk_data]   Package stopwords is already up-to-date!\n",
            "[nltk_data] Downloading package punkt to /root/nltk_data...\n",
            "[nltk_data]   Package punkt is already up-to-date!\n"
          ]
        }
      ],
      "source": [
        "import numpy as np\n",
        "import pandas as pd\n",
        "import matplotlib.pyplot as plt\n",
        "import re\n",
        "import nltk\n",
        "import spacy\n",
        "import string\n",
        "\n",
        "from sklearn.feature_extraction.text import CountVectorizer\n",
        "from sklearn.feature_extraction.text import TfidfVectorizer\n",
        "from nltk.corpus import stopwords\n",
        "from nltk.tokenize import word_tokenize\n",
        "from nltk.stem import WordNetLemmatizer\n",
        "nltk.download('wordnet')\n",
        "\n",
        "nltk.download('stopwords')\n",
        "nltk.download('punkt')\n",
        "from gensim.utils import simple_preprocess"
      ]
    },
    {
      "cell_type": "markdown",
      "source": [
        "Loading the Dataset from Google Drive"
      ],
      "metadata": {
        "id": "2eHtafWe0G25"
      }
    },
    {
      "cell_type": "code",
      "execution_count": 2,
      "metadata": {
        "colab": {
          "base_uri": "https://localhost:8080/"
        },
        "id": "6I-wZFTSr5cJ",
        "outputId": "c78ae813-28b0-466f-e66d-6cb1eba53e67"
      },
      "outputs": [
        {
          "output_type": "stream",
          "name": "stdout",
          "text": [
            "Drive already mounted at /content/drive; to attempt to forcibly remount, call drive.mount(\"/content/drive\", force_remount=True).\n"
          ]
        }
      ],
      "source": [
        "from google.colab import drive\n",
        "drive.mount('/content/drive')"
      ]
    },
    {
      "cell_type": "markdown",
      "source": [
        "Reviewing the dataset"
      ],
      "metadata": {
        "id": "FuaQrs3c0MkR"
      }
    },
    {
      "cell_type": "code",
      "source": [
        "data = pd.read_csv('/content/drive/MyDrive/Exam/labeledTrainData.tsv', delimiter='\\t')"
      ],
      "metadata": {
        "id": "f0k32g8dzOqM"
      },
      "execution_count": 3,
      "outputs": []
    },
    {
      "cell_type": "code",
      "source": [
        "data.head()"
      ],
      "metadata": {
        "colab": {
          "base_uri": "https://localhost:8080/",
          "height": 206
        },
        "id": "Dh5g6_2yzW-E",
        "outputId": "0a2a4a44-8f08-463d-a5f8-9cb46c4433c2"
      },
      "execution_count": 4,
      "outputs": [
        {
          "output_type": "execute_result",
          "data": {
            "text/plain": [
              "       id  sentiment                                             review\n",
              "0  5814_8          1  With all this stuff going down at the moment w...\n",
              "1  2381_9          1  \\The Classic War of the Worlds\\\" by Timothy Hi...\n",
              "2  7759_3          0  The film starts with a manager (Nicholas Bell)...\n",
              "3  3630_4          0  It must be assumed that those who praised this...\n",
              "4  9495_8          1  Superbly trashy and wondrously unpretentious 8..."
            ],
            "text/html": [
              "\n",
              "  <div id=\"df-d1da22fa-0bf6-48ee-9d5e-9897bc7d2e2e\" class=\"colab-df-container\">\n",
              "    <div>\n",
              "<style scoped>\n",
              "    .dataframe tbody tr th:only-of-type {\n",
              "        vertical-align: middle;\n",
              "    }\n",
              "\n",
              "    .dataframe tbody tr th {\n",
              "        vertical-align: top;\n",
              "    }\n",
              "\n",
              "    .dataframe thead th {\n",
              "        text-align: right;\n",
              "    }\n",
              "</style>\n",
              "<table border=\"1\" class=\"dataframe\">\n",
              "  <thead>\n",
              "    <tr style=\"text-align: right;\">\n",
              "      <th></th>\n",
              "      <th>id</th>\n",
              "      <th>sentiment</th>\n",
              "      <th>review</th>\n",
              "    </tr>\n",
              "  </thead>\n",
              "  <tbody>\n",
              "    <tr>\n",
              "      <th>0</th>\n",
              "      <td>5814_8</td>\n",
              "      <td>1</td>\n",
              "      <td>With all this stuff going down at the moment w...</td>\n",
              "    </tr>\n",
              "    <tr>\n",
              "      <th>1</th>\n",
              "      <td>2381_9</td>\n",
              "      <td>1</td>\n",
              "      <td>\\The Classic War of the Worlds\\\" by Timothy Hi...</td>\n",
              "    </tr>\n",
              "    <tr>\n",
              "      <th>2</th>\n",
              "      <td>7759_3</td>\n",
              "      <td>0</td>\n",
              "      <td>The film starts with a manager (Nicholas Bell)...</td>\n",
              "    </tr>\n",
              "    <tr>\n",
              "      <th>3</th>\n",
              "      <td>3630_4</td>\n",
              "      <td>0</td>\n",
              "      <td>It must be assumed that those who praised this...</td>\n",
              "    </tr>\n",
              "    <tr>\n",
              "      <th>4</th>\n",
              "      <td>9495_8</td>\n",
              "      <td>1</td>\n",
              "      <td>Superbly trashy and wondrously unpretentious 8...</td>\n",
              "    </tr>\n",
              "  </tbody>\n",
              "</table>\n",
              "</div>\n",
              "    <div class=\"colab-df-buttons\">\n",
              "\n",
              "  <div class=\"colab-df-container\">\n",
              "    <button class=\"colab-df-convert\" onclick=\"convertToInteractive('df-d1da22fa-0bf6-48ee-9d5e-9897bc7d2e2e')\"\n",
              "            title=\"Convert this dataframe to an interactive table.\"\n",
              "            style=\"display:none;\">\n",
              "\n",
              "  <svg xmlns=\"http://www.w3.org/2000/svg\" height=\"24px\" viewBox=\"0 -960 960 960\">\n",
              "    <path d=\"M120-120v-720h720v720H120Zm60-500h600v-160H180v160Zm220 220h160v-160H400v160Zm0 220h160v-160H400v160ZM180-400h160v-160H180v160Zm440 0h160v-160H620v160ZM180-180h160v-160H180v160Zm440 0h160v-160H620v160Z\"/>\n",
              "  </svg>\n",
              "    </button>\n",
              "\n",
              "  <style>\n",
              "    .colab-df-container {\n",
              "      display:flex;\n",
              "      gap: 12px;\n",
              "    }\n",
              "\n",
              "    .colab-df-convert {\n",
              "      background-color: #E8F0FE;\n",
              "      border: none;\n",
              "      border-radius: 50%;\n",
              "      cursor: pointer;\n",
              "      display: none;\n",
              "      fill: #1967D2;\n",
              "      height: 32px;\n",
              "      padding: 0 0 0 0;\n",
              "      width: 32px;\n",
              "    }\n",
              "\n",
              "    .colab-df-convert:hover {\n",
              "      background-color: #E2EBFA;\n",
              "      box-shadow: 0px 1px 2px rgba(60, 64, 67, 0.3), 0px 1px 3px 1px rgba(60, 64, 67, 0.15);\n",
              "      fill: #174EA6;\n",
              "    }\n",
              "\n",
              "    .colab-df-buttons div {\n",
              "      margin-bottom: 4px;\n",
              "    }\n",
              "\n",
              "    [theme=dark] .colab-df-convert {\n",
              "      background-color: #3B4455;\n",
              "      fill: #D2E3FC;\n",
              "    }\n",
              "\n",
              "    [theme=dark] .colab-df-convert:hover {\n",
              "      background-color: #434B5C;\n",
              "      box-shadow: 0px 1px 3px 1px rgba(0, 0, 0, 0.15);\n",
              "      filter: drop-shadow(0px 1px 2px rgba(0, 0, 0, 0.3));\n",
              "      fill: #FFFFFF;\n",
              "    }\n",
              "  </style>\n",
              "\n",
              "    <script>\n",
              "      const buttonEl =\n",
              "        document.querySelector('#df-d1da22fa-0bf6-48ee-9d5e-9897bc7d2e2e button.colab-df-convert');\n",
              "      buttonEl.style.display =\n",
              "        google.colab.kernel.accessAllowed ? 'block' : 'none';\n",
              "\n",
              "      async function convertToInteractive(key) {\n",
              "        const element = document.querySelector('#df-d1da22fa-0bf6-48ee-9d5e-9897bc7d2e2e');\n",
              "        const dataTable =\n",
              "          await google.colab.kernel.invokeFunction('convertToInteractive',\n",
              "                                                    [key], {});\n",
              "        if (!dataTable) return;\n",
              "\n",
              "        const docLinkHtml = 'Like what you see? Visit the ' +\n",
              "          '<a target=\"_blank\" href=https://colab.research.google.com/notebooks/data_table.ipynb>data table notebook</a>'\n",
              "          + ' to learn more about interactive tables.';\n",
              "        element.innerHTML = '';\n",
              "        dataTable['output_type'] = 'display_data';\n",
              "        await google.colab.output.renderOutput(dataTable, element);\n",
              "        const docLink = document.createElement('div');\n",
              "        docLink.innerHTML = docLinkHtml;\n",
              "        element.appendChild(docLink);\n",
              "      }\n",
              "    </script>\n",
              "  </div>\n",
              "\n",
              "\n",
              "<div id=\"df-b571559c-21c9-4149-ac60-c5685b30e319\">\n",
              "  <button class=\"colab-df-quickchart\" onclick=\"quickchart('df-b571559c-21c9-4149-ac60-c5685b30e319')\"\n",
              "            title=\"Suggest charts\"\n",
              "            style=\"display:none;\">\n",
              "\n",
              "<svg xmlns=\"http://www.w3.org/2000/svg\" height=\"24px\"viewBox=\"0 0 24 24\"\n",
              "     width=\"24px\">\n",
              "    <g>\n",
              "        <path d=\"M19 3H5c-1.1 0-2 .9-2 2v14c0 1.1.9 2 2 2h14c1.1 0 2-.9 2-2V5c0-1.1-.9-2-2-2zM9 17H7v-7h2v7zm4 0h-2V7h2v10zm4 0h-2v-4h2v4z\"/>\n",
              "    </g>\n",
              "</svg>\n",
              "  </button>\n",
              "\n",
              "<style>\n",
              "  .colab-df-quickchart {\n",
              "      --bg-color: #E8F0FE;\n",
              "      --fill-color: #1967D2;\n",
              "      --hover-bg-color: #E2EBFA;\n",
              "      --hover-fill-color: #174EA6;\n",
              "      --disabled-fill-color: #AAA;\n",
              "      --disabled-bg-color: #DDD;\n",
              "  }\n",
              "\n",
              "  [theme=dark] .colab-df-quickchart {\n",
              "      --bg-color: #3B4455;\n",
              "      --fill-color: #D2E3FC;\n",
              "      --hover-bg-color: #434B5C;\n",
              "      --hover-fill-color: #FFFFFF;\n",
              "      --disabled-bg-color: #3B4455;\n",
              "      --disabled-fill-color: #666;\n",
              "  }\n",
              "\n",
              "  .colab-df-quickchart {\n",
              "    background-color: var(--bg-color);\n",
              "    border: none;\n",
              "    border-radius: 50%;\n",
              "    cursor: pointer;\n",
              "    display: none;\n",
              "    fill: var(--fill-color);\n",
              "    height: 32px;\n",
              "    padding: 0;\n",
              "    width: 32px;\n",
              "  }\n",
              "\n",
              "  .colab-df-quickchart:hover {\n",
              "    background-color: var(--hover-bg-color);\n",
              "    box-shadow: 0 1px 2px rgba(60, 64, 67, 0.3), 0 1px 3px 1px rgba(60, 64, 67, 0.15);\n",
              "    fill: var(--button-hover-fill-color);\n",
              "  }\n",
              "\n",
              "  .colab-df-quickchart-complete:disabled,\n",
              "  .colab-df-quickchart-complete:disabled:hover {\n",
              "    background-color: var(--disabled-bg-color);\n",
              "    fill: var(--disabled-fill-color);\n",
              "    box-shadow: none;\n",
              "  }\n",
              "\n",
              "  .colab-df-spinner {\n",
              "    border: 2px solid var(--fill-color);\n",
              "    border-color: transparent;\n",
              "    border-bottom-color: var(--fill-color);\n",
              "    animation:\n",
              "      spin 1s steps(1) infinite;\n",
              "  }\n",
              "\n",
              "  @keyframes spin {\n",
              "    0% {\n",
              "      border-color: transparent;\n",
              "      border-bottom-color: var(--fill-color);\n",
              "      border-left-color: var(--fill-color);\n",
              "    }\n",
              "    20% {\n",
              "      border-color: transparent;\n",
              "      border-left-color: var(--fill-color);\n",
              "      border-top-color: var(--fill-color);\n",
              "    }\n",
              "    30% {\n",
              "      border-color: transparent;\n",
              "      border-left-color: var(--fill-color);\n",
              "      border-top-color: var(--fill-color);\n",
              "      border-right-color: var(--fill-color);\n",
              "    }\n",
              "    40% {\n",
              "      border-color: transparent;\n",
              "      border-right-color: var(--fill-color);\n",
              "      border-top-color: var(--fill-color);\n",
              "    }\n",
              "    60% {\n",
              "      border-color: transparent;\n",
              "      border-right-color: var(--fill-color);\n",
              "    }\n",
              "    80% {\n",
              "      border-color: transparent;\n",
              "      border-right-color: var(--fill-color);\n",
              "      border-bottom-color: var(--fill-color);\n",
              "    }\n",
              "    90% {\n",
              "      border-color: transparent;\n",
              "      border-bottom-color: var(--fill-color);\n",
              "    }\n",
              "  }\n",
              "</style>\n",
              "\n",
              "  <script>\n",
              "    async function quickchart(key) {\n",
              "      const quickchartButtonEl =\n",
              "        document.querySelector('#' + key + ' button');\n",
              "      quickchartButtonEl.disabled = true;  // To prevent multiple clicks.\n",
              "      quickchartButtonEl.classList.add('colab-df-spinner');\n",
              "      try {\n",
              "        const charts = await google.colab.kernel.invokeFunction(\n",
              "            'suggestCharts', [key], {});\n",
              "      } catch (error) {\n",
              "        console.error('Error during call to suggestCharts:', error);\n",
              "      }\n",
              "      quickchartButtonEl.classList.remove('colab-df-spinner');\n",
              "      quickchartButtonEl.classList.add('colab-df-quickchart-complete');\n",
              "    }\n",
              "    (() => {\n",
              "      let quickchartButtonEl =\n",
              "        document.querySelector('#df-b571559c-21c9-4149-ac60-c5685b30e319 button');\n",
              "      quickchartButtonEl.style.display =\n",
              "        google.colab.kernel.accessAllowed ? 'block' : 'none';\n",
              "    })();\n",
              "  </script>\n",
              "</div>\n",
              "\n",
              "    </div>\n",
              "  </div>\n"
            ]
          },
          "metadata": {},
          "execution_count": 4
        }
      ]
    },
    {
      "cell_type": "code",
      "source": [
        "data.info()"
      ],
      "metadata": {
        "colab": {
          "base_uri": "https://localhost:8080/"
        },
        "id": "I_2-0GEu1Vls",
        "outputId": "fac664f5-3d1f-4778-a474-4a286d5d77d1"
      },
      "execution_count": 5,
      "outputs": [
        {
          "output_type": "stream",
          "name": "stdout",
          "text": [
            "<class 'pandas.core.frame.DataFrame'>\n",
            "RangeIndex: 25000 entries, 0 to 24999\n",
            "Data columns (total 3 columns):\n",
            " #   Column     Non-Null Count  Dtype \n",
            "---  ------     --------------  ----- \n",
            " 0   id         25000 non-null  object\n",
            " 1   sentiment  25000 non-null  int64 \n",
            " 2   review     25000 non-null  object\n",
            "dtypes: int64(1), object(2)\n",
            "memory usage: 586.1+ KB\n"
          ]
        }
      ]
    },
    {
      "cell_type": "code",
      "source": [
        "data.dtypes"
      ],
      "metadata": {
        "colab": {
          "base_uri": "https://localhost:8080/"
        },
        "id": "5HYUseaT1W0O",
        "outputId": "76b93414-9f80-403a-b255-acf6901f2386"
      },
      "execution_count": 6,
      "outputs": [
        {
          "output_type": "execute_result",
          "data": {
            "text/plain": [
              "id           object\n",
              "sentiment     int64\n",
              "review       object\n",
              "dtype: object"
            ]
          },
          "metadata": {},
          "execution_count": 6
        }
      ]
    },
    {
      "cell_type": "code",
      "source": [
        "data.shape"
      ],
      "metadata": {
        "colab": {
          "base_uri": "https://localhost:8080/"
        },
        "id": "bqjWM46q1Y9i",
        "outputId": "ddf2b88c-3858-4e21-9275-220eb47e0edb"
      },
      "execution_count": 7,
      "outputs": [
        {
          "output_type": "execute_result",
          "data": {
            "text/plain": [
              "(25000, 3)"
            ]
          },
          "metadata": {},
          "execution_count": 7
        }
      ]
    },
    {
      "cell_type": "markdown",
      "source": [
        "Checking for missing values"
      ],
      "metadata": {
        "id": "em1oOlGa1nbk"
      }
    },
    {
      "cell_type": "code",
      "source": [
        "data.isna().sum()"
      ],
      "metadata": {
        "colab": {
          "base_uri": "https://localhost:8080/"
        },
        "id": "Wc0yhPNq1ffj",
        "outputId": "fe1bbdb7-7c12-4a49-96d8-d169e20ef499"
      },
      "execution_count": 8,
      "outputs": [
        {
          "output_type": "execute_result",
          "data": {
            "text/plain": [
              "id           0\n",
              "sentiment    0\n",
              "review       0\n",
              "dtype: int64"
            ]
          },
          "metadata": {},
          "execution_count": 8
        }
      ]
    },
    {
      "cell_type": "code",
      "source": [
        "data['sentiment'].value_counts()"
      ],
      "metadata": {
        "colab": {
          "base_uri": "https://localhost:8080/"
        },
        "id": "zg53kvHT1qUb",
        "outputId": "0a1feb87-8ec0-4401-9304-666875d36961"
      },
      "execution_count": 9,
      "outputs": [
        {
          "output_type": "execute_result",
          "data": {
            "text/plain": [
              "1    12500\n",
              "0    12500\n",
              "Name: sentiment, dtype: int64"
            ]
          },
          "metadata": {},
          "execution_count": 9
        }
      ]
    },
    {
      "cell_type": "code",
      "source": [
        "data.columns"
      ],
      "metadata": {
        "id": "WunGBbd91wXO",
        "colab": {
          "base_uri": "https://localhost:8080/"
        },
        "outputId": "9dbf5360-3f35-4bf0-f32a-69d46315cef9"
      },
      "execution_count": 10,
      "outputs": [
        {
          "output_type": "execute_result",
          "data": {
            "text/plain": [
              "Index(['id', 'sentiment', 'review'], dtype='object')"
            ]
          },
          "metadata": {},
          "execution_count": 10
        }
      ]
    },
    {
      "cell_type": "markdown",
      "source": [
        "Removing punctuations"
      ],
      "metadata": {
        "id": "GNjj_RsB3bKe"
      }
    },
    {
      "cell_type": "code",
      "source": [
        "PTR = string.punctuation\n",
        "def r_pun(text):\n",
        "    return text.translate(str.maketrans('', '', PTR))\n",
        "\n",
        "\n",
        "data['review'] = data['review'].apply(lambda text: r_pun(text))"
      ],
      "metadata": {
        "id": "pNx8rgKz3Rie"
      },
      "execution_count": 16,
      "outputs": []
    },
    {
      "cell_type": "markdown",
      "source": [
        "Lowercasing"
      ],
      "metadata": {
        "id": "jIB_DE0KT_i-"
      }
    },
    {
      "cell_type": "code",
      "source": [
        "data['review'] = data['review'].apply(lambda x:x.lower())"
      ],
      "metadata": {
        "id": "N5G2C_TDT6Q7"
      },
      "execution_count": 12,
      "outputs": []
    },
    {
      "cell_type": "markdown",
      "source": [
        "Stopword removal"
      ],
      "metadata": {
        "id": "gfhTDhU734X1"
      }
    },
    {
      "cell_type": "code",
      "source": [
        "from nltk.corpus import stopwords\n",
        "s_list = stopwords.words('english')\n",
        "data['review'] = data['review'].apply(lambda x: [item for item in x.split() if item not in s_list]).apply(lambda x:\" \".join(x))"
      ],
      "metadata": {
        "id": "d4JFIKF53z0u"
      },
      "execution_count": 17,
      "outputs": []
    },
    {
      "cell_type": "markdown",
      "source": [
        "Lemmatization"
      ],
      "metadata": {
        "id": "aCJSzwR14ndk"
      }
    },
    {
      "cell_type": "code",
      "source": [
        "from nltk.stem import WordNetLemmatizer\n",
        "\n",
        "lemma = WordNetLemmatizer()\n",
        "def lemmatize_words(text):\n",
        "    return \" \".join([lemma.lemmatize(word) for word in text.split()])\n",
        "\n",
        "data[\"review\"] = data[\"review\"].apply(lambda text: lemmatize_words(text))\n",
        "data.head()"
      ],
      "metadata": {
        "colab": {
          "base_uri": "https://localhost:8080/",
          "height": 206
        },
        "id": "mQqBgp6c4CHC",
        "outputId": "086a3328-6ff3-4414-8f95-57637bba3362"
      },
      "execution_count": 18,
      "outputs": [
        {
          "output_type": "execute_result",
          "data": {
            "text/plain": [
              "       id  sentiment                                             review\n",
              "0  5814_8          1  stuff going moment mj ive started listening mu...\n",
              "1  2381_9          1  classic war world timothy hines entertaining f...\n",
              "2  7759_3          0  film start manager nicholas bell giving welcom...\n",
              "3  3630_4          0  must assumed praised film greatest filmed oper...\n",
              "4  9495_8          1  superbly trashy wondrously unpretentious 80 ex..."
            ],
            "text/html": [
              "\n",
              "  <div id=\"df-80dd6d07-0427-4bf4-b2f2-c0f8fbef4bef\" class=\"colab-df-container\">\n",
              "    <div>\n",
              "<style scoped>\n",
              "    .dataframe tbody tr th:only-of-type {\n",
              "        vertical-align: middle;\n",
              "    }\n",
              "\n",
              "    .dataframe tbody tr th {\n",
              "        vertical-align: top;\n",
              "    }\n",
              "\n",
              "    .dataframe thead th {\n",
              "        text-align: right;\n",
              "    }\n",
              "</style>\n",
              "<table border=\"1\" class=\"dataframe\">\n",
              "  <thead>\n",
              "    <tr style=\"text-align: right;\">\n",
              "      <th></th>\n",
              "      <th>id</th>\n",
              "      <th>sentiment</th>\n",
              "      <th>review</th>\n",
              "    </tr>\n",
              "  </thead>\n",
              "  <tbody>\n",
              "    <tr>\n",
              "      <th>0</th>\n",
              "      <td>5814_8</td>\n",
              "      <td>1</td>\n",
              "      <td>stuff going moment mj ive started listening mu...</td>\n",
              "    </tr>\n",
              "    <tr>\n",
              "      <th>1</th>\n",
              "      <td>2381_9</td>\n",
              "      <td>1</td>\n",
              "      <td>classic war world timothy hines entertaining f...</td>\n",
              "    </tr>\n",
              "    <tr>\n",
              "      <th>2</th>\n",
              "      <td>7759_3</td>\n",
              "      <td>0</td>\n",
              "      <td>film start manager nicholas bell giving welcom...</td>\n",
              "    </tr>\n",
              "    <tr>\n",
              "      <th>3</th>\n",
              "      <td>3630_4</td>\n",
              "      <td>0</td>\n",
              "      <td>must assumed praised film greatest filmed oper...</td>\n",
              "    </tr>\n",
              "    <tr>\n",
              "      <th>4</th>\n",
              "      <td>9495_8</td>\n",
              "      <td>1</td>\n",
              "      <td>superbly trashy wondrously unpretentious 80 ex...</td>\n",
              "    </tr>\n",
              "  </tbody>\n",
              "</table>\n",
              "</div>\n",
              "    <div class=\"colab-df-buttons\">\n",
              "\n",
              "  <div class=\"colab-df-container\">\n",
              "    <button class=\"colab-df-convert\" onclick=\"convertToInteractive('df-80dd6d07-0427-4bf4-b2f2-c0f8fbef4bef')\"\n",
              "            title=\"Convert this dataframe to an interactive table.\"\n",
              "            style=\"display:none;\">\n",
              "\n",
              "  <svg xmlns=\"http://www.w3.org/2000/svg\" height=\"24px\" viewBox=\"0 -960 960 960\">\n",
              "    <path d=\"M120-120v-720h720v720H120Zm60-500h600v-160H180v160Zm220 220h160v-160H400v160Zm0 220h160v-160H400v160ZM180-400h160v-160H180v160Zm440 0h160v-160H620v160ZM180-180h160v-160H180v160Zm440 0h160v-160H620v160Z\"/>\n",
              "  </svg>\n",
              "    </button>\n",
              "\n",
              "  <style>\n",
              "    .colab-df-container {\n",
              "      display:flex;\n",
              "      gap: 12px;\n",
              "    }\n",
              "\n",
              "    .colab-df-convert {\n",
              "      background-color: #E8F0FE;\n",
              "      border: none;\n",
              "      border-radius: 50%;\n",
              "      cursor: pointer;\n",
              "      display: none;\n",
              "      fill: #1967D2;\n",
              "      height: 32px;\n",
              "      padding: 0 0 0 0;\n",
              "      width: 32px;\n",
              "    }\n",
              "\n",
              "    .colab-df-convert:hover {\n",
              "      background-color: #E2EBFA;\n",
              "      box-shadow: 0px 1px 2px rgba(60, 64, 67, 0.3), 0px 1px 3px 1px rgba(60, 64, 67, 0.15);\n",
              "      fill: #174EA6;\n",
              "    }\n",
              "\n",
              "    .colab-df-buttons div {\n",
              "      margin-bottom: 4px;\n",
              "    }\n",
              "\n",
              "    [theme=dark] .colab-df-convert {\n",
              "      background-color: #3B4455;\n",
              "      fill: #D2E3FC;\n",
              "    }\n",
              "\n",
              "    [theme=dark] .colab-df-convert:hover {\n",
              "      background-color: #434B5C;\n",
              "      box-shadow: 0px 1px 3px 1px rgba(0, 0, 0, 0.15);\n",
              "      filter: drop-shadow(0px 1px 2px rgba(0, 0, 0, 0.3));\n",
              "      fill: #FFFFFF;\n",
              "    }\n",
              "  </style>\n",
              "\n",
              "    <script>\n",
              "      const buttonEl =\n",
              "        document.querySelector('#df-80dd6d07-0427-4bf4-b2f2-c0f8fbef4bef button.colab-df-convert');\n",
              "      buttonEl.style.display =\n",
              "        google.colab.kernel.accessAllowed ? 'block' : 'none';\n",
              "\n",
              "      async function convertToInteractive(key) {\n",
              "        const element = document.querySelector('#df-80dd6d07-0427-4bf4-b2f2-c0f8fbef4bef');\n",
              "        const dataTable =\n",
              "          await google.colab.kernel.invokeFunction('convertToInteractive',\n",
              "                                                    [key], {});\n",
              "        if (!dataTable) return;\n",
              "\n",
              "        const docLinkHtml = 'Like what you see? Visit the ' +\n",
              "          '<a target=\"_blank\" href=https://colab.research.google.com/notebooks/data_table.ipynb>data table notebook</a>'\n",
              "          + ' to learn more about interactive tables.';\n",
              "        element.innerHTML = '';\n",
              "        dataTable['output_type'] = 'display_data';\n",
              "        await google.colab.output.renderOutput(dataTable, element);\n",
              "        const docLink = document.createElement('div');\n",
              "        docLink.innerHTML = docLinkHtml;\n",
              "        element.appendChild(docLink);\n",
              "      }\n",
              "    </script>\n",
              "  </div>\n",
              "\n",
              "\n",
              "<div id=\"df-c10e5bcd-542e-46ab-a716-85eb8ad16b71\">\n",
              "  <button class=\"colab-df-quickchart\" onclick=\"quickchart('df-c10e5bcd-542e-46ab-a716-85eb8ad16b71')\"\n",
              "            title=\"Suggest charts\"\n",
              "            style=\"display:none;\">\n",
              "\n",
              "<svg xmlns=\"http://www.w3.org/2000/svg\" height=\"24px\"viewBox=\"0 0 24 24\"\n",
              "     width=\"24px\">\n",
              "    <g>\n",
              "        <path d=\"M19 3H5c-1.1 0-2 .9-2 2v14c0 1.1.9 2 2 2h14c1.1 0 2-.9 2-2V5c0-1.1-.9-2-2-2zM9 17H7v-7h2v7zm4 0h-2V7h2v10zm4 0h-2v-4h2v4z\"/>\n",
              "    </g>\n",
              "</svg>\n",
              "  </button>\n",
              "\n",
              "<style>\n",
              "  .colab-df-quickchart {\n",
              "      --bg-color: #E8F0FE;\n",
              "      --fill-color: #1967D2;\n",
              "      --hover-bg-color: #E2EBFA;\n",
              "      --hover-fill-color: #174EA6;\n",
              "      --disabled-fill-color: #AAA;\n",
              "      --disabled-bg-color: #DDD;\n",
              "  }\n",
              "\n",
              "  [theme=dark] .colab-df-quickchart {\n",
              "      --bg-color: #3B4455;\n",
              "      --fill-color: #D2E3FC;\n",
              "      --hover-bg-color: #434B5C;\n",
              "      --hover-fill-color: #FFFFFF;\n",
              "      --disabled-bg-color: #3B4455;\n",
              "      --disabled-fill-color: #666;\n",
              "  }\n",
              "\n",
              "  .colab-df-quickchart {\n",
              "    background-color: var(--bg-color);\n",
              "    border: none;\n",
              "    border-radius: 50%;\n",
              "    cursor: pointer;\n",
              "    display: none;\n",
              "    fill: var(--fill-color);\n",
              "    height: 32px;\n",
              "    padding: 0;\n",
              "    width: 32px;\n",
              "  }\n",
              "\n",
              "  .colab-df-quickchart:hover {\n",
              "    background-color: var(--hover-bg-color);\n",
              "    box-shadow: 0 1px 2px rgba(60, 64, 67, 0.3), 0 1px 3px 1px rgba(60, 64, 67, 0.15);\n",
              "    fill: var(--button-hover-fill-color);\n",
              "  }\n",
              "\n",
              "  .colab-df-quickchart-complete:disabled,\n",
              "  .colab-df-quickchart-complete:disabled:hover {\n",
              "    background-color: var(--disabled-bg-color);\n",
              "    fill: var(--disabled-fill-color);\n",
              "    box-shadow: none;\n",
              "  }\n",
              "\n",
              "  .colab-df-spinner {\n",
              "    border: 2px solid var(--fill-color);\n",
              "    border-color: transparent;\n",
              "    border-bottom-color: var(--fill-color);\n",
              "    animation:\n",
              "      spin 1s steps(1) infinite;\n",
              "  }\n",
              "\n",
              "  @keyframes spin {\n",
              "    0% {\n",
              "      border-color: transparent;\n",
              "      border-bottom-color: var(--fill-color);\n",
              "      border-left-color: var(--fill-color);\n",
              "    }\n",
              "    20% {\n",
              "      border-color: transparent;\n",
              "      border-left-color: var(--fill-color);\n",
              "      border-top-color: var(--fill-color);\n",
              "    }\n",
              "    30% {\n",
              "      border-color: transparent;\n",
              "      border-left-color: var(--fill-color);\n",
              "      border-top-color: var(--fill-color);\n",
              "      border-right-color: var(--fill-color);\n",
              "    }\n",
              "    40% {\n",
              "      border-color: transparent;\n",
              "      border-right-color: var(--fill-color);\n",
              "      border-top-color: var(--fill-color);\n",
              "    }\n",
              "    60% {\n",
              "      border-color: transparent;\n",
              "      border-right-color: var(--fill-color);\n",
              "    }\n",
              "    80% {\n",
              "      border-color: transparent;\n",
              "      border-right-color: var(--fill-color);\n",
              "      border-bottom-color: var(--fill-color);\n",
              "    }\n",
              "    90% {\n",
              "      border-color: transparent;\n",
              "      border-bottom-color: var(--fill-color);\n",
              "    }\n",
              "  }\n",
              "</style>\n",
              "\n",
              "  <script>\n",
              "    async function quickchart(key) {\n",
              "      const quickchartButtonEl =\n",
              "        document.querySelector('#' + key + ' button');\n",
              "      quickchartButtonEl.disabled = true;  // To prevent multiple clicks.\n",
              "      quickchartButtonEl.classList.add('colab-df-spinner');\n",
              "      try {\n",
              "        const charts = await google.colab.kernel.invokeFunction(\n",
              "            'suggestCharts', [key], {});\n",
              "      } catch (error) {\n",
              "        console.error('Error during call to suggestCharts:', error);\n",
              "      }\n",
              "      quickchartButtonEl.classList.remove('colab-df-spinner');\n",
              "      quickchartButtonEl.classList.add('colab-df-quickchart-complete');\n",
              "    }\n",
              "    (() => {\n",
              "      let quickchartButtonEl =\n",
              "        document.querySelector('#df-c10e5bcd-542e-46ab-a716-85eb8ad16b71 button');\n",
              "      quickchartButtonEl.style.display =\n",
              "        google.colab.kernel.accessAllowed ? 'block' : 'none';\n",
              "    })();\n",
              "  </script>\n",
              "</div>\n",
              "\n",
              "    </div>\n",
              "  </div>\n"
            ]
          },
          "metadata": {},
          "execution_count": 18
        }
      ]
    },
    {
      "cell_type": "markdown",
      "source": [
        "Feature Extraction"
      ],
      "metadata": {
        "id": "73FHNykoYfDK"
      }
    },
    {
      "cell_type": "code",
      "source": [
        "x = data.iloc[:,2:3]\n",
        "x.head()"
      ],
      "metadata": {
        "colab": {
          "base_uri": "https://localhost:8080/",
          "height": 206
        },
        "id": "8DOQNC2iYdfY",
        "outputId": "c1d003f7-f49f-4746-e6e8-f4cbb5148d43"
      },
      "execution_count": 19,
      "outputs": [
        {
          "output_type": "execute_result",
          "data": {
            "text/plain": [
              "                                              review\n",
              "0  stuff going moment mj ive started listening mu...\n",
              "1  classic war world timothy hines entertaining f...\n",
              "2  film start manager nicholas bell giving welcom...\n",
              "3  must assumed praised film greatest filmed oper...\n",
              "4  superbly trashy wondrously unpretentious 80 ex..."
            ],
            "text/html": [
              "\n",
              "  <div id=\"df-c2fdd99f-452c-49f8-90de-4cc44b143b51\" class=\"colab-df-container\">\n",
              "    <div>\n",
              "<style scoped>\n",
              "    .dataframe tbody tr th:only-of-type {\n",
              "        vertical-align: middle;\n",
              "    }\n",
              "\n",
              "    .dataframe tbody tr th {\n",
              "        vertical-align: top;\n",
              "    }\n",
              "\n",
              "    .dataframe thead th {\n",
              "        text-align: right;\n",
              "    }\n",
              "</style>\n",
              "<table border=\"1\" class=\"dataframe\">\n",
              "  <thead>\n",
              "    <tr style=\"text-align: right;\">\n",
              "      <th></th>\n",
              "      <th>review</th>\n",
              "    </tr>\n",
              "  </thead>\n",
              "  <tbody>\n",
              "    <tr>\n",
              "      <th>0</th>\n",
              "      <td>stuff going moment mj ive started listening mu...</td>\n",
              "    </tr>\n",
              "    <tr>\n",
              "      <th>1</th>\n",
              "      <td>classic war world timothy hines entertaining f...</td>\n",
              "    </tr>\n",
              "    <tr>\n",
              "      <th>2</th>\n",
              "      <td>film start manager nicholas bell giving welcom...</td>\n",
              "    </tr>\n",
              "    <tr>\n",
              "      <th>3</th>\n",
              "      <td>must assumed praised film greatest filmed oper...</td>\n",
              "    </tr>\n",
              "    <tr>\n",
              "      <th>4</th>\n",
              "      <td>superbly trashy wondrously unpretentious 80 ex...</td>\n",
              "    </tr>\n",
              "  </tbody>\n",
              "</table>\n",
              "</div>\n",
              "    <div class=\"colab-df-buttons\">\n",
              "\n",
              "  <div class=\"colab-df-container\">\n",
              "    <button class=\"colab-df-convert\" onclick=\"convertToInteractive('df-c2fdd99f-452c-49f8-90de-4cc44b143b51')\"\n",
              "            title=\"Convert this dataframe to an interactive table.\"\n",
              "            style=\"display:none;\">\n",
              "\n",
              "  <svg xmlns=\"http://www.w3.org/2000/svg\" height=\"24px\" viewBox=\"0 -960 960 960\">\n",
              "    <path d=\"M120-120v-720h720v720H120Zm60-500h600v-160H180v160Zm220 220h160v-160H400v160Zm0 220h160v-160H400v160ZM180-400h160v-160H180v160Zm440 0h160v-160H620v160ZM180-180h160v-160H180v160Zm440 0h160v-160H620v160Z\"/>\n",
              "  </svg>\n",
              "    </button>\n",
              "\n",
              "  <style>\n",
              "    .colab-df-container {\n",
              "      display:flex;\n",
              "      gap: 12px;\n",
              "    }\n",
              "\n",
              "    .colab-df-convert {\n",
              "      background-color: #E8F0FE;\n",
              "      border: none;\n",
              "      border-radius: 50%;\n",
              "      cursor: pointer;\n",
              "      display: none;\n",
              "      fill: #1967D2;\n",
              "      height: 32px;\n",
              "      padding: 0 0 0 0;\n",
              "      width: 32px;\n",
              "    }\n",
              "\n",
              "    .colab-df-convert:hover {\n",
              "      background-color: #E2EBFA;\n",
              "      box-shadow: 0px 1px 2px rgba(60, 64, 67, 0.3), 0px 1px 3px 1px rgba(60, 64, 67, 0.15);\n",
              "      fill: #174EA6;\n",
              "    }\n",
              "\n",
              "    .colab-df-buttons div {\n",
              "      margin-bottom: 4px;\n",
              "    }\n",
              "\n",
              "    [theme=dark] .colab-df-convert {\n",
              "      background-color: #3B4455;\n",
              "      fill: #D2E3FC;\n",
              "    }\n",
              "\n",
              "    [theme=dark] .colab-df-convert:hover {\n",
              "      background-color: #434B5C;\n",
              "      box-shadow: 0px 1px 3px 1px rgba(0, 0, 0, 0.15);\n",
              "      filter: drop-shadow(0px 1px 2px rgba(0, 0, 0, 0.3));\n",
              "      fill: #FFFFFF;\n",
              "    }\n",
              "  </style>\n",
              "\n",
              "    <script>\n",
              "      const buttonEl =\n",
              "        document.querySelector('#df-c2fdd99f-452c-49f8-90de-4cc44b143b51 button.colab-df-convert');\n",
              "      buttonEl.style.display =\n",
              "        google.colab.kernel.accessAllowed ? 'block' : 'none';\n",
              "\n",
              "      async function convertToInteractive(key) {\n",
              "        const element = document.querySelector('#df-c2fdd99f-452c-49f8-90de-4cc44b143b51');\n",
              "        const dataTable =\n",
              "          await google.colab.kernel.invokeFunction('convertToInteractive',\n",
              "                                                    [key], {});\n",
              "        if (!dataTable) return;\n",
              "\n",
              "        const docLinkHtml = 'Like what you see? Visit the ' +\n",
              "          '<a target=\"_blank\" href=https://colab.research.google.com/notebooks/data_table.ipynb>data table notebook</a>'\n",
              "          + ' to learn more about interactive tables.';\n",
              "        element.innerHTML = '';\n",
              "        dataTable['output_type'] = 'display_data';\n",
              "        await google.colab.output.renderOutput(dataTable, element);\n",
              "        const docLink = document.createElement('div');\n",
              "        docLink.innerHTML = docLinkHtml;\n",
              "        element.appendChild(docLink);\n",
              "      }\n",
              "    </script>\n",
              "  </div>\n",
              "\n",
              "\n",
              "<div id=\"df-14961e7e-ee19-496d-a288-5f5d4f82bedf\">\n",
              "  <button class=\"colab-df-quickchart\" onclick=\"quickchart('df-14961e7e-ee19-496d-a288-5f5d4f82bedf')\"\n",
              "            title=\"Suggest charts\"\n",
              "            style=\"display:none;\">\n",
              "\n",
              "<svg xmlns=\"http://www.w3.org/2000/svg\" height=\"24px\"viewBox=\"0 0 24 24\"\n",
              "     width=\"24px\">\n",
              "    <g>\n",
              "        <path d=\"M19 3H5c-1.1 0-2 .9-2 2v14c0 1.1.9 2 2 2h14c1.1 0 2-.9 2-2V5c0-1.1-.9-2-2-2zM9 17H7v-7h2v7zm4 0h-2V7h2v10zm4 0h-2v-4h2v4z\"/>\n",
              "    </g>\n",
              "</svg>\n",
              "  </button>\n",
              "\n",
              "<style>\n",
              "  .colab-df-quickchart {\n",
              "      --bg-color: #E8F0FE;\n",
              "      --fill-color: #1967D2;\n",
              "      --hover-bg-color: #E2EBFA;\n",
              "      --hover-fill-color: #174EA6;\n",
              "      --disabled-fill-color: #AAA;\n",
              "      --disabled-bg-color: #DDD;\n",
              "  }\n",
              "\n",
              "  [theme=dark] .colab-df-quickchart {\n",
              "      --bg-color: #3B4455;\n",
              "      --fill-color: #D2E3FC;\n",
              "      --hover-bg-color: #434B5C;\n",
              "      --hover-fill-color: #FFFFFF;\n",
              "      --disabled-bg-color: #3B4455;\n",
              "      --disabled-fill-color: #666;\n",
              "  }\n",
              "\n",
              "  .colab-df-quickchart {\n",
              "    background-color: var(--bg-color);\n",
              "    border: none;\n",
              "    border-radius: 50%;\n",
              "    cursor: pointer;\n",
              "    display: none;\n",
              "    fill: var(--fill-color);\n",
              "    height: 32px;\n",
              "    padding: 0;\n",
              "    width: 32px;\n",
              "  }\n",
              "\n",
              "  .colab-df-quickchart:hover {\n",
              "    background-color: var(--hover-bg-color);\n",
              "    box-shadow: 0 1px 2px rgba(60, 64, 67, 0.3), 0 1px 3px 1px rgba(60, 64, 67, 0.15);\n",
              "    fill: var(--button-hover-fill-color);\n",
              "  }\n",
              "\n",
              "  .colab-df-quickchart-complete:disabled,\n",
              "  .colab-df-quickchart-complete:disabled:hover {\n",
              "    background-color: var(--disabled-bg-color);\n",
              "    fill: var(--disabled-fill-color);\n",
              "    box-shadow: none;\n",
              "  }\n",
              "\n",
              "  .colab-df-spinner {\n",
              "    border: 2px solid var(--fill-color);\n",
              "    border-color: transparent;\n",
              "    border-bottom-color: var(--fill-color);\n",
              "    animation:\n",
              "      spin 1s steps(1) infinite;\n",
              "  }\n",
              "\n",
              "  @keyframes spin {\n",
              "    0% {\n",
              "      border-color: transparent;\n",
              "      border-bottom-color: var(--fill-color);\n",
              "      border-left-color: var(--fill-color);\n",
              "    }\n",
              "    20% {\n",
              "      border-color: transparent;\n",
              "      border-left-color: var(--fill-color);\n",
              "      border-top-color: var(--fill-color);\n",
              "    }\n",
              "    30% {\n",
              "      border-color: transparent;\n",
              "      border-left-color: var(--fill-color);\n",
              "      border-top-color: var(--fill-color);\n",
              "      border-right-color: var(--fill-color);\n",
              "    }\n",
              "    40% {\n",
              "      border-color: transparent;\n",
              "      border-right-color: var(--fill-color);\n",
              "      border-top-color: var(--fill-color);\n",
              "    }\n",
              "    60% {\n",
              "      border-color: transparent;\n",
              "      border-right-color: var(--fill-color);\n",
              "    }\n",
              "    80% {\n",
              "      border-color: transparent;\n",
              "      border-right-color: var(--fill-color);\n",
              "      border-bottom-color: var(--fill-color);\n",
              "    }\n",
              "    90% {\n",
              "      border-color: transparent;\n",
              "      border-bottom-color: var(--fill-color);\n",
              "    }\n",
              "  }\n",
              "</style>\n",
              "\n",
              "  <script>\n",
              "    async function quickchart(key) {\n",
              "      const quickchartButtonEl =\n",
              "        document.querySelector('#' + key + ' button');\n",
              "      quickchartButtonEl.disabled = true;  // To prevent multiple clicks.\n",
              "      quickchartButtonEl.classList.add('colab-df-spinner');\n",
              "      try {\n",
              "        const charts = await google.colab.kernel.invokeFunction(\n",
              "            'suggestCharts', [key], {});\n",
              "      } catch (error) {\n",
              "        console.error('Error during call to suggestCharts:', error);\n",
              "      }\n",
              "      quickchartButtonEl.classList.remove('colab-df-spinner');\n",
              "      quickchartButtonEl.classList.add('colab-df-quickchart-complete');\n",
              "    }\n",
              "    (() => {\n",
              "      let quickchartButtonEl =\n",
              "        document.querySelector('#df-14961e7e-ee19-496d-a288-5f5d4f82bedf button');\n",
              "      quickchartButtonEl.style.display =\n",
              "        google.colab.kernel.accessAllowed ? 'block' : 'none';\n",
              "    })();\n",
              "  </script>\n",
              "</div>\n",
              "\n",
              "    </div>\n",
              "  </div>\n"
            ]
          },
          "metadata": {},
          "execution_count": 19
        }
      ]
    },
    {
      "cell_type": "code",
      "source": [
        "y= data['sentiment']\n",
        "y.head()"
      ],
      "metadata": {
        "colab": {
          "base_uri": "https://localhost:8080/"
        },
        "id": "hlqgvHppYiul",
        "outputId": "c714b880-ec8c-4429-cf52-ada1d0fb5d5c"
      },
      "execution_count": 20,
      "outputs": [
        {
          "output_type": "execute_result",
          "data": {
            "text/plain": [
              "0    1\n",
              "1    1\n",
              "2    0\n",
              "3    0\n",
              "4    1\n",
              "Name: sentiment, dtype: int64"
            ]
          },
          "metadata": {},
          "execution_count": 20
        }
      ]
    },
    {
      "cell_type": "code",
      "source": [
        "from sklearn.model_selection import train_test_split\n",
        "x_train, x_test, y_train, y_test = train_test_split(x,y,test_size=0.2, random_state=134)"
      ],
      "metadata": {
        "id": "DDeJ4z_vYpNn"
      },
      "execution_count": 21,
      "outputs": []
    },
    {
      "cell_type": "code",
      "source": [
        "x_train"
      ],
      "metadata": {
        "colab": {
          "base_uri": "https://localhost:8080/",
          "height": 423
        },
        "id": "w9phSBP4Yqay",
        "outputId": "3f4ce3da-ad0b-4549-9146-ddd5e4637d45"
      },
      "execution_count": 22,
      "outputs": [
        {
          "output_type": "execute_result",
          "data": {
            "text/plain": [
              "                                                  review\n",
              "17272  admit weakness alternate history story wonderf...\n",
              "11941  sur me lèvres read lip fine little thriller al...\n",
              "2802   sex youve ever farm animal tag line movie prob...\n",
              "4511   browsing internet previous sale price ran acro...\n",
              "7929   nope going get refuse go along program dont su...\n",
              "...                                                  ...\n",
              "1202   kept attention start finish great performance ...\n",
              "13687  take special kind person make movie wretched b...\n",
              "11640  found imdb searched film moved almost tear com...\n",
              "13862  known fall asleep film usually due combination...\n",
              "9699   inlaws weekend film hasten departure failing i...\n",
              "\n",
              "[20000 rows x 1 columns]"
            ],
            "text/html": [
              "\n",
              "  <div id=\"df-ce3032a8-eadd-4659-b299-90c291abaed1\" class=\"colab-df-container\">\n",
              "    <div>\n",
              "<style scoped>\n",
              "    .dataframe tbody tr th:only-of-type {\n",
              "        vertical-align: middle;\n",
              "    }\n",
              "\n",
              "    .dataframe tbody tr th {\n",
              "        vertical-align: top;\n",
              "    }\n",
              "\n",
              "    .dataframe thead th {\n",
              "        text-align: right;\n",
              "    }\n",
              "</style>\n",
              "<table border=\"1\" class=\"dataframe\">\n",
              "  <thead>\n",
              "    <tr style=\"text-align: right;\">\n",
              "      <th></th>\n",
              "      <th>review</th>\n",
              "    </tr>\n",
              "  </thead>\n",
              "  <tbody>\n",
              "    <tr>\n",
              "      <th>17272</th>\n",
              "      <td>admit weakness alternate history story wonderf...</td>\n",
              "    </tr>\n",
              "    <tr>\n",
              "      <th>11941</th>\n",
              "      <td>sur me lèvres read lip fine little thriller al...</td>\n",
              "    </tr>\n",
              "    <tr>\n",
              "      <th>2802</th>\n",
              "      <td>sex youve ever farm animal tag line movie prob...</td>\n",
              "    </tr>\n",
              "    <tr>\n",
              "      <th>4511</th>\n",
              "      <td>browsing internet previous sale price ran acro...</td>\n",
              "    </tr>\n",
              "    <tr>\n",
              "      <th>7929</th>\n",
              "      <td>nope going get refuse go along program dont su...</td>\n",
              "    </tr>\n",
              "    <tr>\n",
              "      <th>...</th>\n",
              "      <td>...</td>\n",
              "    </tr>\n",
              "    <tr>\n",
              "      <th>1202</th>\n",
              "      <td>kept attention start finish great performance ...</td>\n",
              "    </tr>\n",
              "    <tr>\n",
              "      <th>13687</th>\n",
              "      <td>take special kind person make movie wretched b...</td>\n",
              "    </tr>\n",
              "    <tr>\n",
              "      <th>11640</th>\n",
              "      <td>found imdb searched film moved almost tear com...</td>\n",
              "    </tr>\n",
              "    <tr>\n",
              "      <th>13862</th>\n",
              "      <td>known fall asleep film usually due combination...</td>\n",
              "    </tr>\n",
              "    <tr>\n",
              "      <th>9699</th>\n",
              "      <td>inlaws weekend film hasten departure failing i...</td>\n",
              "    </tr>\n",
              "  </tbody>\n",
              "</table>\n",
              "<p>20000 rows × 1 columns</p>\n",
              "</div>\n",
              "    <div class=\"colab-df-buttons\">\n",
              "\n",
              "  <div class=\"colab-df-container\">\n",
              "    <button class=\"colab-df-convert\" onclick=\"convertToInteractive('df-ce3032a8-eadd-4659-b299-90c291abaed1')\"\n",
              "            title=\"Convert this dataframe to an interactive table.\"\n",
              "            style=\"display:none;\">\n",
              "\n",
              "  <svg xmlns=\"http://www.w3.org/2000/svg\" height=\"24px\" viewBox=\"0 -960 960 960\">\n",
              "    <path d=\"M120-120v-720h720v720H120Zm60-500h600v-160H180v160Zm220 220h160v-160H400v160Zm0 220h160v-160H400v160ZM180-400h160v-160H180v160Zm440 0h160v-160H620v160ZM180-180h160v-160H180v160Zm440 0h160v-160H620v160Z\"/>\n",
              "  </svg>\n",
              "    </button>\n",
              "\n",
              "  <style>\n",
              "    .colab-df-container {\n",
              "      display:flex;\n",
              "      gap: 12px;\n",
              "    }\n",
              "\n",
              "    .colab-df-convert {\n",
              "      background-color: #E8F0FE;\n",
              "      border: none;\n",
              "      border-radius: 50%;\n",
              "      cursor: pointer;\n",
              "      display: none;\n",
              "      fill: #1967D2;\n",
              "      height: 32px;\n",
              "      padding: 0 0 0 0;\n",
              "      width: 32px;\n",
              "    }\n",
              "\n",
              "    .colab-df-convert:hover {\n",
              "      background-color: #E2EBFA;\n",
              "      box-shadow: 0px 1px 2px rgba(60, 64, 67, 0.3), 0px 1px 3px 1px rgba(60, 64, 67, 0.15);\n",
              "      fill: #174EA6;\n",
              "    }\n",
              "\n",
              "    .colab-df-buttons div {\n",
              "      margin-bottom: 4px;\n",
              "    }\n",
              "\n",
              "    [theme=dark] .colab-df-convert {\n",
              "      background-color: #3B4455;\n",
              "      fill: #D2E3FC;\n",
              "    }\n",
              "\n",
              "    [theme=dark] .colab-df-convert:hover {\n",
              "      background-color: #434B5C;\n",
              "      box-shadow: 0px 1px 3px 1px rgba(0, 0, 0, 0.15);\n",
              "      filter: drop-shadow(0px 1px 2px rgba(0, 0, 0, 0.3));\n",
              "      fill: #FFFFFF;\n",
              "    }\n",
              "  </style>\n",
              "\n",
              "    <script>\n",
              "      const buttonEl =\n",
              "        document.querySelector('#df-ce3032a8-eadd-4659-b299-90c291abaed1 button.colab-df-convert');\n",
              "      buttonEl.style.display =\n",
              "        google.colab.kernel.accessAllowed ? 'block' : 'none';\n",
              "\n",
              "      async function convertToInteractive(key) {\n",
              "        const element = document.querySelector('#df-ce3032a8-eadd-4659-b299-90c291abaed1');\n",
              "        const dataTable =\n",
              "          await google.colab.kernel.invokeFunction('convertToInteractive',\n",
              "                                                    [key], {});\n",
              "        if (!dataTable) return;\n",
              "\n",
              "        const docLinkHtml = 'Like what you see? Visit the ' +\n",
              "          '<a target=\"_blank\" href=https://colab.research.google.com/notebooks/data_table.ipynb>data table notebook</a>'\n",
              "          + ' to learn more about interactive tables.';\n",
              "        element.innerHTML = '';\n",
              "        dataTable['output_type'] = 'display_data';\n",
              "        await google.colab.output.renderOutput(dataTable, element);\n",
              "        const docLink = document.createElement('div');\n",
              "        docLink.innerHTML = docLinkHtml;\n",
              "        element.appendChild(docLink);\n",
              "      }\n",
              "    </script>\n",
              "  </div>\n",
              "\n",
              "\n",
              "<div id=\"df-edc62212-e2ef-491f-b903-d53068f7814c\">\n",
              "  <button class=\"colab-df-quickchart\" onclick=\"quickchart('df-edc62212-e2ef-491f-b903-d53068f7814c')\"\n",
              "            title=\"Suggest charts\"\n",
              "            style=\"display:none;\">\n",
              "\n",
              "<svg xmlns=\"http://www.w3.org/2000/svg\" height=\"24px\"viewBox=\"0 0 24 24\"\n",
              "     width=\"24px\">\n",
              "    <g>\n",
              "        <path d=\"M19 3H5c-1.1 0-2 .9-2 2v14c0 1.1.9 2 2 2h14c1.1 0 2-.9 2-2V5c0-1.1-.9-2-2-2zM9 17H7v-7h2v7zm4 0h-2V7h2v10zm4 0h-2v-4h2v4z\"/>\n",
              "    </g>\n",
              "</svg>\n",
              "  </button>\n",
              "\n",
              "<style>\n",
              "  .colab-df-quickchart {\n",
              "      --bg-color: #E8F0FE;\n",
              "      --fill-color: #1967D2;\n",
              "      --hover-bg-color: #E2EBFA;\n",
              "      --hover-fill-color: #174EA6;\n",
              "      --disabled-fill-color: #AAA;\n",
              "      --disabled-bg-color: #DDD;\n",
              "  }\n",
              "\n",
              "  [theme=dark] .colab-df-quickchart {\n",
              "      --bg-color: #3B4455;\n",
              "      --fill-color: #D2E3FC;\n",
              "      --hover-bg-color: #434B5C;\n",
              "      --hover-fill-color: #FFFFFF;\n",
              "      --disabled-bg-color: #3B4455;\n",
              "      --disabled-fill-color: #666;\n",
              "  }\n",
              "\n",
              "  .colab-df-quickchart {\n",
              "    background-color: var(--bg-color);\n",
              "    border: none;\n",
              "    border-radius: 50%;\n",
              "    cursor: pointer;\n",
              "    display: none;\n",
              "    fill: var(--fill-color);\n",
              "    height: 32px;\n",
              "    padding: 0;\n",
              "    width: 32px;\n",
              "  }\n",
              "\n",
              "  .colab-df-quickchart:hover {\n",
              "    background-color: var(--hover-bg-color);\n",
              "    box-shadow: 0 1px 2px rgba(60, 64, 67, 0.3), 0 1px 3px 1px rgba(60, 64, 67, 0.15);\n",
              "    fill: var(--button-hover-fill-color);\n",
              "  }\n",
              "\n",
              "  .colab-df-quickchart-complete:disabled,\n",
              "  .colab-df-quickchart-complete:disabled:hover {\n",
              "    background-color: var(--disabled-bg-color);\n",
              "    fill: var(--disabled-fill-color);\n",
              "    box-shadow: none;\n",
              "  }\n",
              "\n",
              "  .colab-df-spinner {\n",
              "    border: 2px solid var(--fill-color);\n",
              "    border-color: transparent;\n",
              "    border-bottom-color: var(--fill-color);\n",
              "    animation:\n",
              "      spin 1s steps(1) infinite;\n",
              "  }\n",
              "\n",
              "  @keyframes spin {\n",
              "    0% {\n",
              "      border-color: transparent;\n",
              "      border-bottom-color: var(--fill-color);\n",
              "      border-left-color: var(--fill-color);\n",
              "    }\n",
              "    20% {\n",
              "      border-color: transparent;\n",
              "      border-left-color: var(--fill-color);\n",
              "      border-top-color: var(--fill-color);\n",
              "    }\n",
              "    30% {\n",
              "      border-color: transparent;\n",
              "      border-left-color: var(--fill-color);\n",
              "      border-top-color: var(--fill-color);\n",
              "      border-right-color: var(--fill-color);\n",
              "    }\n",
              "    40% {\n",
              "      border-color: transparent;\n",
              "      border-right-color: var(--fill-color);\n",
              "      border-top-color: var(--fill-color);\n",
              "    }\n",
              "    60% {\n",
              "      border-color: transparent;\n",
              "      border-right-color: var(--fill-color);\n",
              "    }\n",
              "    80% {\n",
              "      border-color: transparent;\n",
              "      border-right-color: var(--fill-color);\n",
              "      border-bottom-color: var(--fill-color);\n",
              "    }\n",
              "    90% {\n",
              "      border-color: transparent;\n",
              "      border-bottom-color: var(--fill-color);\n",
              "    }\n",
              "  }\n",
              "</style>\n",
              "\n",
              "  <script>\n",
              "    async function quickchart(key) {\n",
              "      const quickchartButtonEl =\n",
              "        document.querySelector('#' + key + ' button');\n",
              "      quickchartButtonEl.disabled = true;  // To prevent multiple clicks.\n",
              "      quickchartButtonEl.classList.add('colab-df-spinner');\n",
              "      try {\n",
              "        const charts = await google.colab.kernel.invokeFunction(\n",
              "            'suggestCharts', [key], {});\n",
              "      } catch (error) {\n",
              "        console.error('Error during call to suggestCharts:', error);\n",
              "      }\n",
              "      quickchartButtonEl.classList.remove('colab-df-spinner');\n",
              "      quickchartButtonEl.classList.add('colab-df-quickchart-complete');\n",
              "    }\n",
              "    (() => {\n",
              "      let quickchartButtonEl =\n",
              "        document.querySelector('#df-edc62212-e2ef-491f-b903-d53068f7814c button');\n",
              "      quickchartButtonEl.style.display =\n",
              "        google.colab.kernel.accessAllowed ? 'block' : 'none';\n",
              "    })();\n",
              "  </script>\n",
              "</div>\n",
              "\n",
              "  <div id=\"id_0e25acda-2ca1-489c-b6b3-9de8a664fcc1\">\n",
              "    <style>\n",
              "      .colab-df-generate {\n",
              "        background-color: #E8F0FE;\n",
              "        border: none;\n",
              "        border-radius: 50%;\n",
              "        cursor: pointer;\n",
              "        display: none;\n",
              "        fill: #1967D2;\n",
              "        height: 32px;\n",
              "        padding: 0 0 0 0;\n",
              "        width: 32px;\n",
              "      }\n",
              "\n",
              "      .colab-df-generate:hover {\n",
              "        background-color: #E2EBFA;\n",
              "        box-shadow: 0px 1px 2px rgba(60, 64, 67, 0.3), 0px 1px 3px 1px rgba(60, 64, 67, 0.15);\n",
              "        fill: #174EA6;\n",
              "      }\n",
              "\n",
              "      [theme=dark] .colab-df-generate {\n",
              "        background-color: #3B4455;\n",
              "        fill: #D2E3FC;\n",
              "      }\n",
              "\n",
              "      [theme=dark] .colab-df-generate:hover {\n",
              "        background-color: #434B5C;\n",
              "        box-shadow: 0px 1px 3px 1px rgba(0, 0, 0, 0.15);\n",
              "        filter: drop-shadow(0px 1px 2px rgba(0, 0, 0, 0.3));\n",
              "        fill: #FFFFFF;\n",
              "      }\n",
              "    </style>\n",
              "    <button class=\"colab-df-generate\" onclick=\"generateWithVariable('x_train')\"\n",
              "            title=\"Generate code using this dataframe.\"\n",
              "            style=\"display:none;\">\n",
              "\n",
              "  <svg xmlns=\"http://www.w3.org/2000/svg\" height=\"24px\"viewBox=\"0 0 24 24\"\n",
              "       width=\"24px\">\n",
              "    <path d=\"M7,19H8.4L18.45,9,17,7.55,7,17.6ZM5,21V16.75L18.45,3.32a2,2,0,0,1,2.83,0l1.4,1.43a1.91,1.91,0,0,1,.58,1.4,1.91,1.91,0,0,1-.58,1.4L9.25,21ZM18.45,9,17,7.55Zm-12,3A5.31,5.31,0,0,0,4.9,8.1,5.31,5.31,0,0,0,1,6.5,5.31,5.31,0,0,0,4.9,4.9,5.31,5.31,0,0,0,6.5,1,5.31,5.31,0,0,0,8.1,4.9,5.31,5.31,0,0,0,12,6.5,5.46,5.46,0,0,0,6.5,12Z\"/>\n",
              "  </svg>\n",
              "    </button>\n",
              "    <script>\n",
              "      (() => {\n",
              "      const buttonEl =\n",
              "        document.querySelector('#id_0e25acda-2ca1-489c-b6b3-9de8a664fcc1 button.colab-df-generate');\n",
              "      buttonEl.style.display =\n",
              "        google.colab.kernel.accessAllowed ? 'block' : 'none';\n",
              "\n",
              "      buttonEl.onclick = () => {\n",
              "        google.colab.notebook.generateWithVariable('x_train');\n",
              "      }\n",
              "      })();\n",
              "    </script>\n",
              "  </div>\n",
              "\n",
              "    </div>\n",
              "  </div>\n"
            ]
          },
          "metadata": {},
          "execution_count": 22
        }
      ]
    },
    {
      "cell_type": "markdown",
      "source": [
        "Bag of words"
      ],
      "metadata": {
        "id": "bGScmv4fYuIn"
      }
    },
    {
      "cell_type": "code",
      "source": [
        "cv = CountVectorizer(stop_words = \"english\", min_df = 10, max_df=200, max_features = 2000)"
      ],
      "metadata": {
        "id": "19AaS0XeYyqP"
      },
      "execution_count": 23,
      "outputs": []
    },
    {
      "cell_type": "code",
      "source": [
        "x_train_bow = cv.fit_transform(x_train['review']).toarray()\n",
        "x_test_bow = cv.transform(x_test['review']).toarray()"
      ],
      "metadata": {
        "id": "lBNcG19MY5Je"
      },
      "execution_count": 24,
      "outputs": []
    },
    {
      "cell_type": "code",
      "source": [
        "print(cv.vocabulary_)"
      ],
      "metadata": {
        "colab": {
          "base_uri": "https://localhost:8080/"
        },
        "id": "JB3gpgZdaOL4",
        "outputId": "a8aa32d1-36fd-4278-b8f7-030a44c43eb4"
      },
      "execution_count": 26,
      "outputs": [
        {
          "output_type": "stream",
          "name": "stdout",
          "text": [
            "{'weakness': 1955, 'destiny': 485, 'cox': 405, 'scale': 1544, 'afternoon': 56, 'rental': 1457, 'lip': 1042, 'tense': 1794, 'tight': 1825, 'significant': 1613, 'statement': 1694, 'thirty': 1811, 'secretary': 1559, 'bleak': 178, 'enter': 585, 'vincent': 1928, 'ad': 42, 'assistant': 116, 'meeting': 1115, 'hoped': 854, 'sleazy': 1637, 'letter': 1028, 'discovers': 511, 'spy': 1685, 'join': 964, 'gain': 720, 'freedom': 706, 'seat': 1558, 'unlikely': 1903, 'factor': 637, 'sensitive': 1570, 'hearing': 813, 'aid': 59, 'rank': 1409, 'noir': 1198, 'farm': 649, 'lying': 1072, 'burning': 241, 'unable': 1881, 'fictional': 659, 'conspiracy': 371, 'internet': 921, 'price': 1353, 'ran': 1407, 'shirley': 1599, 'refuse': 1434, 'program': 1369, 'overrated': 1256, 'reader': 1416, '710': 24, 'mainstream': 1083, 'bag': 137, 'thrill': 1816, '25': 19, 'hardcore': 801, 'appropriate': 106, 'critical': 420, 'religion': 1446, 'remaining': 1449, 'acceptable': 32, 'revealed': 1484, 'bbc': 149, 'broadcast': 225, 'bible': 166, 'priest': 1355, 'skin': 1631, '14': 4, 'photographed': 1294, 'closeup': 334, 'portion': 1323, 'imagery': 883, 'grant': 760, 'execution': 614, 'forest': 687, 'painting': 1265, 'bridge': 217, 'wrap': 1991, 'neat': 1182, 'guilty': 783, 'achieved': 39, 'fallen': 643, 'urge': 1908, 'separate': 1573, 'noble': 1197, 'parallel': 1271, 'beast': 151, 'logical': 1050, 'sexuality': 1583, 'fairy': 640, 'surrounded': 1761, '310': 20, 'anne': 96, 'happiness': 800, 'lonely': 1051, 'prince': 1358, 'edward': 561, 'lucy': 1068, 'delight': 465, 'helen': 819, 'command': 350, 'innocence': 904, 'australian': 130, 'shy': 1610, 'welcome': 1963, 'arrives': 110, 'brown': 231, 'grab': 756, 'neighbor': 1187, 'bollywood': 191, 'combination': 344, 'godfather': 745, 'portrays': 1326, 'expert': 622, 'grow': 774, 'hugh': 864, 'figured': 661, 'driven': 537, 'competition': 357, 'knight': 992, 'greater': 765, 'uwe': 1913, 'boll': 190, 'downright': 525, 'chain': 288, 'bigger': 167, 'generic': 729, 'forgive': 689, 'stupidity': 1731, 'origin': 1244, 'grew': 768, 'circumstance': 321, 'civil': 323, 'vietnam': 1925, 'beach': 150, 'alright': 79, 'shut': 1609, 'metal': 1124, 'worthwhile': 1988, 'fat': 650, 'cash': 279, 'favor': 652, 'frustrated': 712, 'excited': 611, 'technique': 1787, 'learned': 1019, 'pulling': 1389, 'complaint': 359, 'essential': 596, 'golden': 748, 'satisfying': 1541, 'concert': 364, 'crash': 411, 'mansion': 1088, 'noise': 1199, 'dinner': 500, 'calling': 255, 'halfway': 786, 'gruesome': 777, 'brilliantly': 221, 'gory': 753, 'bore': 197, 'suffers': 1747, 'horrendous': 856, 'realism': 1418, 'overlooked': 1254, 'tape': 1779, 'friday': 709, 'depiction': 476, 'al': 64, 'allbr': 74, 'spoil': 1677, 'motivation': 1158, 'resolution': 1474, 'persona': 1290, 'troubled': 1871, 'seven': 1581, 'pound': 1332, 'dawson': 454, 'performer': 1287, 'portraying': 1325, 'quirky': 1397, 'condition': 365, 'woody': 1982, 'tremendous': 1863, 'sold': 1650, 'blind': 180, 'research': 1471, 'pet': 1291, 'upset': 1906, 'dealt': 457, 'jerry': 954, 'covered': 403, 'lane': 1006, 'southern': 1658, 'soap': 1647, 'douglas': 524, 'jr': 968, 'understood': 1888, 'magnificent': 1082, 'temple': 1792, 'warn': 1945, 'grand': 758, 'underrated': 1887, 'fu': 714, 'caricature': 271, 'india': 894, 'alexander': 71, 'underground': 1886, 'wreck': 1992, 'luckily': 1066, 'prove': 1380, 'entertained': 588, 'dressed': 532, 'baseball': 144, 'uniform': 1894, 'bat': 147, 'creator': 415, 'locked': 1048, 'anderson': 87, 'judge': 969, 'davis': 451, 'colonel': 339, 'cliff': 329, 'setup': 1580, 'spoiled': 1678, 'spin': 1672, 'loss': 1057, 'enjoyment': 583, 'st': 1686, 'stolen': 1707, 'vhs': 1921, 'japan': 946, 'path': 1279, 'buried': 238, 'amateurish': 81, 'junk': 974, 'aint': 61, 'fred': 704, 'haunting': 811, 'included': 891, 'paper': 1269, 'translation': 1855, 'tune': 1873, 'colour': 341, 'minimal': 1138, 'slapstick': 1635, 'paris': 1272, 'texas': 1800, 'et': 599, 'lifetime': 1035, 'irritating': 937, 'joey': 961, 'danny': 446, 'raise': 1403, 'instantly': 913, 'shakespeare': 1586, 'medical': 1114, 'stewart': 1701, 'tie': 1823, 'rifle': 1495, 'adding': 44, 'obsession': 1223, 'laid': 1003, 'cowboy': 404, 'fighter': 660, 'bank': 140, 'dan': 441, 'standing': 1689, 'johnny': 962, 'dean': 458, 'finger': 665, 'hudson': 863, 'range': 1408, 'shootout': 1603, '810': 25, 'pushing': 1395, 'hitman': 837, 'thisbr': 1812, 'giallo': 735, 'explosion': 629, 'broken': 228, 'bottle': 200, 'territory': 1796, 'reminiscent': 1454, 'bird': 168, 'foreign': 686, 'camerawork': 256, 'knife': 991, 'blade': 173, 'repeated': 1460, 'shall': 1587, 'subtitle': 1737, 'appealing': 103, 'ritter': 1500, 'smoking': 1643, 'dorothy': 523, 'murdered': 1164, 'shocked': 1601, 'sounded': 1656, 'hunt': 868, 'contrived': 382, 'heavily': 815, 'related': 1440, 'screenwriter': 1552, 'experienced': 620, 'knowledge': 994, 'mere': 1122, 'slightest': 1640, 'fare': 648, 'remotely': 1456, 'vague': 1915, 'presumably': 1347, 'committed': 352, 'explains': 624, 'round': 1516, 'tour': 1845, 'albeit': 67, 'amateur': 80, 'native': 1177, 'brave': 209, 'curious': 432, 'curse': 434, 'psycho': 1385, 'murderer': 1165, 'table': 1774, 'rip': 1496, 'wes': 1967, 'craven': 412, 'fortunately': 694, 'worry': 1986, 'ha': 785, 'oneliners': 1239, 'regret': 1438, 'renting': 1458, 'professor': 1367, 'joan': 960, 'ginger': 737, 'rogers': 1509, 'miscast': 1142, 'heroine': 826, 'astaire': 119, 'burn': 239, 'allen': 75, 'routine': 1517, 'pan': 1268, 'treatment': 1860, 'pleasant': 1312, 'servant': 1575, 'remind': 1453, 'distance': 518, 'painfully': 1263, 'unbelievably': 1882, 'useless': 1910, 'push': 1393, 'crowd': 422, 'directly': 503, 'connected': 368, 'raped': 1411, 'screaming': 1550, 'president': 1345, 'bush': 245, 'speech': 1665, 'sword': 1770, 'relative': 1442, '1980s': 11, 'saturday': 1542, 'wrestling': 1993, 'ted': 1789, 'turner': 1875, 'wide': 1971, 'pro': 1365, 'florida': 676, 'weekend': 1961, 'library': 1032, 'lay': 1016, 'switch': 1769, 'multiple': 1163, 'sloppy': 1641, 'disagree': 506, 'staying': 1697, 'outbr': 1247, 'gangster': 722, 'motif': 1157, 'behavior': 155, 'paying': 1282, 'breath': 213, 'naturally': 1178, 'abuse': 31, 'substance': 1736, 'reputation': 1467, 'losing': 1056, 'wasting': 1951, 'precious': 1338, 'ridiculously': 1493, 'propaganda': 1374, 'raised': 1404, 'treated': 1859, 'versus': 1919, 'similarity': 1616, 'craft': 407, 'bmovie': 185, 'interaction': 919, 'genuinely': 733, 'charactersbr': 296, 'requires': 1469, 'lake': 1004, 'button': 248, 'ed': 556, 'dinosaur': 501, 'evidence': 605, 'passing': 1277, 'boat': 187, 'stranger': 1717, 'drunk': 541, 'endearing': 580, 'shadow': 1585, 'puppet': 1391, 'dragged': 527, 'pair': 1266, 'lovable': 1061, 'majority': 1084, 'beloved': 160, 'closing': 335, 'height': 818, '11': 1, 'briefly': 218, 'garden': 724, 'perry': 1289, 'praise': 1337, 'jackson': 942, 'pile': 1301, 'beating': 153, 'scared': 1546, 'sleeping': 1638, 'bus': 244, 'driver': 538, 'grown': 775, 'reduced': 1430, 'reunion': 1482, 'weve': 1968, 'load': 1047, 'sake': 1532, 'overly': 1255, 'babe': 134, 'butt': 247, 'bell': 158, 'pack': 1260, 'wedding': 1960, 'angel': 91, 'hanging': 797, 'safe': 1530, 'irony': 936, 'birth': 169, 'nation': 1175, 'selling': 1567, 'river': 1502, 'dude': 546, 'nut': 1218, 'savage': 1543, 'slave': 1636, 'filmsbr': 662, 'posse': 1328, 'mindless': 1137, 'balance': 139, 'snow': 1646, 'inept': 896, 'progress': 1370, 'charlie': 300, 'chaplin': 293, 'corpse': 395, 'russian': 1525, 'magical': 1081, 'treasure': 1858, 'gift': 736, 'aired': 62, 'horrific': 859, 'sharp': 1591, 'teeth': 1791, 'eat': 554, 'flesh': 673, 'destroy': 486, 'comfortable': 348, 'seeking': 1564, 'bite': 171, 'knock': 993, 'paint': 1264, 'portrait': 1324, 'sheriff': 1595, 'sidekick': 1611, 'drunken': 542, 'attacked': 123, 'freak': 703, 'leslie': 1026, 'authority': 132, 'birthday': 170, 'mst3k': 1162, 'eating': 555, 'racist': 1401, 'succeed': 1739, 'damage': 440, 'dubbing': 545, 'batman': 148, 'drawing': 529, 'lousy': 1060, 'annoyed': 98, 'robin': 1504, 'handle': 793, 'punch': 1390, 'onbr': 1237, 'tim': 1827, 'training': 1852, 'remain': 1448, 'faithful': 642, 'cgi': 287, 'network': 1193, 'huh': 865, 'operation': 1241, 'offering': 1233, 'service': 1578, 'dragon': 528, 'hunter': 869, 'loving': 1062, 'returned': 1480, 'hire': 833, 'hiding': 828, 'designed': 483, 'rob': 1503, 'claire': 324, 'dane': 443, 'awkward': 133, 'socalled': 1648, 'pretend': 1348, 'reached': 1414, 'glenn': 739, 'providing': 1383, 'relief': 1445, 'boredom': 198, 'error': 594, 'ann': 94, 'jerk': 953, 'evening': 603, 'bothered': 199, 'pulled': 1388, 'user': 1911, 'amazed': 82, 'michelle': 1129, 'goodbr': 750, 'rough': 1515, 'indie': 895, 'dreadful': 530, 'julia': 970, 'greatly': 766, 'international': 920, 'intrigue': 923, 'terror': 1797, 'revelation': 1487, 'anthony': 99, 'guide': 781, 'flow': 677, 'influence': 899, 'changing': 292, 'rush': 1522, 'web': 1958, 'prior': 1362, 'context': 375, 'ignored': 881, 'unfortunate': 1892, 'reallife': 1420, 'closet': 333, 'importance': 886, 'buck': 233, 'china': 311, 'provided': 1382, 'insight': 907, 'chinese': 312, 'technically': 1786, 'survive': 1763, 'village': 1927, 'traditional': 1851, 'asian': 113, 'homeless': 846, 'mob': 1147, 'fortune': 695, 'site': 1628, 'increasingly': 893, 'loses': 1055, 'plague': 1308, 'worker': 1983, 'succeeds': 1740, '1970s': 10, 'inspiration': 909, 'silence': 1614, 'drink': 534, 'object': 1219, 'spanish': 1660, 'accused': 37, 'determined': 489, 'hotel': 861, 'guest': 780, 'brian': 215, 'chose': 315, 'explicit': 625, 'soft': 1649, 'core': 392, 'psychological': 1386, 'deliberately': 464, 'possibility': 1329, 'nancy': 1173, 'relevant': 1444, '1010': 0, 'canadian': 260, 'distant': 519, 'spiritual': 1673, 'idiotic': 879, 'code': 337, 'closely': 331, 'resembles': 1472, 'suspenseful': 1766, 'exercise': 616, 'challenge': 290, 'trapped': 1857, 'dare': 447, 'cell': 286, 'lab': 1001, 'experiment': 621, 'tedious': 1790, 'sucked': 1742, 'fox': 698, 'cried': 418, 'stayed': 1696, 'heroic': 825, 'thug': 1820, 'mountain': 1159, 'storm': 1713, 'gary': 725, 'bobby': 189, 'goofy': 751, 'quest': 1396, 'loosely': 1052, 'resort': 1475, 'struggling': 1729, 'rubbish': 1520, 'cable': 251, 'endbr': 579, 'needle': 1186, 'subplots': 1734, 'exceptional': 610, 'freeman': 707, 'morgan': 1155, 'combined': 346, 'horrid': 858, 'flop': 675, 'express': 630, 'convey': 386, 'caring': 272, 'measure': 1111, 'surreal': 1760, 'nonetheless': 1203, 'ought': 1246, 'comical': 349, 'sophisticated': 1654, 'alltime': 78, 'infamous': 898, 'pig': 1300, 'unrealistic': 1904, 'captured': 266, 'torture': 1843, 'limit': 1038, '17': 5, '910': 26, 'described': 480, 'unfunny': 1893, 'oliver': 1236, 'hardy': 803, 'marry': 1095, 'sport': 1683, 'glass': 738, 'sarah': 1538, 'dry': 543, 'listening': 1045, 'repeat': 1459, 'packed': 1261, 'corny': 394, 'bitter': 172, 'loser': 1054, 'extended': 631, 'musician': 1168, 'breast': 212, 'album': 69, 'warner': 1947, 'category': 281, 'rachel': 1399, 'ward': 1943, 'heat': 814, 'notch': 1210, 'benefit': 161, 'hype': 871, 'wondered': 1981, 'ironic': 934, 'attempting': 125, 'madonna': 1077, 'remembered': 1452, 'relation': 1441, 'convince': 387, 'ala': 65, 'capable': 263, 'explaining': 623, 'existence': 617, 'degree': 463, 'dealing': 456, 'speed': 1666, 'attraction': 127, 'drinking': 535, 'onebr': 1238, 'lynch': 1073, '110': 2, 'seek': 1563, 'intellectual': 916, 'stomach': 1708, 'hitchcock': 835, 'cynical': 438, 'morality': 1154, 'competent': 356, 'smooth': 1644, 'contrast': 381, 'card': 267, 'faith': 641, 'symbolism': 1771, 'timing': 1830, 'device': 492, 'aforementioned': 53, 'handsome': 795, 'spite': 1674, 'dancer': 442, 'rival': 1501, 'ian': 873, 'torn': 1842, 'gordon': 752, 'virtually': 1930, 'gripping': 771, 'chilling': 310, 'visuals': 1933, 'depicted': 475, 'failing': 639, '2001': 14, 'robot': 1505, 'mildly': 1134, 'print': 1361, 'edited': 558, 'dubbed': 544, 'shape': 1589, 'correct': 396, 'dire': 502, 'reasonably': 1422, 'atmospheric': 120, 'involves': 930, 'photographer': 1295, 'ex': 607, 'vacation': 1914, 'sinister': 1624, 'victor': 1923, 'ancient': 86, 'abandoned': 28, 'friendly': 710, 'develops': 491, 'doll': 521, 'performed': 1286, 'deadly': 455, 'slap': 1634, 'suffer': 1744, 'barbara': 141, 'shed': 1592, 'worldbr': 1984, 'dick': 495, 'remark': 1450, 'circle': 320, 'pointed': 1316, 'regardless': 1437, 'sin': 1619, 'embarrassed': 573, 'fired': 666, 'roommate': 1512, 'gross': 773, 'cliche': 327, 'italy': 939, 'dennis': 471, 'santa': 1537, 'unexpected': 1890, 'base': 143, 'storybr': 1714, 'demand': 469, 'affect': 51, 'buying': 249, 'executive': 615, 'shortly': 1605, 'sunday': 1753, 'originality': 1245, 'prostitute': 1377, 'easier': 552, 'belongs': 159, 'flawless': 672, 'transformation': 1853, 'admire': 46, 'partly': 1275, 'contemporary': 374, 'flash': 670, 'string': 1723, 'ford': 685, 'cooper': 391, 'arthur': 111, 'debut': 460, 'warrior': 1949, 'massacre': 1100, 'finale': 663, 'legendary': 1023, 'perfection': 1284, 'excitement': 612, 'plastic': 1311, 'warm': 1944, 'accidentally': 34, 'twin': 1876, 'asleep': 115, 'warned': 1946, 'heck': 816, 'security': 1561, 'guard': 778, 'guessing': 779, 'continuity': 378, 'spike': 1671, 'chosen': 316, 'gritty': 772, 'neighborhood': 1188, 'threat': 1814, 'anger': 92, 'countless': 399, 'proved': 1381, 'comedian': 347, 'prefer': 1340, 'laughter': 1011, '410': 22, 'discovered': 510, 'lower': 1063, 'shelf': 1593, 'blockbuster': 182, 'kubrick': 997, 'format': 691, 'destroyed': 487, 'herebr': 824, 'homage': 845, 'crude': 423, 'responsible': 1477, 'manage': 1085, 'source': 1657, 'topic': 1841, 'jesus': 956, 'mel': 1116, 'principal': 1360, 'private': 1364, 'trap': 1856, 'harder': 802, 'patient': 1280, 'community': 354, 'allowing': 76, 'marie': 1093, 'ryan': 1528, 'strongly': 1726, 'photo': 1293, 'desert': 482, 'unforgettable': 1891, 'destruction': 488, 'hooked': 853, 'identity': 878, 'spectacular': 1664, 'surface': 1759, 'supernatural': 1758, 'superbly': 1755, 'haunted': 810, 'rolling': 1510, 'chair': 289, 'horribly': 857, 'alex': 70, 'surrounding': 1762, 'sudden': 1743, 'mitchell': 1145, 'fame': 645, 'vicious': 1922, 'overcome': 1252, 'von': 1934, 'spooky': 1682, 'largely': 1007, 'obnoxious': 1220, 'blonde': 183, 'pie': 1299, 'grim': 770, 'complicated': 361, 'miserably': 1143, 'develop': 490, 'logic': 1049, 'jail': 943, 'sentence': 1571, 'juvenile': 975, 'bland': 176, 'carol': 273, 'required': 1468, 'wake': 1935, 'danger': 444, 'conversation': 385, 'tall': 1776, 'hitting': 838, 'uninspired': 1895, 'delivery': 468, 'bet': 162, 'bomb': 192, 'discovery': 512, 'mexican': 1126, 'bug': 235, 'dropped': 540, 'mike': 1132, 'cardboard': 268, 'incoherent': 892, 'celebrity': 285, 'theyll': 1808, 'williams': 1973, 'trilogy': 1867, 'carter': 277, 'lloyd': 1046, 'nick': 1195, 'daily': 439, 'contain': 373, 'humorous': 867, 'higher': 829, 'refreshing': 1433, 'jimmy': 959, 'margaret': 1091, 'felix': 657, 'joseph': 966, 'denzel': 473, 'washington': 1950, 'charisma': 298, 'happily': 799, 'farce': 647, 'donald': 522, 'africa': 54, 'liberal': 1031, 'cultural': 429, 'glimpse': 740, 'wallace': 1939, 'kevin': 986, 'meaningless': 1110, 'accomplished': 35, 'tradition': 1850, 'relate': 1439, 'pushed': 1394, 'emotionally': 577, 'believed': 156, 'germany': 734, 'settle': 1579, 'mission': 1144, 'outrageous': 1251, 'stopped': 1712, 'couldve': 398, 'cared': 269, 'fish': 667, 'nomination': 1201, 'desperately': 484, 'bo': 186, 'derek': 479, 'satire': 1540, 'lacked': 1002, 'fly': 678, 'reveal': 1483, 'erotic': 593, 'broad': 224, 'shoulder': 1606, 'herbr': 823, 'harris': 804, 'preview': 1351, 'wilson': 1974, 'holding': 840, 'sympathetic': 1772, 'kung': 999, 'football': 683, 'serf': 1574, 'ninja': 1196, 'non': 1202, 'method': 1125, 'stan': 1688, 'stood': 1710, 'offered': 1232, 'australia': 129, 'activity': 41, 'talked': 1775, 'poster': 1331, 'clip': 330, 'cousin': 402, 'shop': 1604, 'credible': 417, 'appalling': 102, 'continued': 376, 'touched': 1844, 'matthew': 1106, 'website': 1959, 'jackie': 941, 'chan': 291, 'greek': 767, 'empire': 578, 'prepared': 1343, 'brand': 207, 'rap': 1410, 'sole': 1651, 'advice': 50, 'oil': 1235, 'trade': 1849, 'overdone': 1253, 'politics': 1319, 'accepted': 33, 'border': 196, 'asking': 114, 'mebr': 1113, 'producing': 1366, 'toilet': 1836, 'sing': 1621, 'rose': 1514, 'predecessor': 1339, 'instinct': 914, 'stylish': 1732, 'fourth': 697, 'himbr': 830, 'lion': 1041, 'impress': 888, 'stone': 1709, 'stereotypical': 1699, 'notion': 1212, 'norman': 1205, 'offensive': 1231, 'handled': 794, 'delightful': 466, 'ensemble': 584, 'theatrical': 1804, 'crappy': 410, 'spoof': 1681, 'pride': 1354, 'goldberg': 747, 'julie': 971, 'stiller': 1703, 'block': 181, 'monkey': 1150, 'moon': 1152, 'werewolf': 1966, 'mate': 1102, 'breaking': 211, 'suffering': 1746, 'afford': 52, 'target': 1780, 'stretch': 1719, 'burt': 242, 'reynolds': 1491, 'learning': 1020, 'tend': 1793, 'wouldve': 1989, 'min': 1136, 'disgusting': 516, 'hammer': 791, 'tied': 1824, 'letting': 1029, 'ape': 101, 'kim': 988, 'jumping': 972, 'send': 1568, 'suggests': 1748, 'court': 401, 'granted': 761, 'bob': 188, 'sir': 1626, 'pilot': 1302, 'driving': 539, 'placed': 1307, 'thatbr': 1803, 'neil': 1189, 'simon': 1617, 'uncomfortable': 1884, 'invite': 928, 'burned': 240, 'flynn': 679, 'walter': 1940, 'matthau': 1105, 'ordinary': 1243, 'poignant': 1315, 'rochester': 1506, 'basis': 146, 'timothy': 1831, 'miniseries': 1139, 'merit': 1123, 'test': 1799, 'alan': 66, 'howard': 862, 'taylor': 1783, 'text': 1801, 'melodramatic': 1118, 'france': 700, 'splendid': 1675, 'elephant': 569, 'practically': 1335, 'bruce': 232, 'brad': 204, 'pitt': 1305, 'cole': 338, 'terrorist': 1798, 'advantage': 49, 'ice': 874, 'survivor': 1764, 'princess': 1359, 'kidnapped': 987, 'ralph': 1405, 'davy': 452, 'larger': 1008, 'consequence': 369, 'mustsee': 1170, 'worthless': 1987, 'clown': 336, 'insane': 906, 'elvis': 571, 'thomas': 1813, 'shark': 1590, 'tiny': 1832, 'chuck': 318, 'host': 860, 'sitcom': 1627, 'gene': 728, 'facial': 636, 'strike': 1721, 'hysterical': 872, 'kapoor': 977, 'leonard': 1024, 'authentic': 131, 'flawed': 671, 'gate': 727, 'genuine': 732, 'sunshine': 1754, 'boot': 195, 'difficulty': 496, 'walker': 1938, 'lesbian': 1025, 'repetitive': 1462, 'arnold': 108, 'childrens': 308, 'ironically': 935, 'revolutionary': 1489, 'powell': 1334, 'jake': 944, 'alike': 73, 'technology': 1788, 'occasional': 1225, 'risk': 1499, 'essence': 595, 'consists': 370, 'luke': 1071, 'hood': 851, 'uncle': 1883, 'mask': 1098, 'bright': 219, 'ron': 1511, 'cook': 390, 'parker': 1273, 'shell': 1594, 'controversial': 383, 'report': 1464, 'proper': 1375, 'split': 1676, 'brazil': 210, 'trial': 1864, 'maria': 1092, 'defeat': 462, 'spoken': 1680, 'perform': 1285, 'exploitation': 627, 'mirror': 1141, 'national': 1176, 'nelson': 1190, 'warren': 1948, 'brook': 229, 'parody': 1274, 'searching': 1557, 'nail': 1171, 'freddy': 705, 'argument': 107, 'sun': 1752, 'blown': 184, 'paced': 1258, 'rushed': 1523, 'columbo': 342, 'wealthy': 1956, 'newspaper': 1194, 'discover': 509, 'size': 1629, 'reveals': 1486, 'initially': 902, 'effectively': 563, 'nose': 1207, 'hint': 831, 'captain': 264, 'gas': 726, 'tower': 1846, 'therebr': 1806, 'mixed': 1146, 'crisis': 419, 'tap': 1778, 'singer': 1622, 'fever': 658, 'exists': 618, 'ripoff': 1497, 'cary': 278, 'riding': 1494, 'pregnant': 1341, 'stronger': 1725, 'realizes': 1419, 'peace': 1283, 'suffered': 1745, 'united': 1899, 'exact': 608, 'skit': 1632, 'youth': 1998, 'absence': 30, 'waybr': 1953, 'subplot': 1733, 'endless': 581, 'universe': 1901, 'african': 55, 'extent': 632, 'eighty': 565, 'proud': 1379, 'ambitious': 85, 'visually': 1932, 'weight': 1962, 'citizen': 322, 'false': 644, 'focused': 680, 'winner': 1976, 'kelly': 982, 'nearby': 1181, 'march': 1090, 'arrested': 109, 'shower': 1608, 'description': 481, 'cup': 430, 'tea': 1784, 'fx': 718, 'vehicle': 1918, 'lucky': 1067, 'mass': 1099, 'melting': 1119, 'nurse': 1217, 'elderly': 568, 'curtis': 435, 'creates': 413, 'baker': 138, 'ultimate': 1880, 'midnight': 1131, 'chill': 309, 'cuba': 427, 'implausible': 885, 'lifebr': 1033, 'eve': 602, 'mouse': 1160, 'hall': 787, 'initial': 901, 'wanna': 1941, 'elizabeth': 570, 'continues': 377, 'formula': 692, 'wolf': 1980, 'revolves': 1490, 'commit': 351, 'busy': 246, 'relatively': 1443, 'dig': 497, 'againbr': 57, 'intrigued': 924, 'factory': 638, 'holiday': 841, 'passed': 1276, 'page': 1262, 'wise': 1978, 'cusack': 436, 'associated': 117, 'blank': 177, 'hatred': 809, 'cruise': 425, 'wave': 1952, 'revolution': 1488, 'ear': 551, 'bullet': 237, 'proof': 1372, 'invisible': 927, 'rescue': 1470, 'ton': 1838, 'environment': 590, 'pitch': 1304, 'sympathy': 1773, 'quote': 1398, 'roger': 1508, 'broadway': 226, 'kudos': 998, 'health': 812, 'ticket': 1822, 'sketch': 1630, 'deeper': 461, 'titled': 1834, 'discussion': 514, 'seventy': 1582, 'journalist': 967, 'repeatedly': 1461, 'thrilling': 1817, 'cage': 252, 'kitchen': 990, 'embarrassing': 574, 'depressing': 477, 'miracle': 1140, 'exaggerated': 609, 'porn': 1322, 'hopefully': 855, 'writerdirector': 1994, 'weapon': 1957, 'lou': 1058, 'luck': 1065, 'enjoying': 582, 'appreciated': 105, 'isbr': 938, 'albert': 68, 'intent': 918, 'henry': 822, 'prime': 1357, 'charge': 297, 'ingredient': 900, 'buff': 234, 'massive': 1101, 'zone': 1999, 'pool': 1320, 'matrix': 1103, 'pity': 1306, 'thankfully': 1802, 'remote': 1455, 'fatal': 651, 'sends': 1569, 'profound': 1368, 'marvelous': 1097, 'bound': 201, 'catherine': 282, 'redemption': 1429, 'achievement': 40, 'nuclear': 1215, 'fbi': 654, 'theory': 1805, 'directorial': 504, 'daring': 448, 'protect': 1378, 'strip': 1724, 'gonna': 749, 'brady': 205, 'clean': 326, 'dynamic': 550, 'halloween': 788, 'usa': 1909, 'tarzan': 1781, 'caused': 284, 'instant': 912, 'icon': 875, 'hed': 817, 'mgm': 1128, 'department': 474, 'chief': 307, 'imaginative': 884, 'nude': 1216, 'plant': 1310, 'jungle': 973, 'official': 1234, 'veteran': 1920, 'listed': 1044, 'tribe': 1865, 'improved': 889, 'storytelling': 1715, 'harry': 805, 'hamilton': 789, 'returning': 1481, 'dress': 531, 'crack': 406, 'stock': 1705, 'physically': 1296, 'triumph': 1870, 'rambo': 1406, 'dawn': 453, 'wing': 1975, 'tongue': 1839, 'atrocious': 121, 'badbr': 136, 'choose': 313, 'assume': 118, 'frankly': 702, 'choreography': 314, 'university': 1902, 'occurred': 1227, 'extraordinary': 633, 'status': 1695, 'gratuitous': 762, 'streisand': 1718, 'ego': 564, 'harvey': 807, 'notably': 1209, 'press': 1346, 'religious': 1447, 'sky': 1633, 'goal': 744, 'inspiring': 910, 'occasionally': 1226, 'flight': 674, 'frequently': 708, 'disease': 515, 'spell': 1667, 'devil': 493, 'spends': 1669, 'pacino': 1259, 'courage': 400, 'nerve': 1192, 'morning': 1156, 'irish': 932, 'adapted': 43, 'attempted': 124, 'incident': 890, 'bringing': 222, 'closer': 332, 'guilt': 782, 'depression': 478, 'spending': 1668, 'exploit': 626, 'companion': 355, 'account': 36, 'criticism': 421, 'poverty': 1333, 'union': 1898, 'reporter': 1465, 'carried': 275, 'kate': 980, 'learns': 1021, 'sacrifice': 1529, 'shine': 1596, 'link': 1040, 'snake': 1645, 'hat': 808, 'ideal': 876, 'urban': 1907, 'recognize': 1427, 'catholic': 283, 'wit': 1979, 'root': 1513, 'teach': 1785, 'lewis': 1030, 'forth': 693, 'liking': 1036, 'laurel': 1013, '20th': 17, 'spring': 1684, 'franchise': 701, 'fitting': 669, 'ship': 1598, 'sandler': 1536, 'response': 1476, 'executed': 613, 'specific': 1663, 'andor': 88, 'section': 1560, 'cutting': 437, 'trek': 1862, 'tree': 1861, 'iii': 882, 'uninteresting': 1897, 'scripted': 1553, '2006': 16, 'dear': 459, 'introduction': 925, 'lily': 1037, 'advance': 48, 'regard': 1435, '1930s': 7, 'corrupt': 397, 'stanwyck': 1691, 'throwing': 1819, 'charlotte': 301, 'edition': 559, 'upbr': 1905, 'hollow': 842, '1950s': 8, 'concern': 362, 'complain': 358, 'philip': 1292, 'bette': 163, 'obsessed': 1222, 'allows': 77, 'sentimental': 1572, 'naive': 1172, 'position': 1327, 'represents': 1466, 'grey': 769, 'importantly': 887, 'jessica': 955, 'breathtaking': 214, 'carefully': 270, 'eddie': 557, 'murphy': 1166, 'concerning': 363, 'stink': 1704, 'canada': 259, 'ireland': 931, 'north': 1206, 'frame': 699, 'unintentionally': 1896, 'cannibal': 262, 'wellbr': 1964, 'honor': 850, 'melodrama': 1117, 'campy': 258, 'magazine': 1079, 'spark': 1661, 'jennifer': 951, 'laura': 1012, 'tracy': 1848, 'hang': 796, 'simpson': 1618, 'patrick': 1281, 'steven': 1700, 'structure': 1728, 'andrew': 89, 'hired': 834, 'jaw': 947, 'subsequent': 1735, 'forgettable': 688, 'throat': 1818, 'dirty': 505, 'thief': 1810, 'latest': 1010, 'convinced': 388, 'neck': 1184, 'occurs': 1228, 'blair': 175, 'jon': 965, 'ned': 1185, 'sexually': 1584, 'frightening': 711, 'utter': 1912, 'uneven': 1889, 'demon': 470, 'satan': 1539, 'mexico': 1127, 'duke': 547, 'cube': 428, 'overthetop': 1257, 'lesser': 1027, 'navy': 1179, 'served': 1577, 'communist': 353, 'gentleman': 731, 'harsh': 806, 'piano': 1297, 'soviet': 1659, 'hunting': 870, 'helicopter': 820, 'combat': 343, 'candy': 261, 'roy': 1519, 'speaks': 1662, 'nonexistent': 1204, 'martial': 1096, 'hong': 849, 'kong': 995, 'identify': 877, 'prejudice': 1342, 'raw': 1413, 'manager': 1086, 'row': 1518, 'helping': 821, 'foster': 696, 'maggie': 1080, 'league': 1018, 'clark': 325, 'typically': 1878, 'jeff': 950, 'eva': 601, 'strictly': 1720, 'sidney': 1612, 'stunt': 1730, 'ruthless': 1527, 'wannabe': 1942, 'prevent': 1350, 'grave': 763, 'forgot': 690, 'walked': 1936, 'picking': 1298, 'glorious': 741, 'holy': 844, 'strangely': 1716, 'andy': 90, 'hank': 798, 'scheme': 1549, 'hoffman': 839, 'bond': 193, 'trite': 1869, 'population': 1321, 'everyday': 604, 'stanley': 1690, 'keaton': 981, 'futuristic': 717, '3d': 21, 'ken': 983, 'larry': 1009, 'gut': 784, 'ignore': 880, 'fool': 682, '24': 18, 'unconvincing': 1885, 'purely': 1392, 'youbr': 1997, 'cheer': 305, 'staff': 1687, 'scenebr': 1548, 'britain': 223, 'east': 553, 'eerie': 562, 'shallow': 1588, 'branagh': 206, 'stated': 1693, 'previously': 1352, 'amazingly': 83, 'narration': 1174, 'gotta': 755, 'opened': 1240, 'screening': 1551, 'california': 254, 'sum': 1750, 'outfit': 1250, 'revealing': 1485, 'interpretation': 922, 'spoilersbr': 1679, 'investigation': 926, 'ripped': 1498, 'shining': 1597, 'madness': 1076, 'tomato': 1837, 'disbelief': 507, 'blah': 174, 'insulting': 915, 'convoluted': 389, 'scenario': 1547, 'sally': 1533, 'policeman': 1317, 'cinderella': 319, 'stiff': 1702, 'pretentious': 1349, 'spielberg': 1670, 'lucas': 1064, 'reasonable': 1421, 'feed': 656, 'uk': 1879, 'ashamed': 112, 'faced': 635, 'humanity': 866, 'duo': 548, 'viewed': 1926, 'replaced': 1463, 'established': 597, 'lincoln': 1039, 'fonda': 681, 'whilst': 1969, 'necessarily': 1183, 'lawyer': 1015, 'dislike': 517, 'complexity': 360, 'serve': 1576, 'universal': 1900, 'inevitable': 897, 'opposed': 1242, 'samurai': 1534, 'timeless': 1828, 'curiosity': 431, 'mid': 1130, 'forbidden': 684, 'muslim': 1169, 'pleased': 1314, 'rat': 1412, 'em': 572, 'enters': 586, 'mild': 1133, 'aunt': 128, 'titanic': 1833, 'superman': 1757, 'superhero': 1756, 'colorful': 340, '13': 3, 'anime': 93, 'kiss': 989, 'leg': 1022, '18': 6, 'eric': 592, 'contrary': 380, 'pal': 1267, 'regarding': 1436, 'mann': 1087, 'characteristic': 294, 'transition': 1854, 'sings': 1623, 'emma': 576, 'editor': 560, 'jet': 957, 'sullivan': 1749, 'max': 1108, 'generous': 730, 'johnson': 963, 'truck': 1872, 'christ': 317, 'broke': 227, 'moviesbr': 1161, 'funnybr': 716, '45': 23, 'virgin': 1929, 'received': 1426, 'fabulous': 634, 'kennedy': 984, 'cabin': 250, 'lifestyle': 1034, 'ocean': 1229, 'notable': 1208, 'psychotic': 1387, 'lazy': 1017, 'pirate': 1303, 'prop': 1373, 'retarded': 1479, 'carrying': 276, 'cameron': 257, 'sink': 1625, 'psychiatrist': 1384, 'task': 1782, 'jealous': 949, 'entertain': 587, 'toy': 1847, 'featured': 655, 'theyve': 1809, 'cruel': 424, 'notorious': 1213, 'noted': 1211, 'beaten': 152, 'characterization': 295, 'lyric': 1074, 'expensive': 619, 'smoke': 1642, 'daniel': 445, 'solve': 1653, 'basement': 145, 'corner': 393, 'achieve': 38, 'involvement': 929, 'modesty': 1148, 'gold': 746, 'mar': 1089, 'believing': 157, 'karen': 978, 'presentation': 1344, 'jeremy': 952, 'convention': 384, 'attracted': 126, 'confusion': 366, 'oddly': 1230, 'hook': 852, 'aged': 58, 'nerd': 1191, 'prisoner': 1363, 'betterbr': 164, 'reed': 1431, 'sea': 1554, 'checking': 304, 'rocket': 1507, '911': 27, 'segment': 1565, 'tribute': 1866, 'lisa': 1043, 'practice': 1336, 'racism': 1400, 'castle': 280, 'currently': 433, '2000': 13, 'grandmother': 759, 'walken': 1937, 'inner': 903, 'chasing': 302, 'rebel': 1423, 'captivating': 265, 'credibility': 416, 'soprano': 1655, 'monk': 1149, 'till': 1826, 'anyways': 100, 'doc': 520, 'landscape': 1005, 'recall': 1424, 'crafted': 408, 'built': 236, 'creation': 414, 'frustration': 713, 'yesterday': 1996, 'sutherland': 1767, 'evident': 606, 'outcome': 1248, 'admittedly': 47, 'fisher': 668, 'delivered': 467, 'carpenter': 274, 'terrifying': 1795, 'obscure': 1221, 'jamie': 945, 'nowadays': 1214, 'ludicrous': 1069, 'timesbr': 1829, 'striking': 1722, 'burton': 243, 'heston': 827, 'theyd': 1807, 'discus': 513, 'trio': 1868, 'rid': 1492, 'ruined': 1521, 'ambition': 84, 'saga': 1531, 'jay': 948, 'turkey': 1874, 'diamond': 494, 'los': 1053, 'connect': 367, '1st': 12, 'successfully': 1741, 'hip': 832, 'mature': 1107, 'handful': 792, 'bride': 216, 'bourne': 202, 'clichéd': 328, 'threatening': 1815, 'disc': 508, 'intensity': 917, 'glover': 743, 'lawrence': 1014, 'nominated': 1200, 'occasion': 1224, 'meaningful': 1109, 'matt': 1104, 'contract': 379, 'grows': 776, 'receive': 1425, 'aka': 63, 'louis': 1059, 'par': 1270, 'appearing': 104, 'twisted': 1877, 'post': 1330, 'funnier': 715, 'emily': 575, 'victoria': 1924, 'duty': 549, 'cheese': 306, 'nazi': 1180, 'estate': 598, 'solo': 1652, 'swedish': 1768, 'politician': 1318, 'entry': 589, 'wayne': 1954, 'outer': 1249, 'sinatra': 1620, 'meat': 1112, 'digital': 498, 'elaborate': 567, 'kane': 976, 'slight': 1639, 'beer': 154, 'blend': 179, 'hitler': 836, 'darkness': 450, 'sean': 1556, 'widmark': 1972, 'moore': 1153, 'virus': 1931, 'bettie': 165, 'subtlety': 1738, 'dentist': 472, 'ruth': 1526, 'drew': 533, 'market': 1094, 'scarecrow': 1545, 'properly': 1376, 'susan': 1765, 'mentally': 1121, 'gradually': 757, 'jewish': 958, 'thumb': 1821, 'barry': 142, 'menacing': 1120, 'summary': 1751, 'gray': 764, 'anna': 95, 'showcase': 1607, 'annie': 97, 'brilliance': 220, 'rain': 1402, 'react': 1415, 'fay': 653, 'performing': 1288, 'silver': 1615, 'wound': 1990, 'starred': 1692, 'vega': 1917, 'struck': 1727, 'winter': 1977, 'contact': 372, 'darker': 449, 'primarily': 1356, 'caine': 253, 'stole': 1706, 'wwii': 1995, 'adequate': 45, 'attached': 122, 'glory': 742, 'seller': 1566, 'worried': 1985, 'promising': 1371, 'innovative': 905, 'toobr': 1840, 'korean': 996, 'planning': 1309, 'san': 1535, 'wicked': 1970, 'stooge': 1711, 'combine': 345, 'bone': 194, 'shirt': 1600, 'craig': 409, 'remarkably': 1451, 'miller': 1135, 'realise': 1417, 'boxing': 203, 'lugosi': 1070, 'iron': 933, '1960s': 9, 'montage': 1151, 'aimed': 60, 'museum': 1167, 'explore': 628, 'kenneth': 985, 'dracula': 526, 'recognized': 1428, 'equal': 591, 'inspector': 908, 'mafia': 1078, 'shoe': 1602, 'europe': 600, 'charismatic': 299, 'reel': 1432, 'holmes': 843, 'tame': 1777, 'garbo': 723, 'installment': 911, 'homosexual': 848, 'restaurant': 1478, '2005': 15, 'el': 566, 'item': 940, 'pleasantly': 1313, 'hamlet': 790, 'fancy': 646, 'variety': 1916, 'drivel': 536, 'dignity': 499, 'seed': 1562, 'welles': 1965, 'brando': 208, 'kurt': 1000, 'alice': 72, 'resident': 1473, 'brosnan': 230, 'gadget': 719, 'gothic': 754, 'crush': 426, 'stealing': 1698, 'abc': 29, 'backdrop': 135, 'homer': 847, 'russell': 1524, 'financial': 664, 'karloff': 979, 'che': 303, 'seagal': 1555, 'macarthur': 1075, 'todd': 1835, 'gandhi': 721, 'pat': 1278}\n"
          ]
        }
      ]
    },
    {
      "cell_type": "code",
      "source": [
        "import gensim"
      ],
      "metadata": {
        "id": "g2I1iwdqaWpN"
      },
      "execution_count": 27,
      "outputs": []
    },
    {
      "cell_type": "code",
      "source": [
        "from nltk import sent_tokenize\n",
        "from gensim.utils import simple_preprocess"
      ],
      "metadata": {
        "id": "h7Dz1y4vaZG8"
      },
      "execution_count": 28,
      "outputs": []
    },
    {
      "cell_type": "code",
      "source": [
        "story = []\n",
        "for doc in data['review']: #We sentence tokenize our doc then do preprocessing\n",
        "    raw_sent = sent_tokenize(doc)\n",
        "    for sent in raw_sent:\n",
        "        story.append(simple_preprocess(sent))"
      ],
      "metadata": {
        "id": "f52POureIWVx"
      },
      "execution_count": 29,
      "outputs": []
    },
    {
      "cell_type": "markdown",
      "source": [
        "Building model"
      ],
      "metadata": {
        "id": "PpYXk-n1ajbc"
      }
    },
    {
      "cell_type": "code",
      "source": [
        "model = gensim.models.Word2Vec(\n",
        "    window=10,\n",
        " min_count=2\n",
        ")"
      ],
      "metadata": {
        "id": "9SLvguvbaic1"
      },
      "execution_count": 30,
      "outputs": []
    },
    {
      "cell_type": "markdown",
      "source": [],
      "metadata": {
        "id": "MH5r1aLDaouK"
      }
    },
    {
      "cell_type": "code",
      "source": [
        "model.build_vocab(story)"
      ],
      "metadata": {
        "id": "Ud5V_0zeanvY"
      },
      "execution_count": 31,
      "outputs": []
    },
    {
      "cell_type": "markdown",
      "source": [
        "Model training"
      ],
      "metadata": {
        "id": "pshsWEsWasoD"
      }
    },
    {
      "cell_type": "code",
      "source": [
        "model.train(story, total_examples=model.corpus_count, epochs=model.epochs)"
      ],
      "metadata": {
        "colab": {
          "base_uri": "https://localhost:8080/"
        },
        "id": "w7BX2_NsapUe",
        "outputId": "c31b448c-e39a-4902-8999-28a1966f02d7"
      },
      "execution_count": 32,
      "outputs": [
        {
          "output_type": "execute_result",
          "data": {
            "text/plain": [
              "(14153019, 15308715)"
            ]
          },
          "metadata": {},
          "execution_count": 32
        }
      ]
    },
    {
      "cell_type": "markdown",
      "source": [
        "Finding the number of model in our vocabulary"
      ],
      "metadata": {
        "id": "9Hmy1JhIawUJ"
      }
    },
    {
      "cell_type": "code",
      "source": [
        "len(model.wv.index_to_key)"
      ],
      "metadata": {
        "colab": {
          "base_uri": "https://localhost:8080/"
        },
        "id": "szEHxzabavta",
        "outputId": "6f5ac176-c3bb-4192-ce8f-59e0d9b41946"
      },
      "execution_count": 33,
      "outputs": [
        {
          "output_type": "execute_result",
          "data": {
            "text/plain": [
              "50069"
            ]
          },
          "metadata": {},
          "execution_count": 33
        }
      ]
    },
    {
      "cell_type": "markdown",
      "source": [
        "creating vector to represent our reviews"
      ],
      "metadata": {
        "id": "D_1RDoi0bGU_"
      }
    },
    {
      "cell_type": "code",
      "source": [
        "def document_vector(doc):\n",
        "    # remove out-of-vocabulary words\n",
        "    doc = [word for word in doc.split() if word in model.wv.index_to_key]\n",
        "    return np.mean(model.wv[doc], axis=0)"
      ],
      "metadata": {
        "id": "JrR3B0uZa51t"
      },
      "execution_count": 34,
      "outputs": []
    },
    {
      "cell_type": "code",
      "source": [
        "document_vector(data['review'].values[0])"
      ],
      "metadata": {
        "colab": {
          "base_uri": "https://localhost:8080/"
        },
        "id": "8zN9truebJ29",
        "outputId": "674d3910-c657-4dc0-eeae-3e9b70387895"
      },
      "execution_count": 35,
      "outputs": [
        {
          "output_type": "execute_result",
          "data": {
            "text/plain": [
              "array([ 5.5610485e-02,  7.4281566e-02, -2.6672831e-01, -5.9818757e-01,\n",
              "        6.3464284e-02, -4.8056713e-01,  4.7066014e-02,  9.9900788e-01,\n",
              "        7.4374832e-02, -4.2752984e-01, -9.6135929e-02, -1.1916489e-01,\n",
              "       -6.6675074e-02,  5.5745226e-01, -2.3102356e-01,  1.4081617e-01,\n",
              "        8.8206249e-01, -2.9603210e-01,  2.7928182e-01, -6.9435292e-01,\n",
              "        3.4643361e-01,  3.7601117e-02, -1.8025046e-02,  2.6813215e-01,\n",
              "       -9.8951755e-04,  2.1669044e-01,  1.9991040e-01,  2.8327847e-02,\n",
              "        4.5916848e-02,  1.0852660e-01,  3.9126477e-01,  1.6770330e-01,\n",
              "        9.5401861e-02, -7.6610558e-02,  1.2004996e-02, -5.3336840e-02,\n",
              "        3.5709652e-01, -5.2778780e-01, -2.0269939e-01, -2.8432897e-01,\n",
              "        1.4868779e-01, -4.6063143e-01, -1.8244542e-01,  3.0377275e-01,\n",
              "        9.6451439e-02, -4.1390178e-01, -4.2556924e-01, -2.6425353e-01,\n",
              "       -6.4413689e-02, -3.0852968e-01,  9.9530399e-02, -2.4654415e-01,\n",
              "       -2.4136969e-01,  2.8875479e-01,  1.1873989e-01, -1.8967451e-01,\n",
              "        5.9414899e-01,  3.2253101e-01, -1.9469394e-01, -2.0860223e-01,\n",
              "       -4.6968719e-01, -6.6889994e-02,  6.2888730e-01, -6.9301136e-02,\n",
              "       -7.6148355e-01,  2.5231677e-01, -6.1139937e-02,  2.8760335e-01,\n",
              "       -9.4596738e-01,  2.0127180e-01, -5.8381684e-02,  1.4771834e-01,\n",
              "       -1.4819786e-01, -6.2338035e-03,  6.4374942e-01, -3.3814606e-01,\n",
              "        2.5895640e-01,  6.7479515e-01, -2.5682573e-03, -9.6174918e-02,\n",
              "       -3.9296681e-01,  2.9551873e-01, -4.4336447e-01,  8.7212265e-01,\n",
              "        4.4688445e-02,  1.6709466e-01,  4.7023049e-01,  5.0632399e-01,\n",
              "       -3.4868345e-02,  5.3871614e-01,  6.4758295e-01,  4.5316312e-01,\n",
              "        5.0320715e-01,  3.1916922e-01,  5.0993856e-02,  2.1601751e-02,\n",
              "        4.9838275e-01, -3.3063564e-01,  2.1270254e-01,  2.3821895e-01],\n",
              "      dtype=float32)"
            ]
          },
          "metadata": {},
          "execution_count": 35
        }
      ]
    },
    {
      "cell_type": "markdown",
      "source": [
        "Model Building and Evaluation"
      ],
      "metadata": {
        "id": "r0NEMET-bg1L"
      }
    },
    {
      "cell_type": "markdown",
      "source": [
        "Logistic Regression"
      ],
      "metadata": {
        "id": "-XDZ4Vdlbjvp"
      }
    },
    {
      "cell_type": "code",
      "source": [
        "from sklearn.linear_model import LogisticRegression\n",
        "lr= LogisticRegression()"
      ],
      "metadata": {
        "id": "NZ-Nwg3ubQFl"
      },
      "execution_count": 36,
      "outputs": []
    },
    {
      "cell_type": "code",
      "source": [
        "lr.fit(x_train_bow,y_train)\n",
        "y_pred = lr.predict(x_test_bow)"
      ],
      "metadata": {
        "id": "pLqSdj2UbWCf"
      },
      "execution_count": 38,
      "outputs": []
    },
    {
      "cell_type": "code",
      "source": [
        "from sklearn.metrics import accuracy_score, recall_score, f1_score, confusion_matrix, classification_report\n",
        "accuracy_score(y_test,y_pred)"
      ],
      "metadata": {
        "colab": {
          "base_uri": "https://localhost:8080/"
        },
        "id": "xHdaWemKbbUd",
        "outputId": "c7c46d30-b39d-4ed9-b049-17613cc5c230"
      },
      "execution_count": 39,
      "outputs": [
        {
          "output_type": "execute_result",
          "data": {
            "text/plain": [
              "0.7466"
            ]
          },
          "metadata": {},
          "execution_count": 39
        }
      ]
    },
    {
      "cell_type": "markdown",
      "source": [
        "RandomForestClassifier"
      ],
      "metadata": {
        "id": "cQJ10okiMGJT"
      }
    },
    {
      "cell_type": "code",
      "source": [
        "from sklearn.ensemble import RandomForestClassifier\n",
        "rf = RandomForestClassifier()\n",
        "\n",
        "rf.fit(x_train_bow,y_train)\n",
        "y_pred = rf.predict(x_test_bow)\n",
        "accuracy_score(y_test,y_pred)"
      ],
      "metadata": {
        "colab": {
          "base_uri": "https://localhost:8080/"
        },
        "id": "IKcZYe53KU84",
        "outputId": "85890fb9-8b02-47fb-a0cd-6496d8dd7296"
      },
      "execution_count": 40,
      "outputs": [
        {
          "output_type": "execute_result",
          "data": {
            "text/plain": [
              "0.7372"
            ]
          },
          "metadata": {},
          "execution_count": 40
        }
      ]
    },
    {
      "cell_type": "code",
      "source": [
        "from sklearn.metrics import accuracy_score, recall_score, f1_score, confusion_matrix, classification_report"
      ],
      "metadata": {
        "id": "8LrQhYoVQv2_"
      },
      "execution_count": 41,
      "outputs": []
    },
    {
      "cell_type": "code",
      "source": [
        "confusion_matrix(y_test,y_pred)"
      ],
      "metadata": {
        "colab": {
          "base_uri": "https://localhost:8080/"
        },
        "id": "FvSFCEQrb4_E",
        "outputId": "a35036c8-8261-4d3f-e13f-6a0db9cde354"
      },
      "execution_count": 42,
      "outputs": [
        {
          "output_type": "execute_result",
          "data": {
            "text/plain": [
              "array([[1859,  610],\n",
              "       [ 704, 1827]])"
            ]
          },
          "metadata": {},
          "execution_count": 42
        }
      ]
    },
    {
      "cell_type": "code",
      "source": [
        "print('The accuracy score is: ', accuracy_score(y_test,y_pred))"
      ],
      "metadata": {
        "colab": {
          "base_uri": "https://localhost:8080/"
        },
        "id": "F-9hfxA5b1w3",
        "outputId": "27c8e049-43d6-476e-9c54-78c466caa73b"
      },
      "execution_count": 43,
      "outputs": [
        {
          "output_type": "stream",
          "name": "stdout",
          "text": [
            "The accuracy score is:  0.7372\n"
          ]
        }
      ]
    }
  ],
  "metadata": {
    "colab": {
      "provenance": []
    },
    "kernelspec": {
      "display_name": "Python 3",
      "name": "python3"
    },
    "language_info": {
      "name": "python"
    }
  },
  "nbformat": 4,
  "nbformat_minor": 0
}