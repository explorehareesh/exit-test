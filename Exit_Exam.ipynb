{
  "cells": [
    {
      "cell_type": "markdown",
      "source": [
        "Importing Required libaries"
      ],
      "metadata": {
        "id": "LWcsGCXP0BZf"
      }
    },
    {
      "cell_type": "code",
      "execution_count": 1,
      "metadata": {
        "id": "ggkU4jrrrqK8",
        "colab": {
          "base_uri": "https://localhost:8080/"
        },
        "outputId": "2cbddac6-79aa-4f64-bd77-11949c22f316"
      },
      "outputs": [
        {
          "output_type": "stream",
          "name": "stderr",
          "text": [
            "[nltk_data] Downloading package wordnet to /root/nltk_data...\n",
            "[nltk_data]   Package wordnet is already up-to-date!\n"
          ]
        },
        {
          "output_type": "execute_result",
          "data": {
            "text/plain": [
              "True"
            ]
          },
          "metadata": {},
          "execution_count": 1
        }
      ],
      "source": [
        "import numpy as np\n",
        "import pandas as pd\n",
        "import matplotlib.pyplot as plt\n",
        "import re\n",
        "import nltk\n",
        "import spacy\n",
        "import string\n",
        "\n",
        "from sklearn.feature_extraction.text import CountVectorizer\n",
        "from sklearn.feature_extraction.text import TfidfVectorizer\n",
        "from nltk.corpus import stopwords\n",
        "from nltk.tokenize import word_tokenize\n",
        "from nltk.stem import WordNetLemmatizer\n",
        "nltk.download('wordnet')"
      ]
    },
    {
      "cell_type": "markdown",
      "source": [
        "Loading the Dataset from Google Drive"
      ],
      "metadata": {
        "id": "2eHtafWe0G25"
      }
    },
    {
      "cell_type": "code",
      "execution_count": 2,
      "metadata": {
        "colab": {
          "base_uri": "https://localhost:8080/"
        },
        "id": "6I-wZFTSr5cJ",
        "outputId": "da8a940f-cb0c-43d6-9e46-1258b1278ee8"
      },
      "outputs": [
        {
          "output_type": "stream",
          "name": "stdout",
          "text": [
            "Drive already mounted at /content/drive; to attempt to forcibly remount, call drive.mount(\"/content/drive\", force_remount=True).\n"
          ]
        }
      ],
      "source": [
        "from google.colab import drive\n",
        "drive.mount('/content/drive')"
      ]
    },
    {
      "cell_type": "markdown",
      "source": [
        "Reviewing the dataset"
      ],
      "metadata": {
        "id": "FuaQrs3c0MkR"
      }
    },
    {
      "cell_type": "code",
      "source": [
        "data = pd.read_csv('/content/drive/MyDrive/Exam/labeledTrainData.tsv', delimiter='\\t')"
      ],
      "metadata": {
        "id": "f0k32g8dzOqM"
      },
      "execution_count": 3,
      "outputs": []
    },
    {
      "cell_type": "code",
      "source": [
        "data.head()"
      ],
      "metadata": {
        "colab": {
          "base_uri": "https://localhost:8080/",
          "height": 206
        },
        "id": "Dh5g6_2yzW-E",
        "outputId": "3b982015-4c7d-4c14-e077-9d0f025cbfa3"
      },
      "execution_count": 4,
      "outputs": [
        {
          "output_type": "execute_result",
          "data": {
            "text/plain": [
              "       id  sentiment                                             review\n",
              "0  5814_8          1  With all this stuff going down at the moment w...\n",
              "1  2381_9          1  \\The Classic War of the Worlds\\\" by Timothy Hi...\n",
              "2  7759_3          0  The film starts with a manager (Nicholas Bell)...\n",
              "3  3630_4          0  It must be assumed that those who praised this...\n",
              "4  9495_8          1  Superbly trashy and wondrously unpretentious 8..."
            ],
            "text/html": [
              "\n",
              "  <div id=\"df-7af14d1c-dab9-48c5-b786-fd3735e87df6\" class=\"colab-df-container\">\n",
              "    <div>\n",
              "<style scoped>\n",
              "    .dataframe tbody tr th:only-of-type {\n",
              "        vertical-align: middle;\n",
              "    }\n",
              "\n",
              "    .dataframe tbody tr th {\n",
              "        vertical-align: top;\n",
              "    }\n",
              "\n",
              "    .dataframe thead th {\n",
              "        text-align: right;\n",
              "    }\n",
              "</style>\n",
              "<table border=\"1\" class=\"dataframe\">\n",
              "  <thead>\n",
              "    <tr style=\"text-align: right;\">\n",
              "      <th></th>\n",
              "      <th>id</th>\n",
              "      <th>sentiment</th>\n",
              "      <th>review</th>\n",
              "    </tr>\n",
              "  </thead>\n",
              "  <tbody>\n",
              "    <tr>\n",
              "      <th>0</th>\n",
              "      <td>5814_8</td>\n",
              "      <td>1</td>\n",
              "      <td>With all this stuff going down at the moment w...</td>\n",
              "    </tr>\n",
              "    <tr>\n",
              "      <th>1</th>\n",
              "      <td>2381_9</td>\n",
              "      <td>1</td>\n",
              "      <td>\\The Classic War of the Worlds\\\" by Timothy Hi...</td>\n",
              "    </tr>\n",
              "    <tr>\n",
              "      <th>2</th>\n",
              "      <td>7759_3</td>\n",
              "      <td>0</td>\n",
              "      <td>The film starts with a manager (Nicholas Bell)...</td>\n",
              "    </tr>\n",
              "    <tr>\n",
              "      <th>3</th>\n",
              "      <td>3630_4</td>\n",
              "      <td>0</td>\n",
              "      <td>It must be assumed that those who praised this...</td>\n",
              "    </tr>\n",
              "    <tr>\n",
              "      <th>4</th>\n",
              "      <td>9495_8</td>\n",
              "      <td>1</td>\n",
              "      <td>Superbly trashy and wondrously unpretentious 8...</td>\n",
              "    </tr>\n",
              "  </tbody>\n",
              "</table>\n",
              "</div>\n",
              "    <div class=\"colab-df-buttons\">\n",
              "\n",
              "  <div class=\"colab-df-container\">\n",
              "    <button class=\"colab-df-convert\" onclick=\"convertToInteractive('df-7af14d1c-dab9-48c5-b786-fd3735e87df6')\"\n",
              "            title=\"Convert this dataframe to an interactive table.\"\n",
              "            style=\"display:none;\">\n",
              "\n",
              "  <svg xmlns=\"http://www.w3.org/2000/svg\" height=\"24px\" viewBox=\"0 -960 960 960\">\n",
              "    <path d=\"M120-120v-720h720v720H120Zm60-500h600v-160H180v160Zm220 220h160v-160H400v160Zm0 220h160v-160H400v160ZM180-400h160v-160H180v160Zm440 0h160v-160H620v160ZM180-180h160v-160H180v160Zm440 0h160v-160H620v160Z\"/>\n",
              "  </svg>\n",
              "    </button>\n",
              "\n",
              "  <style>\n",
              "    .colab-df-container {\n",
              "      display:flex;\n",
              "      gap: 12px;\n",
              "    }\n",
              "\n",
              "    .colab-df-convert {\n",
              "      background-color: #E8F0FE;\n",
              "      border: none;\n",
              "      border-radius: 50%;\n",
              "      cursor: pointer;\n",
              "      display: none;\n",
              "      fill: #1967D2;\n",
              "      height: 32px;\n",
              "      padding: 0 0 0 0;\n",
              "      width: 32px;\n",
              "    }\n",
              "\n",
              "    .colab-df-convert:hover {\n",
              "      background-color: #E2EBFA;\n",
              "      box-shadow: 0px 1px 2px rgba(60, 64, 67, 0.3), 0px 1px 3px 1px rgba(60, 64, 67, 0.15);\n",
              "      fill: #174EA6;\n",
              "    }\n",
              "\n",
              "    .colab-df-buttons div {\n",
              "      margin-bottom: 4px;\n",
              "    }\n",
              "\n",
              "    [theme=dark] .colab-df-convert {\n",
              "      background-color: #3B4455;\n",
              "      fill: #D2E3FC;\n",
              "    }\n",
              "\n",
              "    [theme=dark] .colab-df-convert:hover {\n",
              "      background-color: #434B5C;\n",
              "      box-shadow: 0px 1px 3px 1px rgba(0, 0, 0, 0.15);\n",
              "      filter: drop-shadow(0px 1px 2px rgba(0, 0, 0, 0.3));\n",
              "      fill: #FFFFFF;\n",
              "    }\n",
              "  </style>\n",
              "\n",
              "    <script>\n",
              "      const buttonEl =\n",
              "        document.querySelector('#df-7af14d1c-dab9-48c5-b786-fd3735e87df6 button.colab-df-convert');\n",
              "      buttonEl.style.display =\n",
              "        google.colab.kernel.accessAllowed ? 'block' : 'none';\n",
              "\n",
              "      async function convertToInteractive(key) {\n",
              "        const element = document.querySelector('#df-7af14d1c-dab9-48c5-b786-fd3735e87df6');\n",
              "        const dataTable =\n",
              "          await google.colab.kernel.invokeFunction('convertToInteractive',\n",
              "                                                    [key], {});\n",
              "        if (!dataTable) return;\n",
              "\n",
              "        const docLinkHtml = 'Like what you see? Visit the ' +\n",
              "          '<a target=\"_blank\" href=https://colab.research.google.com/notebooks/data_table.ipynb>data table notebook</a>'\n",
              "          + ' to learn more about interactive tables.';\n",
              "        element.innerHTML = '';\n",
              "        dataTable['output_type'] = 'display_data';\n",
              "        await google.colab.output.renderOutput(dataTable, element);\n",
              "        const docLink = document.createElement('div');\n",
              "        docLink.innerHTML = docLinkHtml;\n",
              "        element.appendChild(docLink);\n",
              "      }\n",
              "    </script>\n",
              "  </div>\n",
              "\n",
              "\n",
              "<div id=\"df-f735140e-3e1e-4ca9-b8c8-2459e6a6e496\">\n",
              "  <button class=\"colab-df-quickchart\" onclick=\"quickchart('df-f735140e-3e1e-4ca9-b8c8-2459e6a6e496')\"\n",
              "            title=\"Suggest charts\"\n",
              "            style=\"display:none;\">\n",
              "\n",
              "<svg xmlns=\"http://www.w3.org/2000/svg\" height=\"24px\"viewBox=\"0 0 24 24\"\n",
              "     width=\"24px\">\n",
              "    <g>\n",
              "        <path d=\"M19 3H5c-1.1 0-2 .9-2 2v14c0 1.1.9 2 2 2h14c1.1 0 2-.9 2-2V5c0-1.1-.9-2-2-2zM9 17H7v-7h2v7zm4 0h-2V7h2v10zm4 0h-2v-4h2v4z\"/>\n",
              "    </g>\n",
              "</svg>\n",
              "  </button>\n",
              "\n",
              "<style>\n",
              "  .colab-df-quickchart {\n",
              "      --bg-color: #E8F0FE;\n",
              "      --fill-color: #1967D2;\n",
              "      --hover-bg-color: #E2EBFA;\n",
              "      --hover-fill-color: #174EA6;\n",
              "      --disabled-fill-color: #AAA;\n",
              "      --disabled-bg-color: #DDD;\n",
              "  }\n",
              "\n",
              "  [theme=dark] .colab-df-quickchart {\n",
              "      --bg-color: #3B4455;\n",
              "      --fill-color: #D2E3FC;\n",
              "      --hover-bg-color: #434B5C;\n",
              "      --hover-fill-color: #FFFFFF;\n",
              "      --disabled-bg-color: #3B4455;\n",
              "      --disabled-fill-color: #666;\n",
              "  }\n",
              "\n",
              "  .colab-df-quickchart {\n",
              "    background-color: var(--bg-color);\n",
              "    border: none;\n",
              "    border-radius: 50%;\n",
              "    cursor: pointer;\n",
              "    display: none;\n",
              "    fill: var(--fill-color);\n",
              "    height: 32px;\n",
              "    padding: 0;\n",
              "    width: 32px;\n",
              "  }\n",
              "\n",
              "  .colab-df-quickchart:hover {\n",
              "    background-color: var(--hover-bg-color);\n",
              "    box-shadow: 0 1px 2px rgba(60, 64, 67, 0.3), 0 1px 3px 1px rgba(60, 64, 67, 0.15);\n",
              "    fill: var(--button-hover-fill-color);\n",
              "  }\n",
              "\n",
              "  .colab-df-quickchart-complete:disabled,\n",
              "  .colab-df-quickchart-complete:disabled:hover {\n",
              "    background-color: var(--disabled-bg-color);\n",
              "    fill: var(--disabled-fill-color);\n",
              "    box-shadow: none;\n",
              "  }\n",
              "\n",
              "  .colab-df-spinner {\n",
              "    border: 2px solid var(--fill-color);\n",
              "    border-color: transparent;\n",
              "    border-bottom-color: var(--fill-color);\n",
              "    animation:\n",
              "      spin 1s steps(1) infinite;\n",
              "  }\n",
              "\n",
              "  @keyframes spin {\n",
              "    0% {\n",
              "      border-color: transparent;\n",
              "      border-bottom-color: var(--fill-color);\n",
              "      border-left-color: var(--fill-color);\n",
              "    }\n",
              "    20% {\n",
              "      border-color: transparent;\n",
              "      border-left-color: var(--fill-color);\n",
              "      border-top-color: var(--fill-color);\n",
              "    }\n",
              "    30% {\n",
              "      border-color: transparent;\n",
              "      border-left-color: var(--fill-color);\n",
              "      border-top-color: var(--fill-color);\n",
              "      border-right-color: var(--fill-color);\n",
              "    }\n",
              "    40% {\n",
              "      border-color: transparent;\n",
              "      border-right-color: var(--fill-color);\n",
              "      border-top-color: var(--fill-color);\n",
              "    }\n",
              "    60% {\n",
              "      border-color: transparent;\n",
              "      border-right-color: var(--fill-color);\n",
              "    }\n",
              "    80% {\n",
              "      border-color: transparent;\n",
              "      border-right-color: var(--fill-color);\n",
              "      border-bottom-color: var(--fill-color);\n",
              "    }\n",
              "    90% {\n",
              "      border-color: transparent;\n",
              "      border-bottom-color: var(--fill-color);\n",
              "    }\n",
              "  }\n",
              "</style>\n",
              "\n",
              "  <script>\n",
              "    async function quickchart(key) {\n",
              "      const quickchartButtonEl =\n",
              "        document.querySelector('#' + key + ' button');\n",
              "      quickchartButtonEl.disabled = true;  // To prevent multiple clicks.\n",
              "      quickchartButtonEl.classList.add('colab-df-spinner');\n",
              "      try {\n",
              "        const charts = await google.colab.kernel.invokeFunction(\n",
              "            'suggestCharts', [key], {});\n",
              "      } catch (error) {\n",
              "        console.error('Error during call to suggestCharts:', error);\n",
              "      }\n",
              "      quickchartButtonEl.classList.remove('colab-df-spinner');\n",
              "      quickchartButtonEl.classList.add('colab-df-quickchart-complete');\n",
              "    }\n",
              "    (() => {\n",
              "      let quickchartButtonEl =\n",
              "        document.querySelector('#df-f735140e-3e1e-4ca9-b8c8-2459e6a6e496 button');\n",
              "      quickchartButtonEl.style.display =\n",
              "        google.colab.kernel.accessAllowed ? 'block' : 'none';\n",
              "    })();\n",
              "  </script>\n",
              "</div>\n",
              "\n",
              "    </div>\n",
              "  </div>\n"
            ]
          },
          "metadata": {},
          "execution_count": 4
        }
      ]
    },
    {
      "cell_type": "code",
      "source": [
        "data.info()"
      ],
      "metadata": {
        "colab": {
          "base_uri": "https://localhost:8080/"
        },
        "id": "I_2-0GEu1Vls",
        "outputId": "ef9cfd2c-0411-4221-a18f-1317c4407190"
      },
      "execution_count": 5,
      "outputs": [
        {
          "output_type": "stream",
          "name": "stdout",
          "text": [
            "<class 'pandas.core.frame.DataFrame'>\n",
            "RangeIndex: 25000 entries, 0 to 24999\n",
            "Data columns (total 3 columns):\n",
            " #   Column     Non-Null Count  Dtype \n",
            "---  ------     --------------  ----- \n",
            " 0   id         25000 non-null  object\n",
            " 1   sentiment  25000 non-null  int64 \n",
            " 2   review     25000 non-null  object\n",
            "dtypes: int64(1), object(2)\n",
            "memory usage: 586.1+ KB\n"
          ]
        }
      ]
    },
    {
      "cell_type": "code",
      "source": [
        "data.dtypes"
      ],
      "metadata": {
        "colab": {
          "base_uri": "https://localhost:8080/"
        },
        "id": "5HYUseaT1W0O",
        "outputId": "6863e09a-df32-42e7-95f2-f9d0cc0afa85"
      },
      "execution_count": 6,
      "outputs": [
        {
          "output_type": "execute_result",
          "data": {
            "text/plain": [
              "id           object\n",
              "sentiment     int64\n",
              "review       object\n",
              "dtype: object"
            ]
          },
          "metadata": {},
          "execution_count": 6
        }
      ]
    },
    {
      "cell_type": "code",
      "source": [
        "data.shape"
      ],
      "metadata": {
        "colab": {
          "base_uri": "https://localhost:8080/"
        },
        "id": "bqjWM46q1Y9i",
        "outputId": "41d45bc5-7d3b-4476-9ec4-85daebba645a"
      },
      "execution_count": 7,
      "outputs": [
        {
          "output_type": "execute_result",
          "data": {
            "text/plain": [
              "(25000, 3)"
            ]
          },
          "metadata": {},
          "execution_count": 7
        }
      ]
    },
    {
      "cell_type": "markdown",
      "source": [
        "Checking for missing values"
      ],
      "metadata": {
        "id": "em1oOlGa1nbk"
      }
    },
    {
      "cell_type": "code",
      "source": [
        "data.isna().sum()"
      ],
      "metadata": {
        "colab": {
          "base_uri": "https://localhost:8080/"
        },
        "id": "Wc0yhPNq1ffj",
        "outputId": "4b626b59-53a8-4bd9-e950-cfbf79e1812e"
      },
      "execution_count": 8,
      "outputs": [
        {
          "output_type": "execute_result",
          "data": {
            "text/plain": [
              "id           0\n",
              "sentiment    0\n",
              "review       0\n",
              "dtype: int64"
            ]
          },
          "metadata": {},
          "execution_count": 8
        }
      ]
    },
    {
      "cell_type": "code",
      "source": [
        "data['sentiment'].value_counts()"
      ],
      "metadata": {
        "colab": {
          "base_uri": "https://localhost:8080/"
        },
        "id": "zg53kvHT1qUb",
        "outputId": "45257e2b-a425-4cfa-811d-c0ef8f16fd60"
      },
      "execution_count": 9,
      "outputs": [
        {
          "output_type": "execute_result",
          "data": {
            "text/plain": [
              "1    12500\n",
              "0    12500\n",
              "Name: sentiment, dtype: int64"
            ]
          },
          "metadata": {},
          "execution_count": 9
        }
      ]
    },
    {
      "cell_type": "code",
      "source": [
        "data.columns"
      ],
      "metadata": {
        "id": "WunGBbd91wXO",
        "colab": {
          "base_uri": "https://localhost:8080/"
        },
        "outputId": "f2775dbe-d6bb-42f3-8899-b93f032d971a"
      },
      "execution_count": 10,
      "outputs": [
        {
          "output_type": "execute_result",
          "data": {
            "text/plain": [
              "Index(['id', 'sentiment', 'review'], dtype='object')"
            ]
          },
          "metadata": {},
          "execution_count": 10
        }
      ]
    },
    {
      "cell_type": "markdown",
      "source": [
        "Removing punctuations"
      ],
      "metadata": {
        "id": "GNjj_RsB3bKe"
      }
    },
    {
      "cell_type": "code",
      "source": [
        "punctuationfree = ''\n",
        "def remove_pun(text):\n",
        "  punctuationfree = ''.join([i for i in text if i not in string.punctuation])\n",
        "  return punctuationfree\n",
        "data['review'] = data['review'].apply(lambda x: remove_pun(x))"
      ],
      "metadata": {
        "id": "pNx8rgKz3Rie"
      },
      "execution_count": 11,
      "outputs": []
    },
    {
      "cell_type": "markdown",
      "source": [
        "Lowercase text"
      ],
      "metadata": {
        "id": "tT2hh3hi3nAC"
      }
    },
    {
      "cell_type": "code",
      "source": [
        "data['review'] = data['review'].apply(lambda x:x.lower())"
      ],
      "metadata": {
        "id": "0EU_ruge3i64"
      },
      "execution_count": 12,
      "outputs": []
    },
    {
      "cell_type": "markdown",
      "source": [
        "Tokenization"
      ],
      "metadata": {
        "id": "Ypw906sR3vOw"
      }
    },
    {
      "cell_type": "code",
      "source": [
        "tokenizer = nltk.tokenize.RegexpTokenizer(r'\\w+')\n",
        "data['review'] = data['review'].apply(lambda x: tokenizer.tokenize(x))"
      ],
      "metadata": {
        "id": "vW_LjHi13rpN"
      },
      "execution_count": 13,
      "outputs": []
    },
    {
      "cell_type": "markdown",
      "source": [
        "Stopword removal"
      ],
      "metadata": {
        "id": "gfhTDhU734X1"
      }
    },
    {
      "cell_type": "code",
      "source": [
        "nltk.download('stopwords')\n",
        "stopwords = nltk.corpus.stopwords.words('english')\n",
        "def remove_stopwords(text):\n",
        "  output = [i for i in text if i not in stopwords]\n",
        "  return output\n",
        "data['review'] = data['review'].apply(lambda x:remove_stopwords(x))"
      ],
      "metadata": {
        "id": "d4JFIKF53z0u"
      },
      "execution_count": null,
      "outputs": []
    },
    {
      "cell_type": "markdown",
      "source": [
        "Lemmatization"
      ],
      "metadata": {
        "id": "aCJSzwR14ndk"
      }
    },
    {
      "cell_type": "code",
      "source": [
        "lemma = WordNetLemmatizer()\n",
        "def lemmat(text):\n",
        "   lemm_text = [lemma.lemmatize(x) for x in text]\n",
        "   return lemm_text\n",
        "data['review'] = data['review'].apply(lambda x:lemmat(x))"
      ],
      "metadata": {
        "id": "mQqBgp6c4CHC"
      },
      "execution_count": 14,
      "outputs": []
    },
    {
      "cell_type": "markdown",
      "source": [
        "Splitting X & Y"
      ],
      "metadata": {
        "id": "vtrI_EviL_qh"
      }
    },
    {
      "cell_type": "code",
      "source": [
        "x = data.iloc[:,2:3]\n",
        "x.head()"
      ],
      "metadata": {
        "colab": {
          "base_uri": "https://localhost:8080/",
          "height": 206
        },
        "id": "L419pmg4IVxv",
        "outputId": "fa4524db-56d9-4efa-9f3f-e77253d999dd"
      },
      "execution_count": 15,
      "outputs": [
        {
          "output_type": "execute_result",
          "data": {
            "text/plain": [
              "                                              review\n",
              "0  [with, all, this, stuff, going, down, at, the,...\n",
              "1  [the, classic, war, of, the, world, by, timoth...\n",
              "2  [the, film, start, with, a, manager, nicholas,...\n",
              "3  [it, must, be, assumed, that, those, who, prai...\n",
              "4  [superbly, trashy, and, wondrously, unpretenti..."
            ],
            "text/html": [
              "\n",
              "  <div id=\"df-b536ed61-8b8a-4759-9b77-c7b38fea2e01\" class=\"colab-df-container\">\n",
              "    <div>\n",
              "<style scoped>\n",
              "    .dataframe tbody tr th:only-of-type {\n",
              "        vertical-align: middle;\n",
              "    }\n",
              "\n",
              "    .dataframe tbody tr th {\n",
              "        vertical-align: top;\n",
              "    }\n",
              "\n",
              "    .dataframe thead th {\n",
              "        text-align: right;\n",
              "    }\n",
              "</style>\n",
              "<table border=\"1\" class=\"dataframe\">\n",
              "  <thead>\n",
              "    <tr style=\"text-align: right;\">\n",
              "      <th></th>\n",
              "      <th>review</th>\n",
              "    </tr>\n",
              "  </thead>\n",
              "  <tbody>\n",
              "    <tr>\n",
              "      <th>0</th>\n",
              "      <td>[with, all, this, stuff, going, down, at, the,...</td>\n",
              "    </tr>\n",
              "    <tr>\n",
              "      <th>1</th>\n",
              "      <td>[the, classic, war, of, the, world, by, timoth...</td>\n",
              "    </tr>\n",
              "    <tr>\n",
              "      <th>2</th>\n",
              "      <td>[the, film, start, with, a, manager, nicholas,...</td>\n",
              "    </tr>\n",
              "    <tr>\n",
              "      <th>3</th>\n",
              "      <td>[it, must, be, assumed, that, those, who, prai...</td>\n",
              "    </tr>\n",
              "    <tr>\n",
              "      <th>4</th>\n",
              "      <td>[superbly, trashy, and, wondrously, unpretenti...</td>\n",
              "    </tr>\n",
              "  </tbody>\n",
              "</table>\n",
              "</div>\n",
              "    <div class=\"colab-df-buttons\">\n",
              "\n",
              "  <div class=\"colab-df-container\">\n",
              "    <button class=\"colab-df-convert\" onclick=\"convertToInteractive('df-b536ed61-8b8a-4759-9b77-c7b38fea2e01')\"\n",
              "            title=\"Convert this dataframe to an interactive table.\"\n",
              "            style=\"display:none;\">\n",
              "\n",
              "  <svg xmlns=\"http://www.w3.org/2000/svg\" height=\"24px\" viewBox=\"0 -960 960 960\">\n",
              "    <path d=\"M120-120v-720h720v720H120Zm60-500h600v-160H180v160Zm220 220h160v-160H400v160Zm0 220h160v-160H400v160ZM180-400h160v-160H180v160Zm440 0h160v-160H620v160ZM180-180h160v-160H180v160Zm440 0h160v-160H620v160Z\"/>\n",
              "  </svg>\n",
              "    </button>\n",
              "\n",
              "  <style>\n",
              "    .colab-df-container {\n",
              "      display:flex;\n",
              "      gap: 12px;\n",
              "    }\n",
              "\n",
              "    .colab-df-convert {\n",
              "      background-color: #E8F0FE;\n",
              "      border: none;\n",
              "      border-radius: 50%;\n",
              "      cursor: pointer;\n",
              "      display: none;\n",
              "      fill: #1967D2;\n",
              "      height: 32px;\n",
              "      padding: 0 0 0 0;\n",
              "      width: 32px;\n",
              "    }\n",
              "\n",
              "    .colab-df-convert:hover {\n",
              "      background-color: #E2EBFA;\n",
              "      box-shadow: 0px 1px 2px rgba(60, 64, 67, 0.3), 0px 1px 3px 1px rgba(60, 64, 67, 0.15);\n",
              "      fill: #174EA6;\n",
              "    }\n",
              "\n",
              "    .colab-df-buttons div {\n",
              "      margin-bottom: 4px;\n",
              "    }\n",
              "\n",
              "    [theme=dark] .colab-df-convert {\n",
              "      background-color: #3B4455;\n",
              "      fill: #D2E3FC;\n",
              "    }\n",
              "\n",
              "    [theme=dark] .colab-df-convert:hover {\n",
              "      background-color: #434B5C;\n",
              "      box-shadow: 0px 1px 3px 1px rgba(0, 0, 0, 0.15);\n",
              "      filter: drop-shadow(0px 1px 2px rgba(0, 0, 0, 0.3));\n",
              "      fill: #FFFFFF;\n",
              "    }\n",
              "  </style>\n",
              "\n",
              "    <script>\n",
              "      const buttonEl =\n",
              "        document.querySelector('#df-b536ed61-8b8a-4759-9b77-c7b38fea2e01 button.colab-df-convert');\n",
              "      buttonEl.style.display =\n",
              "        google.colab.kernel.accessAllowed ? 'block' : 'none';\n",
              "\n",
              "      async function convertToInteractive(key) {\n",
              "        const element = document.querySelector('#df-b536ed61-8b8a-4759-9b77-c7b38fea2e01');\n",
              "        const dataTable =\n",
              "          await google.colab.kernel.invokeFunction('convertToInteractive',\n",
              "                                                    [key], {});\n",
              "        if (!dataTable) return;\n",
              "\n",
              "        const docLinkHtml = 'Like what you see? Visit the ' +\n",
              "          '<a target=\"_blank\" href=https://colab.research.google.com/notebooks/data_table.ipynb>data table notebook</a>'\n",
              "          + ' to learn more about interactive tables.';\n",
              "        element.innerHTML = '';\n",
              "        dataTable['output_type'] = 'display_data';\n",
              "        await google.colab.output.renderOutput(dataTable, element);\n",
              "        const docLink = document.createElement('div');\n",
              "        docLink.innerHTML = docLinkHtml;\n",
              "        element.appendChild(docLink);\n",
              "      }\n",
              "    </script>\n",
              "  </div>\n",
              "\n",
              "\n",
              "<div id=\"df-87446168-e4d5-48b3-9c03-e064cf50b978\">\n",
              "  <button class=\"colab-df-quickchart\" onclick=\"quickchart('df-87446168-e4d5-48b3-9c03-e064cf50b978')\"\n",
              "            title=\"Suggest charts\"\n",
              "            style=\"display:none;\">\n",
              "\n",
              "<svg xmlns=\"http://www.w3.org/2000/svg\" height=\"24px\"viewBox=\"0 0 24 24\"\n",
              "     width=\"24px\">\n",
              "    <g>\n",
              "        <path d=\"M19 3H5c-1.1 0-2 .9-2 2v14c0 1.1.9 2 2 2h14c1.1 0 2-.9 2-2V5c0-1.1-.9-2-2-2zM9 17H7v-7h2v7zm4 0h-2V7h2v10zm4 0h-2v-4h2v4z\"/>\n",
              "    </g>\n",
              "</svg>\n",
              "  </button>\n",
              "\n",
              "<style>\n",
              "  .colab-df-quickchart {\n",
              "      --bg-color: #E8F0FE;\n",
              "      --fill-color: #1967D2;\n",
              "      --hover-bg-color: #E2EBFA;\n",
              "      --hover-fill-color: #174EA6;\n",
              "      --disabled-fill-color: #AAA;\n",
              "      --disabled-bg-color: #DDD;\n",
              "  }\n",
              "\n",
              "  [theme=dark] .colab-df-quickchart {\n",
              "      --bg-color: #3B4455;\n",
              "      --fill-color: #D2E3FC;\n",
              "      --hover-bg-color: #434B5C;\n",
              "      --hover-fill-color: #FFFFFF;\n",
              "      --disabled-bg-color: #3B4455;\n",
              "      --disabled-fill-color: #666;\n",
              "  }\n",
              "\n",
              "  .colab-df-quickchart {\n",
              "    background-color: var(--bg-color);\n",
              "    border: none;\n",
              "    border-radius: 50%;\n",
              "    cursor: pointer;\n",
              "    display: none;\n",
              "    fill: var(--fill-color);\n",
              "    height: 32px;\n",
              "    padding: 0;\n",
              "    width: 32px;\n",
              "  }\n",
              "\n",
              "  .colab-df-quickchart:hover {\n",
              "    background-color: var(--hover-bg-color);\n",
              "    box-shadow: 0 1px 2px rgba(60, 64, 67, 0.3), 0 1px 3px 1px rgba(60, 64, 67, 0.15);\n",
              "    fill: var(--button-hover-fill-color);\n",
              "  }\n",
              "\n",
              "  .colab-df-quickchart-complete:disabled,\n",
              "  .colab-df-quickchart-complete:disabled:hover {\n",
              "    background-color: var(--disabled-bg-color);\n",
              "    fill: var(--disabled-fill-color);\n",
              "    box-shadow: none;\n",
              "  }\n",
              "\n",
              "  .colab-df-spinner {\n",
              "    border: 2px solid var(--fill-color);\n",
              "    border-color: transparent;\n",
              "    border-bottom-color: var(--fill-color);\n",
              "    animation:\n",
              "      spin 1s steps(1) infinite;\n",
              "  }\n",
              "\n",
              "  @keyframes spin {\n",
              "    0% {\n",
              "      border-color: transparent;\n",
              "      border-bottom-color: var(--fill-color);\n",
              "      border-left-color: var(--fill-color);\n",
              "    }\n",
              "    20% {\n",
              "      border-color: transparent;\n",
              "      border-left-color: var(--fill-color);\n",
              "      border-top-color: var(--fill-color);\n",
              "    }\n",
              "    30% {\n",
              "      border-color: transparent;\n",
              "      border-left-color: var(--fill-color);\n",
              "      border-top-color: var(--fill-color);\n",
              "      border-right-color: var(--fill-color);\n",
              "    }\n",
              "    40% {\n",
              "      border-color: transparent;\n",
              "      border-right-color: var(--fill-color);\n",
              "      border-top-color: var(--fill-color);\n",
              "    }\n",
              "    60% {\n",
              "      border-color: transparent;\n",
              "      border-right-color: var(--fill-color);\n",
              "    }\n",
              "    80% {\n",
              "      border-color: transparent;\n",
              "      border-right-color: var(--fill-color);\n",
              "      border-bottom-color: var(--fill-color);\n",
              "    }\n",
              "    90% {\n",
              "      border-color: transparent;\n",
              "      border-bottom-color: var(--fill-color);\n",
              "    }\n",
              "  }\n",
              "</style>\n",
              "\n",
              "  <script>\n",
              "    async function quickchart(key) {\n",
              "      const quickchartButtonEl =\n",
              "        document.querySelector('#' + key + ' button');\n",
              "      quickchartButtonEl.disabled = true;  // To prevent multiple clicks.\n",
              "      quickchartButtonEl.classList.add('colab-df-spinner');\n",
              "      try {\n",
              "        const charts = await google.colab.kernel.invokeFunction(\n",
              "            'suggestCharts', [key], {});\n",
              "      } catch (error) {\n",
              "        console.error('Error during call to suggestCharts:', error);\n",
              "      }\n",
              "      quickchartButtonEl.classList.remove('colab-df-spinner');\n",
              "      quickchartButtonEl.classList.add('colab-df-quickchart-complete');\n",
              "    }\n",
              "    (() => {\n",
              "      let quickchartButtonEl =\n",
              "        document.querySelector('#df-87446168-e4d5-48b3-9c03-e064cf50b978 button');\n",
              "      quickchartButtonEl.style.display =\n",
              "        google.colab.kernel.accessAllowed ? 'block' : 'none';\n",
              "    })();\n",
              "  </script>\n",
              "</div>\n",
              "\n",
              "    </div>\n",
              "  </div>\n"
            ]
          },
          "metadata": {},
          "execution_count": 15
        }
      ]
    },
    {
      "cell_type": "code",
      "source": [
        "y= data['sentiment']\n",
        "y.head()"
      ],
      "metadata": {
        "colab": {
          "base_uri": "https://localhost:8080/"
        },
        "id": "f52POureIWVx",
        "outputId": "ae49ef1b-283c-4dcc-db3a-21363ef50e3b"
      },
      "execution_count": 16,
      "outputs": [
        {
          "output_type": "execute_result",
          "data": {
            "text/plain": [
              "0    1\n",
              "1    1\n",
              "2    0\n",
              "3    0\n",
              "4    1\n",
              "Name: sentiment, dtype: int64"
            ]
          },
          "metadata": {},
          "execution_count": 16
        }
      ]
    },
    {
      "cell_type": "code",
      "source": [
        "from sklearn.model_selection import train_test_split\n",
        "x_train, x_test, y_train, y_test = train_test_split(x,y,test_size=0.2, random_state=42)"
      ],
      "metadata": {
        "id": "bKLXANjPIZtn"
      },
      "execution_count": 17,
      "outputs": []
    },
    {
      "cell_type": "code",
      "source": [
        "x_train['review'] = x_train['review'].apply(lambda x: ' '.join(x))\n",
        "x_test['review'] = x_test['review'].apply(lambda x: ' '.join(x))"
      ],
      "metadata": {
        "id": "if0IzskeJfvB"
      },
      "execution_count": 18,
      "outputs": []
    },
    {
      "cell_type": "markdown",
      "source": [
        "Bag of words"
      ],
      "metadata": {
        "id": "cQJ10okiMGJT"
      }
    },
    {
      "cell_type": "code",
      "source": [
        "cv = CountVectorizer(stop_words=\"english\", min_df=10, max_df=200, max_features=2000)\n",
        "\n",
        "# Fit and transform on the training set\n",
        "x_train_bow = cv.fit_transform(x_train['review']).toarray()\n",
        "\n",
        "# Transform on the test set\n",
        "x_test_bow = cv.transform(x_test['review']).toarray()"
      ],
      "metadata": {
        "id": "IKcZYe53KU84"
      },
      "execution_count": 19,
      "outputs": []
    },
    {
      "cell_type": "code",
      "source": [
        "print(cv.vocabulary_)"
      ],
      "metadata": {
        "colab": {
          "base_uri": "https://localhost:8080/"
        },
        "id": "MUnJApwWKfqv",
        "outputId": "d4de5ba7-7d3d-4b8d-8106-dd7021842ffb"
      },
      "execution_count": 20,
      "outputs": [
        {
          "output_type": "stream",
          "name": "stdout",
          "text": [
            "{'ralph': 1415, 'mike': 1129, 'hammer': 799, 'exercise': 626, 'solve': 1659, 'surrounding': 1765, 'popcorn': 1326, 'stooge': 1714, 'accidentally': 36, 'continuity': 383, 'tight': 1829, 'lower': 1064, 'leg': 1025, 'pass': 1278, 'grand': 767, 'finale': 675, 'granted': 770, 'beer': 159, 'text': 1804, 'saint': 1539, 'mel': 1113, 'faithful': 655, '2000': 13, 'mountain': 1160, 'cash': 278, 'jackson': 943, 'roman': 1518, 'combination': 351, 'statement': 1699, 'thomas': 1816, 'designed': 491, 'program': 1374, 'hype': 875, 'worthless': 1989, 'universe': 1900, 'river': 1509, 'drew': 543, 'spiritual': 1679, 'frustrated': 723, 'southern': 1664, 'california': 254, 'creation': 420, 'driven': 546, 'montana': 1151, 'landscape': 1008, 'lake': 1007, 'worry': 1988, 'inspiring': 913, 'insight': 910, 'goal': 753, 'colour': 348, 'crowd': 429, 'posse': 1334, 'daniel': 453, 'lewis': 1033, 'brown': 232, 'learned': 1022, 'paint': 1265, 'loving': 1062, '2005': 17, 'russian': 1533, 'offensive': 1233, 'symbolism': 1775, 'consistently': 374, 'challenge': 291, 'setup': 1588, 'conversation': 391, 'condition': 369, 'village': 1926, 'enjoyment': 592, 'endearing': 588, 'national': 1176, 'hunt': 872, 'emma': 584, 'exposed': 642, 'paris': 1274, 'refreshing': 1441, 'included': 894, 'rachel': 1407, 'cook': 396, 'barry': 146, 'parker': 1275, 'bruce': 233, 'merit': 1120, 'touched': 1845, 'redemption': 1438, 'advice': 53, 'catholic': 282, 'vicious': 1921, 'russell': 1532, 'faced': 648, 'notably': 1208, 'marie': 1091, 'priest': 1359, 'interpretation': 924, 'hitchcock': 844, 'charge': 298, 'source': 1663, 'critical': 427, 'asking': 118, 'connect': 371, 'entertained': 597, 'pity': 1311, 'prom': 1376, 'clichéd': 331, 'jumping': 975, 'closet': 337, 'unexpected': 1889, 'successfully': 1745, 'convention': 389, 'heroine': 834, 'occur': 1228, 'psycho': 1391, 'whilst': 1968, 'progress': 1375, 'object': 1220, 'path': 1282, 'investigate': 927, 'embarrassing': 582, 'performing': 1292, 'julia': 973, 'summary': 1755, 'turner': 1875, 'clean': 329, 'pat': 1281, 'factor': 650, 'scale': 1552, 'ron': 1519, 'goofy': 760, 'murphy': 1167, 'height': 826, 'peak': 1287, 'fx': 731, 'surreal': 1763, 'overlooked': 1256, 'brave': 210, 'pleased': 1319, '17': 5, 'post': 1336, 'magazine': 1080, 'unforgettable': 1890, 'santa': 1545, 'buying': 249, 'string': 1726, 'theyve': 1812, 'hank': 806, 'hall': 795, 'crafted': 414, 'perfection': 1288, 'contrast': 386, '1930s': 7, 'gangster': 735, 'protect': 1384, 'chose': 316, 'brilliantly': 222, 'experienced': 631, 'jean': 951, 'gentle': 742, 'craft': 413, 'joan': 964, 'sharp': 1599, 'requires': 1477, 'lawyer': 1018, '710': 27, 'gift': 747, 'received': 1436, 'legendary': 1026, 'stopped': 1715, 'carried': 274, 'bag': 141, 'university': 1901, 'represents': 1474, 'magical': 1081, 'birthday': 174, 'winter': 1977, 'snow': 1652, 'pretend': 1352, 'built': 236, 'tree': 1860, 'served': 1585, 'cave': 284, 'trek': 1861, 'lucas': 1065, 'filmsbr': 674, 'trilogy': 1866, 'practically': 1341, 'entertain': 596, 'contain': 378, 'department': 482, 'gory': 762, 'specific': 1669, 'eat': 562, 'dubbing': 553, 'stranger': 1720, 'introduction': 926, 'proof': 1378, 'warned': 1946, 'stomach': 1712, 'pride': 1358, '110': 1, 'harsh': 813, 'nation': 1175, 'india': 897, 'gandhi': 734, 'sacrifice': 1536, 'achieve': 41, 'freedom': 717, 'proved': 1387, 'naturally': 1178, 'wedding': 1959, 'torn': 1843, 'silence': 1623, 'pushed': 1402, 'pushing': 1403, 'user': 1911, 'struggling': 1732, 'rain': 1412, 'caine': 253, 'brilliance': 221, 'heston': 835, 'starred': 1697, 'expensive': 630, 'dated': 459, 'nowadays': 1215, 'chuck': 320, 'joseph': 970, 'edward': 568, 'wanna': 1941, 'moron': 1157, 'host': 866, 'hatred': 816, 'unfortunate': 1891, 'idiotic': 883, 'bible': 170, 'fred': 715, 'daily': 447, 'speech': 1671, 'ideal': 880, 'religion': 1455, 'teach': 1788, 'jerk': 956, 'simon': 1626, 'sin': 1628, 'el': 573, 'tape': 1782, 'cruise': 432, 'neighbor': 1187, 'remark': 1459, 'excited': 621, 'border': 199, 'angel': 94, 'andy': 93, 'philip': 1296, 'hoffman': 847, 'perform': 1289, 'relative': 1450, 'etcbr': 609, 'honor': 857, 'albert': 72, 'intensity': 919, 'nail': 1171, 'timing': 1834, 'kudos': 1001, 'wellbr': 1963, 'unlikely': 1902, 'losing': 1057, 'fate': 665, 'cutting': 445, 'ran': 1417, 'mexico': 1124, 'sentence': 1578, 'serf': 1582, 'sidney': 1621, 'afternoon': 59, 'network': 1192, 'unbelievably': 1882, 'dean': 466, 'gain': 733, 'method': 1122, 'mentally': 1118, 'slave': 1644, 'effectively': 570, 'quest': 1404, 'claire': 327, 'anne': 99, 'alike': 76, 'dorothy': 533, 'pal': 1268, 'unintentionally': 1895, 'contact': 377, 'learns': 1024, 'carrying': 275, 'guard': 786, 'sheer': 1601, 'marry': 1093, 'realizes': 1429, 'destroy': 494, 'currently': 441, 'repeated': 1468, 'develop': 498, 'walked': 1936, 'express': 643, 'rank': 1420, 'universal': 1899, 'largely': 1010, 'ape': 103, 'incident': 893, 'related': 1448, 'homage': 853, 'shadow': 1592, 'fictional': 671, 'remote': 1463, 'range': 1418, 'stretch': 1722, 'boredom': 201, 'spectacular': 1670, '310': 23, 'pilot': 1307, 'combined': 353, 'therebr': 1809, 'shop': 1612, 'virgin': 1928, 'mixed': 1144, 'size': 1637, 'helicopter': 828, 'flight': 686, 'upset': 1906, 'pan': 1269, 'albeit': 71, 'tim': 1831, 'nonetheless': 1202, 'gold': 755, 'canadian': 259, 'health': 820, 'moviesbr': 1162, 'demon': 478, 'japan': 947, 'sleeping': 1646, 'jealous': 950, 'boat': 191, 'hiding': 836, 'bridge': 218, 'handle': 801, 'sword': 1774, 'witty': 1980, 'trap': 1856, 'prevent': 1354, 'evidence': 615, 'irish': 933, 'ordinary': 1246, 'circle': 323, 'territory': 1799, 'bomb': 196, 'sexually': 1591, 'jail': 944, 'table': 1778, 'trio': 1867, 'charismatic': 300, 'inner': 906, 'thug': 1824, 'odds': 1232, 'section': 1566, 'painting': 1266, 'purely': 1399, 'resolution': 1483, 'maria': 1090, 'kennedy': 987, 'jon': 969, 'balance': 143, 'reader': 1426, 'superhero': 1759, 'batman': 153, 'blair': 178, 'basis': 150, 'mitchell': 1143, 'alltime': 81, 'latest': 1013, 'worried': 1987, 'pleasantly': 1318, 'root': 1521, 'loser': 1056, 'reunion': 1489, 'welcome': 1962, 'absence': 32, 'pleasant': 1317, 'victor': 1922, 'steven': 1706, 'blend': 182, 'formula': 703, 'league': 1021, 'captured': 265, 'clark': 328, 'blown': 187, 'faith': 654, 'thankfully': 1805, 'oliver': 1238, 'pro': 1369, 'karloff': 981, 'credibility': 422, 'reduced': 1439, 'rubbish': 1528, 'lugosi': 1071, 'mexican': 1123, 'dubbed': 552, 'reminiscent': 1462, 'seventy': 1589, 'allen': 78, 'wide': 1970, 'curse': 442, 'jr': 972, 'finest': 676, 'courage': 406, 'broke': 228, 'bone': 197, 'gonna': 758, 'discussion': 521, 'vhs': 1920, 'influence': 902, 'nick': 1194, 'cage': 252, 'dennis': 479, 'flynn': 690, 'discovery': 519, 'goodbr': 759, 'germany': 746, 'radio': 1410, 'nazi': 1180, 'politics': 1324, 'serve': 1584, 'code': 342, 'broadcast': 226, 'repeatedly': 1469, 'bitter': 176, 'fairy': 653, 'sends': 1576, 'existence': 628, 'alan': 70, 'identity': 882, 'ancient': 89, 'racist': 1409, 'dentist': 480, 'beaten': 157, 'beloved': 164, 'returned': 1487, 'trial': 1863, 'humanity': 870, 'cell': 286, 'irony': 937, 'spite': 1680, 'patient': 1283, 'sole': 1657, 'curious': 439, 'depression': 486, 'youth': 1998, 'holding': 848, 'explosion': 641, 'kate': 982, 'toobr': 1841, 'prepared': 1347, 'nut': 1219, 'renting': 1466, 'alright': 82, 'listed': 1045, 'item': 941, 'italy': 940, 'international': 922, 'site': 1636, 'regret': 1446, 'origin': 1247, 'spoilersbr': 1685, 'spooky': 1688, 'castle': 279, 'resembles': 1481, 'shining': 1606, 'brand': 208, 'supernatural': 1761, 'terror': 1800, 'multiple': 1164, 'uncle': 1883, 'prop': 1379, 'lesser': 1030, 'achievement': 43, 'deadly': 464, 'servant': 1583, 'entry': 598, 'golden': 757, 'keeping': 984, 'sentimental': 1580, 'discus': 520, 'cary': 277, 'grant': 769, 'douglas': 534, 'intent': 920, 'laurel': 1016, 'dignity': 508, 'properly': 1382, 'recognize': 1437, 'tiny': 1836, 'destruction': 496, 'remain': 1457, 'slight': 1647, 'grim': 778, 'glory': 751, 'voight': 1933, 'figured': 673, 'isbr': 939, 'junk': 977, 'sean': 1562, 'mebr': 1110, 'lay': 1019, 'survivor': 1767, 'annie': 100, 'matt': 1102, 'helping': 829, 'tie': 1827, 'wake': 1935, 'ed': 564, 'reputation': 1475, 'hanging': 805, 'punch': 1396, 'returning': 1488, 'buried': 239, 'amateurish': 85, 'aint': 65, 'haunting': 818, 'atmospheric': 124, 'website': 1958, 'morning': 1156, 'link': 1041, 'outbr': 1249, 'occasionally': 1227, 'surrounded': 1764, 'gut': 792, 'glover': 752, 'subsequent': 1739, 'screening': 1557, 'directly': 512, 'crash': 417, 'appropriate': 108, 'magnificent': 1082, 'evident': 616, 'titanic': 1837, 'quirky': 1405, 'freddy': 716, 'letting': 1032, 'lisa': 1044, 'spark': 1667, 'oddly': 1231, 'expert': 633, '3d': 24, 'storytelling': 1718, 'gross': 781, 'digital': 507, 'theatrical': 1807, 'disc': 516, 'wes': 1966, 'craven': 418, 'darker': 457, 'arnold': 111, 'johnny': 966, 'alice': 75, 'cooper': 397, 'carpenter': 273, 'madness': 1077, 'shortly': 1613, 'motif': 1158, 'engaged': 590, 'gradually': 766, 'altogether': 83, 'letter': 1031, 'endless': 589, 'caricature': 270, 'slapstick': 1643, 'celluloid': 287, 'finger': 677, 'reveals': 1493, 'measure': 1108, 'strip': 1727, 'combat': 350, 'obsession': 1224, 'onebr': 1241, '16': 4, 'dire': 511, 'chosen': 317, 'description': 489, 'clip': 334, 'wit': 1979, 'delight': 473, 'max': 1106, 'naive': 1172, '1st': 12, 'round': 1524, 'admire': 49, 'strictly': 1723, 'accurate': 39, 'described': 488, 'friday': 720, 'opened': 1243, 'amazed': 86, 'stayed': 1701, 'disbelief': 515, 'confusion': 370, 'screenwriter': 1558, 'bringing': 223, 'jewish': 962, 'portion': 1328, 'pool': 1325, 'ton': 1840, 'fame': 659, 'blind': 183, 'spends': 1675, 'heck': 824, 'installment': 914, 'policeman': 1322, 'disturbed': 528, 'lion': 1042, 'gate': 739, 'holmes': 852, 'eddie': 565, 'eric': 601, 'infamous': 901, 'instinct': 916, '14': 3, '2006': 18, 'president': 1349, 'united': 1898, 'service': 1586, 'operation': 1244, 'sutherland': 1770, 'rival': 1508, 'eva': 611, 'winner': 1976, 'kim': 991, 'sarah': 1546, 'concern': 366, 'timeless': 1832, 'gene': 740, 'kelly': 985, 'stylish': 1736, 'em': 580, '25': 22, 'test': 1802, 'abuse': 33, 'raise': 1413, 'lip': 1043, 'secretary': 1565, 'appreciated': 107, 'suffers': 1751, 'hearing': 821, 'hire': 842, 'thief': 1813, 'lifebr': 1036, 'storybr': 1717, 'vincent': 1927, 'typically': 1878, 'luck': 1066, '810': 28, 'satan': 1547, 'trapped': 1857, 'rage': 1411, 'east': 561, 'flash': 682, 'underground': 1886, 'needle': 1186, 'bmovie': 188, 'warrior': 1949, 'logic': 1051, 'explained': 634, 'overthetop': 1259, 'subtlety': 1742, 'dreadful': 540, 'hooked': 860, 'bbc': 154, 'canada': 258, 'believed': 160, 'devil': 501, 'mst3k': 1163, 'presumably': 1351, 'hang': 804, 'jesus': 960, 'min': 1134, 'board': 190, 'nonexistent': 1203, 'sensitive': 1577, 'equal': 600, 'worldbr': 1986, 'sport': 1689, 'underrated': 1887, 'bollywood': 195, 'blockbuster': 185, 'highest': 838, 'silver': 1624, 'aid': 63, 'neil': 1189, 'walter': 1940, 'matthau': 1103, 'burn': 240, 'nurse': 1218, 'howard': 867, 'montage': 1150, 'cliff': 332, 'cup': 437, 'tea': 1787, 'huh': 869, 'lovable': 1061, 'enters': 595, 'noir': 1197, 'laura': 1015, 'andrew': 92, 'suffering': 1750, 'base': 147, 'beating': 158, 'upper': 1905, 'allows': 80, 'weve': 1967, 'motivation': 1159, 'duo': 556, 'strangely': 1719, 'accepted': 35, 'weakness': 1955, 'christ': 318, 'raised': 1414, 'tortured': 1844, 'duty': 557, '910': 29, 'holiday': 849, 'bell': 162, 'ruined': 1529, 'dressed': 542, 'larry': 1012, 'waybr': 1953, 'frequently': 719, 'rough': 1523, 'succeeds': 1744, 'lowbudget': 1063, 'christian': 319, 'portray': 1330, 'breaking': 212, 'associated': 121, 'guilty': 791, 'possibility': 1335, 'proper': 1381, 'ultimate': 1880, 'regard': 1443, 'push': 1401, 'recall': 1434, 'briefly': 219, 'practice': 1342, 'damage': 448, 'flower': 689, 'shootout': 1611, 'grows': 784, 'searching': 1563, 'scripted': 1559, 'writerdirector': 1994, 'everyday': 614, 'urge': 1908, 'suspenseful': 1769, 'mission': 1142, 'pointed': 1321, 'tend': 1796, 'widmark': 1971, 'fbi': 668, 'cia': 321, 'refuse': 1442, 'obscure': 1222, 'savage': 1551, 'lust': 1073, 'switch': 1773, 'notorious': 1214, 'revolves': 1497, 'beast': 156, 'murdered': 1165, 'bride': 217, 'knowledge': 997, 'paper': 1271, 'sophisticated': 1660, 'sinister': 1632, 'britain': 224, 'combine': 352, 'spanish': 1666, 'tradition': 1851, 'amazingly': 87, 'depiction': 484, '1970s': 10, 'gothic': 763, 'jaw': 948, 'chill': 310, 'chilling': 311, 'mansion': 1088, 'pretentious': 1353, 'insulting': 917, 'forgettable': 699, '210': 20, 'correct': 402, 'worker': 1985, 'darkness': 458, 'research': 1479, 'professor': 1372, 'matthew': 1104, 'walker': 1938, 'performed': 1290, 'experiment': 632, 'foster': 707, 'uwe': 1913, 'boll': 194, 'target': 1783, 'aged': 61, 'brazil': 211, 'astaire': 123, 'rogers': 1516, 'tune': 1873, 'virtually': 1929, 'mustsee': 1170, 'scarecrow': 1553, 'rebel': 1433, 'paced': 1260, 'convince': 393, 'grab': 765, 'attacked': 127, 'broad': 225, 'ocean': 1230, 'surface': 1762, 'emotionally': 585, 'impress': 892, 'dragon': 538, 'gotta': 764, 'hired': 843, 'tower': 1847, 'attraction': 131, 'spell': 1673, 'split': 1682, 'technique': 1790, 'assume': 122, 'cgi': 288, 'thrilling': 1821, 'superman': 1760, 'atrocious': 125, 'unconvincing': 1885, 'airplane': 67, 'timesbr': 1833, 'seagal': 1561, 'dawn': 462, 'crude': 430, 'celebrity': 285, 'journalist': 971, 'grown': 783, 'danny': 454, 'jeff': 952, 'continues': 382, 'evening': 613, 'relevant': 1452, 'belongs': 163, 'oil': 1237, 'kong': 998, 'benefit': 165, 'technology': 1791, 'bothered': 202, 'committed': 358, 'covered': 409, 'bush': 245, 'depicted': 483, 'status': 1700, 'yesterday': 1996, 'foreign': 697, 'circumstance': 324, 'relation': 1449, 'clothing': 340, 'mixture': 1145, 'freak': 714, 'herebr': 832, 'wave': 1952, 'laughter': 1014, 'reed': 1440, 'nancy': 1173, 'throat': 1822, 'kevin': 989, 'category': 280, 'corpse': 401, 'occasional': 1226, 'blah': 177, 'lacked': 1005, 'threatening': 1818, 'uncomfortable': 1884, 'soviet': 1665, 'fare': 661, 'destroyed': 495, 'similarity': 1625, 'rescue': 1478, 'moon': 1152, 'shocked': 1609, 'buff': 234, 'ex': 617, 'load': 1048, 'leslie': 1029, 'roger': 1515, 'exists': 629, 'rocket': 1514, 'controversial': 388, 'hamlet': 798, 'communist': 359, 'intellectual': 918, 'sexuality': 1590, 'ingredient': 903, 'psychological': 1392, 'zone': 1999, 'explore': 639, 'environment': 599, 'cube': 435, 'bug': 235, 'speed': 1672, 'viewed': 1925, 'elderly': 575, 'gentleman': 743, 'fatal': 664, 'failing': 652, 'crisis': 426, 'principal': 1363, 'melodrama': 1114, 'hysterical': 876, 'mouse': 1161, 'punk': 1397, 'format': 702, 'parallel': 1273, 'robot': 1512, 'civil': 326, 'mass': 1097, 'replaced': 1471, 'rip': 1503, 'previously': 1356, 'established': 606, 'matrix': 1101, 'driving': 548, '18': 6, 'cousin': 408, 'prostitute': 1383, 'guessing': 787, 'lock': 1049, 'stock': 1710, 'australia': 133, 'australian': 134, 'tarzan': 1784, 'featured': 669, 'advantage': 52, 'inspiration': 912, 'disease': 522, 'listening': 1046, 'lucky': 1068, 'par': 1272, 'asleep': 119, 'notbr': 1209, 'twisted': 1877, 'disgusting': 523, 'competent': 361, 'involves': 932, 'toy': 1848, 'forgive': 700, 'barbara': 145, 'edited': 566, 'settle': 1587, 'tracy': 1849, 'overdone': 1255, 'stunt': 1734, 'chinese': 313, 'unrealistic': 1903, 'noted': 1211, 'france': 710, 'inevitable': 900, 'consequence': 373, 'robin': 1511, 'affected': 55, 'hollow': 850, 'shoulder': 1614, 'farm': 662, 'prince': 1361, 'spring': 1690, 'charactersbr': 297, 'humorous': 871, 'saturday': 1550, 'midnight': 1128, 'ripped': 1505, 'pile': 1306, 'strike': 1724, 'proud': 1385, 'standing': 1694, 'depressing': 485, 'shell': 1603, 'occurs': 1229, 'rap': 1421, 'safe': 1538, 'sympathetic': 1776, 'position': 1333, 'rose': 1522, 'guilt': 790, 'happiness': 808, 'speaks': 1668, 'dress': 541, 'essence': 604, 'prefer': 1345, 'falk': 656, 'poignant': 1320, 'sitcom': 1635, 'task': 1785, 'elizabeth': 577, 'bet': 166, 'relate': 1447, 'technically': 1789, 'camerawork': 256, 'annoyed': 101, 'flawed': 683, 'thisbr': 1815, 'sold': 1656, 'closing': 339, 'ignored': 885, 'madonna': 1078, 'halloween': 796, 'convinced': 394, 'rental': 1465, 'risk': 1506, 'virus': 1930, 'rid': 1500, 'san': 1543, 'francisco': 712, 'theory': 1808, 'investigation': 928, 'companion': 360, 'pig': 1305, 'prior': 1365, 'acceptable': 34, 'characterization': 296, 'initial': 904, 'attempted': 128, 'gas': 738, 'ignore': 884, 'donna': 532, 'ward': 1943, 'conventional': 390, 'reached': 1425, '1960s': 9, 'jackie': 942, 'card': 266, 'dealt': 465, 'knife': 995, 'response': 1484, 'curtis': 443, 'prize': 1368, 'miller': 1133, 'degree': 472, 'arrested': 112, 'pie': 1304, 'shake': 1593, 'passing': 1280, 'abandoned': 30, 'spending': 1674, 'concert': 368, 'drinking': 545, 'uninteresting': 1896, 'invisible': 929, 'argument': 110, 'shallow': 1596, 'skin': 1639, 'distance': 525, 'ironically': 936, 'cliche': 330, 'brook': 230, 'homeless': 854, 'ann': 97, 'warren': 1948, 'cinderella': 322, 'drawing': 539, 'peace': 1286, 'revolution': 1495, 'lifestyle': 1037, 'ensemble': 593, 'obsessed': 1223, 'pitt': 1310, 'terrifying': 1798, 'fourth': 708, 'seeking': 1570, 'stiff': 1708, 'miracle': 1138, 'wannabe': 1942, 'admittedly': 50, 'stewart': 1707, 'partly': 1277, 'tour': 1846, 'bat': 151, 'sheriff': 1604, 'irritating': 938, 'essential': 605, 'seek': 1569, 'pit': 1308, 'security': 1567, 'creates': 419, 'pound': 1338, 'kidnapped': 990, 'execution': 624, 'horrendous': 863, 'ashamed': 116, 'puppet': 1398, 'goldberg': 756, 'stink': 1709, 'prime': 1360, 'pet': 1295, 'hardcore': 809, 'uk': 1879, 'cruel': 431, 'prove': 1386, 'union': 1897, 'horribly': 864, 'navy': 1179, 'troop': 1870, 'amateur': 84, 'facial': 649, 'convey': 392, 'seller': 1573, 'wayne': 1954, 'spielberg': 1676, 'timothy': 1835, 'andor': 91, 'print': 1364, 'bleak': 181, 'population': 1327, 'grew': 776, 'forest': 698, 'betterbr': 168, 'survive': 1766, 'jenny': 954, 'delightful': 474, 'inspector': 911, 'gadget': 732, 'miserably': 1141, 'visually': 1931, 'frightening': 722, 'childrens': 309, 'painfully': 1264, 'fool': 694, 'china': 312, 'contrary': 385, 'tap': 1781, 'cried': 425, 'price': 1357, 'cable': 251, 'praise': 1343, 'downright': 535, 'delivered': 475, 'subtitle': 1741, 'market': 1092, 'noticed': 1212, 'blonde': 186, 'retarded': 1486, 'credible': 423, 'excitement': 622, 'guide': 789, 'rambo': 1416, 'lab': 1004, 'extent': 645, 'badbr': 140, 'closeup': 338, 'involvement': 931, 'deeper': 469, 'mob': 1146, 'herbr': 831, 'kung': 1002, 'quote': 1406, 'pulp': 1395, 'aka': 68, 'usa': 1909, 'warner': 1947, 'north': 1205, 'extended': 644, 'captain': 263, 'mask': 1096, 'eve': 612, 'susan': 1768, 'directorial': 513, 'debut': 468, 'craig': 415, 'transformation': 1854, 'initially': 905, 'miscast': 1140, 'threat': 1817, 'physically': 1301, 'los': 1055, 'blank': 180, 'notion': 1213, 'official': 1236, 'ship': 1607, 'aired': 66, 'babe': 138, 'ruth': 1534, 'complexity': 364, 'manager': 1085, 'understood': 1888, 'exploit': 637, 'baseball': 148, 'anderson': 90, 'interaction': 921, 'branagh': 207, 'jerry': 957, 'sky': 1641, 'halfway': 794, 'lying': 1074, 'unable': 1881, 'stellar': 1704, 'chan': 292, 'wilson': 1974, 'definite': 471, '2003': 15, 'hat': 815, 'non': 1201, 'dragged': 537, 'topic': 1842, 'monk': 1148, 'fat': 663, 'utter': 1912, 'danger': 452, 'frankly': 713, 'spoiled': 1684, 'dare': 455, 'reasonably': 1432, 'sake': 1540, 'stronger': 1728, 'muslim': 1169, 'native': 1177, 'send': 1575, 'throwing': 1823, 'onbr': 1240, 'thumb': 1825, 'candy': 260, 'crack': 412, 'creator': 421, 'fu': 725, 'countless': 405, 'lonely': 1053, 'block': 184, 'lousy': 1060, 'bright': 220, 'grave': 772, 'useless': 1910, 'loss': 1058, 'conspiracy': 376, 'desperately': 492, 'innovative': 908, 'satisfying': 1549, 'ken': 986, 'morgan': 1155, 'bus': 244, 'storm': 1716, 'ironic': 935, 'lane': 1009, 'persona': 1294, 'nearby': 1181, 'nuclear': 1216, 'plant': 1315, 'allowing': 79, 'eerie': 569, 'outfit': 1251, 'kiss': 993, 'unfunny': 1892, 'report': 1472, 'sunday': 1757, 'ticket': 1826, 'photographer': 1300, 'activity': 44, 'showbr': 1615, 'massive': 1099, 'factory': 651, 'function': 726, 'stated': 1698, 'explains': 635, 'necessarily': 1183, 'socalled': 1654, 'ryan': 1535, 'asian': 117, 'breast': 213, 'snake': 1650, 'shut': 1618, 'metal': 1121, 'crappy': 416, 'device': 500, 'convoluted': 395, 'context': 380, 'embarrassed': 581, 'capable': 262, 'lifetime': 1038, 'shed': 1600, 'jessica': 959, 'simpson': 1627, 'narration': 1174, 'incoherent': 895, 'caring': 271, 'vietnam': 1924, 'explicit': 636, 'glass': 748, 'swedish': 1772, 'swear': 1771, 'tied': 1828, 'friendly': 721, 'charlie': 301, 'discovered': 517, 'accomplished': 37, 'fish': 679, 'dancer': 450, 'choreography': 315, 'franchise': 711, 'cheese': 306, 'godfather': 754, 'catherine': 281, 'treasure': 1858, 'grow': 782, 'accused': 40, 'false': 658, 'wise': 1978, 'murderer': 1166, 'anger': 95, '410': 25, 'proceeding': 1370, 'presentation': 1348, 'performer': 1291, 'mindless': 1135, 'fox': 709, 'sing': 1630, 'awkward': 137, 'sum': 1754, 'striking': 1725, 'ambitious': 88, 'kenneth': 988, 'shakespeare': 1594, 'distracting': 527, 'relatively': 1451, 'henry': 830, 'derek': 487, 'seat': 1564, 'julie': 974, 'williams': 1973, 'lemmon': 1027, 'tense': 1797, 'patrick': 1284, 'easier': 560, 'childish': 308, 'intrigue': 925, 'gary': 737, 'cole': 345, 'theyd': 1810, 'smoke': 1648, 'heavily': 823, 'veteran': 1919, 'realise': 1427, 'hed': 825, 'advance': 51, 'overly': 1257, 'concerned': 367, 'offered': 1234, 'receive': 1435, 'treatment': 1859, 'complicated': 365, 'bullet': 237, 'revelation': 1494, 'arrives': 114, 'variety': 1917, 'contract': 384, 'truck': 1872, 'revealing': 1492, 'providing': 1389, 'mid': 1127, 'europe': 610, 'stood': 1713, 'samurai': 1542, 'perry': 1293, 'trade': 1850, 'selling': 1574, 'suggests': 1752, 'sympathy': 1777, 'curiosity': 438, 'invite': 930, 'join': 968, 'driver': 547, 'dig': 506, 'upbr': 1904, 'princess': 1362, 'louis': 1059, 'jay': 949, 'jungle': 976, 'cox': 411, 'criticism': 428, 'adapted': 46, 'harris': 812, 'dane': 451, 'revealed': 1491, 'glenn': 749, 'oneliners': 1242, 'remotely': 1464, 'substance': 1740, 'genuinely': 745, 'gratuitous': 771, 'futuristic': 730, 'exploitation': 638, 'realism': 1428, 'succeed': 1743, 'anime': 96, 'martial': 1094, 'profound': 1373, 'exaggerated': 619, 'splendid': 1681, 'ala': 69, 'executed': 623, 'determined': 497, 'ridiculously': 1501, 'liberal': 1034, 'boot': 198, 'butt': 247, '13': 2, 'doc': 529, 'account': 38, 'discovers': 518, 'sounded': 1662, 'allbr': 77, 'repeat': 1467, 'rushed': 1531, 'greater': 773, 'fired': 678, 'dinosaur': 510, '24': 21, 'raped': 1422, 'soap': 1653, 'beach': 155, 'plague': 1313, 'flow': 688, 'endbr': 587, 'psychiatrist': 1390, 'importantly': 891, 'favour': 666, 'majority': 1084, 'sentiment': 1579, 'sullivan': 1753, 'reasonable': 1431, 'regarding': 1444, 'adding': 47, 'gordon': 761, 'eating': 563, 'hood': 858, 'neat': 1182, 'campy': 257, 'ear': 559, 'fancy': 660, 'genuine': 744, 'glimpse': 750, 'offering': 1235, 'believing': 161, 'hopefully': 862, 'doll': 530, 'welles': 1964, 'citizen': 325, 'kane': 979, 'hunting': 874, 'corny': 400, 'weekend': 1960, 'cheer': 305, 'donald': 531, 'mere': 1119, 'broadway': 227, 'obnoxious': 1221, 'screaming': 1556, 'pitch': 1309, 'diamond': 503, 'brad': 206, 'monkey': 1149, 'satire': 1548, 'cusack': 444, 'melodramatic': 1115, 'internet': 923, 'flop': 687, 'extraordinary': 646, 'burning': 241, 'focused': 691, 'chasing': 302, 'reporter': 1473, 'mirror': 1139, 'vega': 1918, 'chair': 290, 'dick': 504, 'bird': 172, 'dinner': 509, 'shark': 1598, 'sea': 1560, 'raw': 1424, 'dear': 467, 'brian': 216, 'fallen': 657, 'backdrop': 139, 'scenario': 1554, 'paying': 1285, 'struck': 1730, 'closer': 336, 'comical': 355, 'ted': 1792, 'innocence': 907, 'destiny': 493, 'notable': 1207, 'jeremy': 955, 'anthony': 102, 'bank': 144, 'sucked': 1746, 'davis': 460, 'riding': 1502, 'nelson': 1190, 'lloyd': 1047, 'wondered': 1983, 'error': 603, 'busy': 246, 'newspaper': 1193, 'private': 1367, 'strongly': 1729, 'pacino': 1261, 'couldve': 404, 'dude': 554, 'sun': 1756, 'ranger': 1419, 'stumble': 1733, 'wound': 1992, 'gruesome': 785, 'soft': 1655, 'breathtaking': 215, 'gritty': 780, 'knock': 996, 'meeting': 1112, 'dropped': 549, 'higher': 837, 'checking': 304, 'subplots': 1738, 'mildly': 1131, 'fonda': 693, 'focusing': 692, 'horrific': 865, 'religious': 1456, 'editor': 567, 'cultural': 436, 'reveal': 1490, 'lynch': 1075, 'thatbr': 1806, 'precious': 1344, 'bland': 179, 'threw': 1819, 'neck': 1184, 'heat': 822, 'ice': 878, 'library': 1035, 'football': 695, 'nerd': 1191, 'exact': 618, 'eighty': 572, '20th': 19, 'limit': 1039, 'fisher': 680, 'remind': 1461, 'bigger': 171, 'till': 1830, 'nomination': 1200, 'warm': 1944, 'pulling': 1394, 'superbly': 1758, 'cynical': 446, 'rob': 1510, 'cabin': 250, 'theyll': 1811, 'ludicrous': 1070, 'press': 1350, 'minimal': 1136, 'corner': 399, 'stereotypical': 1705, 'lyric': 1076, 'scheme': 1555, 'troubled': 1871, 'noise': 1198, 'tremendous': 1862, '45': 26, 'button': 248, 'command': 356, 'instantly': 915, 'bourne': 204, 'himbr': 839, 'hardy': 811, 'happily': 807, 'thrill': 1820, 'forth': 704, 'johnson': 967, 'musician': 1168, 'seed': 1568, 'burt': 242, 'passed': 1279, 'wallace': 1939, 'outrageous': 1252, 'appearing': 106, 'chief': 307, 'sir': 1634, '2004': 16, 'attached': 126, 'flesh': 685, 'mainstream': 1083, 'breath': 214, 'alexander': 74, 'pregnant': 1346, 'portrait': 1329, 'contemporary': 379, 'worthwhile': 1990, 'overcome': 1254, 'hook': 859, 'larger': 1011, 'wouldve': 1991, 'current': 440, 'hamilton': 797, 'piano': 1302, 'jennifer': 953, 'jamie': 946, 'broken': 229, 'corrupt': 403, 'purple': 1400, 'competition': 362, 'massacre': 1098, 'bob': 192, 'sinatra': 1629, 'jimmy': 963, 'spy': 1691, 'elaborate': 574, 'funnier': 728, 'alex': 73, 'forgot': 701, 'wasting': 1951, 'bound': 203, 'attracted': 130, 'enjoying': 591, 'occasion': 1225, 'cowboy': 410, 'laid': 1006, 'tedious': 1793, 'opposed': 1245, 'comedian': 354, 'overacting': 1253, 'funnybr': 729, 'againbr': 60, 'slap': 1642, 'erotic': 602, 'nominated': 1199, 'notch': 1210, 'dry': 551, 'appealing': 105, 'greatly': 774, 'mgm': 1125, 'reynolds': 1498, 'african': 58, 'existed': 627, 'connected': 372, 'disagree': 514, 'identify': 881, 'hint': 840, 'carefully': 269, 'shine': 1605, 'continued': 381, 'racism': 1408, 'modesty': 1147, 'cared': 268, 'explored': 640, 'panic': 1270, 'toilet': 1838, 'calling': 255, 'walken': 1937, 'birth': 173, 'kurt': 1003, 'training': 1853, 'colonel': 346, 'importance': 890, 'ripoff': 1504, 'executive': 625, 'joey': 965, 'provided': 1388, 'shoe': 1610, 'pack': 1262, 'prisoner': 1366, 'texas': 1803, 'baker': 142, 'resemblance': 1480, 'weight': 1961, 'wolf': 1982, 'temple': 1795, 'drunken': 550, 'traditional': 1852, 'spike': 1677, 'argue': 109, 'portraying': 1331, 'bettie': 169, 'sudden': 1747, 'nude': 1217, 'iii': 886, 'taylor': 1786, '1950s': 8, 'icon': 879, 'neighborhood': 1188, 'changing': 293, 'fitting': 681, 'youbr': 1997, 'dynamic': 558, 'achieved': 42, 'shape': 1597, 'consists': 375, 'sketch': 1638, 'plastic': 1316, 'rush': 1530, 'hong': 856, 'haunted': 817, 'staying': 1702, 'colorful': 347, 'defeat': 470, 'morebr': 1154, 'tribute': 1865, 'luke': 1072, 'fay': 667, 'hal': 793, 'hartley': 814, 'choose': 314, 'duke': 555, 'anna': 98, 'helen': 827, 'elephant': 576, 'commit': 357, 'wicked': 1969, 'planning': 1314, 'propaganda': 1380, 'visuals': 1932, 'terrorist': 1801, 'ian': 877, 'roy': 1527, 'charisma': 299, '11': 0, 'spin': 1678, 'ned': 1185, 'aging': 62, 'spoof': 1687, 'urban': 1907, 'psychotic': 1393, 'implausible': 889, 'originality': 1248, 'cannibal': 261, 'tribe': 1864, 'bo': 189, 'hunter': 873, 'coincidence': 344, 'hip': 841, 'bathroom': 152, 'vague': 1915, 'teeth': 1794, 'justify': 978, 'sidekick': 1620, 'routine': 1525, 'court': 407, 'caused': 283, 'repetitive': 1470, 'shower': 1617, 'aimed': 64, 'handsome': 803, 'drink': 544, 'indie': 898, 'ego': 571, 'suffer': 1748, 'sally': 1541, 'pair': 1267, 'poverty': 1339, 'row': 1526, 'separate': 1581, 'complaint': 363, 'develops': 499, 'marvelous': 1095, 'segment': 1571, 'clint': 333, 'tomato': 1839, 'cuba': 434, 'reallife': 1430, 'triumph': 1869, 'learning': 1023, 'jake': 945, 'fortunately': 705, 'mature': 1105, 'wreck': 1993, 'staff': 1693, 'increasingly': 896, 'remembered': 1460, 'transition': 1855, 'felix': 670, 'keaton': 983, 'difficulty': 505, 'victoria': 1923, 'wizard': 1981, 'trite': 1868, 'powell': 1340, 'burton': 243, 'lucy': 1069, 'attempting': 129, 'emily': 583, 'shy': 1619, 'dawson': 463, 'adequate': 48, 'authentic': 135, 'gripping': 779, 'streisand': 1721, 'hitting': 846, 'mate': 1100, 'inept': 899, 'cardboard': 267, 'handled': 802, 'enter': 594, 'lazy': 1020, 'stanley': 1695, 'kubrick': 1000, 'appalling': 104, 'poster': 1337, 'core': 398, 'photo': 1298, 'distant': 526, 'placed': 1312, 'relies': 1454, 'aunt': 132, 'ritter': 1507, 'promising': 1377, 'packed': 1263, 'creep': 424, 'mafia': 1079, 'outcome': 1250, 'required': 1476, 'wwii': 1995, 'rochester': 1513, 'parody': 1276, 'estate': 607, 'brando': 209, 'menacing': 1117, 'werewolf': 1965, 'shelf': 1602, 'funeral': 727, 'hitler': 845, 'hbo': 819, 'lesbian': 1028, 'assistant': 120, 'guest': 788, 'menace': 1116, 'harder': 810, 'overrated': 1258, 'manhattan': 1086, 'photographed': 1299, 'selfish': 1572, 'stolen': 1711, 'brooklyn': 231, 'handful': 800, 'garden': 736, 'woody': 1984, 'relief': 1453, 'ninja': 1195, 'boxing': 205, 'chapter': 295, 'affect': 54, 'grey': 777, 'rolling': 1517, 'washington': 1950, 'noble': 1196, 'aforementioned': 56, 'insane': 909, 'regardless': 1445, 'politician': 1323, 'st': 1692, 'norman': 1204, 'sings': 1631, 'closely': 335, 'widow': 1972, 'vacation': 1914, 'kitchen': 994, 'sneak': 1651, 'twin': 1876, 'spoil': 1683, 'desert': 490, 'remaining': 1458, 'homer': 855, 'philosophy': 1297, 'chain': 289, 'restaurant': 1485, 'holly': 851, 'coherent': 343, 'heroic': 833, 'tall': 1780, 'sleazy': 1645, 'portrays': 1332, 'producing': 1371, 'carter': 276, 'smooth': 1649, 'hoped': 861, 'jet': 961, 'medical': 1111, 'rick': 1499, 'stupidity': 1735, 'karen': 980, 'fabulous': 647, 'nose': 1206, 'picking': 1303, 'fortune': 706, 'stealing': 1703, 'spoken': 1686, 'generous': 741, 'turkey': 1874, 'demand': 477, 'unintentional': 1894, 'meaningful': 1107, 'dan': 449, 'dislike': 524, 'arthur': 115, 'et': 608, 'bette': 167, 'empire': 586, 'ad': 45, 'ford': 696, 'devoted': 502, 'wing': 1975, 'chaplin': 294, 'meat': 1109, 'solely': 1658, 'arrive': 113, 'lincoln': 1040, 'greek': 775, 'resident': 1482, 'daring': 456, 'uniform': 1893, 'jesse': 958, 'bore': 200, 'roommate': 1520, 'structure': 1731, 'margaret': 1089, 'fighter': 672, 'africa': 57, 'davy': 461, 'talked': 1779, 'moore': 1153, 'clown': 341, 'exceptional': 620, 'captivating': 264, 'bully': 238, 'grandmother': 768, 'abc': 31, 'authority': 136, 'loosely': 1054, 'preview': 1355, 'shirt': 1608, 'luckily': 1067, 'sink': 1633, 'contrived': 387, 'korean': 999, 'hudson': 868, 'kirk': 992, 'thirty': 1814, 'wealthy': 1956, 'frustration': 724, 'shall': 1595, 'showcase': 1616, 'soprano': 1661, 'von': 1934, '1980s': 11, 'skit': 1640, 'web': 1957, 'locked': 1050, 'significant': 1622, 'sandler': 1544, 'logical': 1052, 'stanwyck': 1696, 'mann': 1087, 'denzel': 481, 'freeman': 718, 'suffered': 1749, 'imagery': 887, 'basement': 149, 'delivery': 476, 'valuable': 1916, 'carol': 272, 'imaginative': 888, 'flawless': 684, 'crush': 433, 'subplot': 1737, 'mild': 1130, 'dracula': 536, '2001': 14, 'bobby': 193, 'elvis': 579, 'miniseries': 1137, 'rat': 1423, 'michelle': 1126, 'warn': 1945, 'olivier': 1239, 'bite': 175, 'revolutionary': 1496, 'iron': 934, 'sadistic': 1537, 'che': 303, 'lawrence': 1017, 'elvira': 578, 'mildred': 1132, 'columbo': 349}\n"
          ]
        }
      ]
    },
    {
      "cell_type": "code",
      "source": [
        "!pip install nltk\n",
        "import nltk\n",
        "nltk.download('punkt')"
      ],
      "metadata": {
        "colab": {
          "base_uri": "https://localhost:8080/"
        },
        "id": "UfOdLkOIKjtd",
        "outputId": "0cf7d0b7-b442-4e49-af29-925aa07ebfa9"
      },
      "execution_count": 21,
      "outputs": [
        {
          "output_type": "stream",
          "name": "stdout",
          "text": [
            "Requirement already satisfied: nltk in /usr/local/lib/python3.10/dist-packages (3.8.1)\n",
            "Requirement already satisfied: click in /usr/local/lib/python3.10/dist-packages (from nltk) (8.1.7)\n",
            "Requirement already satisfied: joblib in /usr/local/lib/python3.10/dist-packages (from nltk) (1.3.2)\n",
            "Requirement already satisfied: regex>=2021.8.3 in /usr/local/lib/python3.10/dist-packages (from nltk) (2023.12.25)\n",
            "Requirement already satisfied: tqdm in /usr/local/lib/python3.10/dist-packages (from nltk) (4.66.1)\n"
          ]
        },
        {
          "output_type": "stream",
          "name": "stderr",
          "text": [
            "[nltk_data] Downloading package punkt to /root/nltk_data...\n",
            "[nltk_data]   Package punkt is already up-to-date!\n"
          ]
        },
        {
          "output_type": "execute_result",
          "data": {
            "text/plain": [
              "True"
            ]
          },
          "metadata": {},
          "execution_count": 21
        }
      ]
    },
    {
      "cell_type": "code",
      "source": [
        "import gensim"
      ],
      "metadata": {
        "id": "0pofGWUCKtvK"
      },
      "execution_count": 22,
      "outputs": []
    },
    {
      "cell_type": "code",
      "source": [
        "from nltk import sent_tokenize\n",
        "from gensim.utils import simple_preprocess\n",
        "!pip install nltk\n",
        "import nltk\n",
        "from nltk import sent_tokenize\n",
        "from nltk import simple_preprocess"
      ],
      "metadata": {
        "colab": {
          "base_uri": "https://localhost:8080/",
          "height": 473
        },
        "id": "yH_aEzTJKwjq",
        "outputId": "eb6fddb2-85d3-4b33-bd60-c2b7f45f8414"
      },
      "execution_count": 28,
      "outputs": [
        {
          "output_type": "stream",
          "name": "stdout",
          "text": [
            "Requirement already satisfied: nltk in /usr/local/lib/python3.10/dist-packages (3.8.1)\n",
            "Requirement already satisfied: click in /usr/local/lib/python3.10/dist-packages (from nltk) (8.1.7)\n",
            "Requirement already satisfied: joblib in /usr/local/lib/python3.10/dist-packages (from nltk) (1.3.2)\n",
            "Requirement already satisfied: regex>=2021.8.3 in /usr/local/lib/python3.10/dist-packages (from nltk) (2023.12.25)\n",
            "Requirement already satisfied: tqdm in /usr/local/lib/python3.10/dist-packages (from nltk) (4.66.1)\n"
          ]
        },
        {
          "output_type": "error",
          "ename": "ImportError",
          "evalue": "cannot import name 'simple_preprocess' from 'nltk' (/usr/local/lib/python3.10/dist-packages/nltk/__init__.py)",
          "traceback": [
            "\u001b[0;31m---------------------------------------------------------------------------\u001b[0m",
            "\u001b[0;31mImportError\u001b[0m                               Traceback (most recent call last)",
            "\u001b[0;32m<ipython-input-28-97818ca540ac>\u001b[0m in \u001b[0;36m<cell line: 6>\u001b[0;34m()\u001b[0m\n\u001b[1;32m      4\u001b[0m \u001b[0;32mimport\u001b[0m \u001b[0mnltk\u001b[0m\u001b[0;34m\u001b[0m\u001b[0;34m\u001b[0m\u001b[0m\n\u001b[1;32m      5\u001b[0m \u001b[0;32mfrom\u001b[0m \u001b[0mnltk\u001b[0m \u001b[0;32mimport\u001b[0m \u001b[0msent_tokenize\u001b[0m\u001b[0;34m\u001b[0m\u001b[0;34m\u001b[0m\u001b[0m\n\u001b[0;32m----> 6\u001b[0;31m \u001b[0;32mfrom\u001b[0m \u001b[0mnltk\u001b[0m \u001b[0;32mimport\u001b[0m \u001b[0msimple_preprocess\u001b[0m\u001b[0;34m\u001b[0m\u001b[0;34m\u001b[0m\u001b[0m\n\u001b[0m",
            "\u001b[0;31mImportError\u001b[0m: cannot import name 'simple_preprocess' from 'nltk' (/usr/local/lib/python3.10/dist-packages/nltk/__init__.py)",
            "",
            "\u001b[0;31m---------------------------------------------------------------------------\u001b[0;32m\nNOTE: If your import is failing due to a missing package, you can\nmanually install dependencies using either !pip or !apt.\n\nTo view examples of installing some common dependencies, click the\n\"Open Examples\" button below.\n\u001b[0;31m---------------------------------------------------------------------------\u001b[0m\n"
          ],
          "errorDetails": {
            "actions": [
              {
                "action": "open_url",
                "actionText": "Open Examples",
                "url": "/notebooks/snippets/importing_libraries.ipynb"
              }
            ]
          }
        }
      ]
    },
    {
      "cell_type": "code",
      "source": [
        "model = gensim.models.Word2Vec(\n",
        "    window=10,\n",
        "    min_count=2"
      ],
      "metadata": {
        "colab": {
          "base_uri": "https://localhost:8080/",
          "height": 141
        },
        "id": "RxekZ07PNiRP",
        "outputId": "8b7ee7d5-17ec-44bd-9c24-c30cdae6f548"
      },
      "execution_count": 26,
      "outputs": [
        {
          "output_type": "error",
          "ename": "SyntaxError",
          "evalue": "incomplete input (<ipython-input-26-a320c1cc880f>, line 3)",
          "traceback": [
            "\u001b[0;36m  File \u001b[0;32m\"<ipython-input-26-a320c1cc880f>\"\u001b[0;36m, line \u001b[0;32m3\u001b[0m\n\u001b[0;31m    min_count=2\u001b[0m\n\u001b[0m               ^\u001b[0m\n\u001b[0;31mSyntaxError\u001b[0m\u001b[0;31m:\u001b[0m incomplete input\n"
          ]
        }
      ]
    },
    {
      "cell_type": "code",
      "source": [],
      "metadata": {
        "id": "UFF11rRQNkcH"
      },
      "execution_count": null,
      "outputs": []
    }
  ],
  "metadata": {
    "colab": {
      "provenance": []
    },
    "kernelspec": {
      "display_name": "Python 3",
      "name": "python3"
    },
    "language_info": {
      "name": "python"
    }
  },
  "nbformat": 4,
  "nbformat_minor": 0
}